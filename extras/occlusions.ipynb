{
 "cells": [
  {
   "cell_type": "code",
   "execution_count": 1,
   "id": "fd22b16a-81bf-4de7-be65-7785ce4eca57",
   "metadata": {},
   "outputs": [],
   "source": [
    "import sys\n",
    "sys.path.append(\"..\")\n",
    "\n",
    "import matplotlib.pyplot as plt\n",
    "import numpy as np\n",
    "import ipywidgets as ipw\n",
    "\n",
    "from lib.dataset_wrapper import Dataset\n",
    "from lib import abx_utils\n",
    "from lib import notebooks"
   ]
  },
  {
   "cell_type": "code",
   "execution_count": 2,
   "id": "62f3d569-e785-4316-ab5b-34bb9beda77a",
   "metadata": {},
   "outputs": [],
   "source": [
    "DATASET_NAME = \"pb2007\"\n",
    "\n",
    "dataset = Dataset(DATASET_NAME)\n",
    "assert dataset.has_palate\n",
    "items_ema = dataset.get_items_data(\"ema\")"
   ]
  },
  {
   "cell_type": "code",
   "execution_count": 3,
   "id": "91e44a45-436b-40e1-af5c-26eac2c81963",
   "metadata": {},
   "outputs": [],
   "source": [
    "LIPS_CONSONANTS = [\"p\", \"b\"]\n",
    "TONGUE_CONSONANTS = [\"t\", \"d\", \"k\", \"g\"]\n",
    "TESTED_CONSONANTS = LIPS_CONSONANTS + TONGUE_CONSONANTS\n",
    "\n",
    "vowels = dataset.phones_infos[\"vowels\"]\n",
    "dataset_lab = {DATASET_NAME: dataset.lab}\n",
    "palate = dataset.palate"
   ]
  },
  {
   "cell_type": "code",
   "execution_count": 4,
   "id": "d6840078-ad8f-406d-a67c-f09a00d25dc2",
   "metadata": {},
   "outputs": [],
   "source": [
    "consonants_indexes = abx_utils.get_datasets_phones_indexes(\n",
    "    dataset_lab, TESTED_CONSONANTS, vowels\n",
    ")"
   ]
  },
  {
   "cell_type": "code",
   "execution_count": 5,
   "id": "dce3a093-425c-49c2-a9ef-0d8b7429e08d",
   "metadata": {},
   "outputs": [
    {
     "ename": "KeyError",
     "evalue": "'min_lips_frame'",
     "output_type": "error",
     "traceback": [
      "\u001b[0;31m---------------------------------------------------------------------------\u001b[0m",
      "\u001b[0;31mKeyError\u001b[0m                                  Traceback (most recent call last)",
      "\u001b[0;32m<ipython-input-5-97a9709d496a>\u001b[0m in \u001b[0;36m<module>\u001b[0;34m\u001b[0m\n\u001b[1;32m     24\u001b[0m \u001b[0;34m\u001b[0m\u001b[0m\n\u001b[1;32m     25\u001b[0m         \u001b[0mconsonant_metrics\u001b[0m\u001b[0;34m[\u001b[0m\u001b[0;34m\"min_lips_distance\"\u001b[0m\u001b[0;34m]\u001b[0m\u001b[0;34m.\u001b[0m\u001b[0mappend\u001b[0m\u001b[0;34m(\u001b[0m\u001b[0mmin_lips_distance\u001b[0m\u001b[0;34m)\u001b[0m\u001b[0;34m\u001b[0m\u001b[0;34m\u001b[0m\u001b[0m\n\u001b[0;32m---> 26\u001b[0;31m         \u001b[0mconsonant_metrics\u001b[0m\u001b[0;34m[\u001b[0m\u001b[0;34m\"min_lips_frame\"\u001b[0m\u001b[0;34m]\u001b[0m\u001b[0;34m.\u001b[0m\u001b[0mappend\u001b[0m\u001b[0;34m(\u001b[0m\u001b[0mmin_lips_frame\u001b[0m\u001b[0;34m)\u001b[0m\u001b[0;34m\u001b[0m\u001b[0;34m\u001b[0m\u001b[0m\n\u001b[0m\u001b[1;32m     27\u001b[0m         \u001b[0mconsonant_metrics\u001b[0m\u001b[0;34m[\u001b[0m\u001b[0;34m\"min_lips_ema\"\u001b[0m\u001b[0;34m]\u001b[0m\u001b[0;34m.\u001b[0m\u001b[0mappend\u001b[0m\u001b[0;34m(\u001b[0m\u001b[0mmin_lips_ema\u001b[0m\u001b[0;34m)\u001b[0m\u001b[0;34m\u001b[0m\u001b[0;34m\u001b[0m\u001b[0m\n\u001b[1;32m     28\u001b[0m \u001b[0;34m\u001b[0m\u001b[0m\n",
      "\u001b[0;31mKeyError\u001b[0m: 'min_lips_frame'"
     ]
    }
   ],
   "source": [
    "consonants_metrics = {}\n",
    "\n",
    "for consonant in TESTED_CONSONANTS:\n",
    "    consonant_metrics = {\n",
    "        \"min_lips_distance\": [],\n",
    "        \"min_lips_ema\": [],\n",
    "        \"min_tongue_tip_distance\": [],\n",
    "        \"min_tongue_tip_ema\": [],\n",
    "        \"min_tongue_mid_distance\": [],\n",
    "        \"min_tongue_mid_ema\": [],\n",
    "    }\n",
    "    consonants_metrics[consonant] = consonant_metrics\n",
    "    \n",
    "    for consonant_index in consonants_indexes[consonant]:\n",
    "        consonant_ema = items_ema[consonant_index[1]][consonant_index[2]]\n",
    "        nb_frames = len(consonant_ema)\n",
    "        \n",
    "        lower_lip_ema = consonant_ema[:, 8:10]\n",
    "        upper_lip_ema = consonant_ema[:, 10:12]\n",
    "        lips_distance = np.sqrt(np.sum((lower_lip_ema - upper_lip_ema) ** 2, axis=1))\n",
    "        min_lips_distance = lips_distance.min()\n",
    "        min_lips_frame = lips_distance.argmin()\n",
    "        min_lips_ema = consonant_ema[min_lips_frame]\n",
    "        \n",
    "        consonant_metrics[\"min_lips_distance\"].append(min_lips_distance)\n",
    "        consonant_metrics[\"min_lips_frame\"].append(min_lips_frame)\n",
    "        consonant_metrics[\"min_lips_ema\"].append(min_lips_ema)\n",
    "        \n",
    "        tongue_tip_ema = consonant_ema[:, 2:4]\n",
    "        tongue_mid_ema = consonant_ema[:, 4:6]\n",
    "        repeated_palate = np.tile(palate, (nb_frames, 1, 1))\n",
    "        \n",
    "        tongue_tip_distances = np.sqrt(((tongue_tip_ema[:, None, :] - repeated_palate) ** 2).sum(axis=-1))\n",
    "        min_tongue_tip_distance = tongue_tip_distances.min()\n",
    "        argmin_tongue_tip_distance = tongue_tip_distances.min(axis=1).argmin()\n",
    "        min_tongue_tip_ema = consonant_ema[argmin_tongue_tip_distance]\n",
    "        \n",
    "        consonant_metrics[\"min_tongue_tip_distance\"].append(min_tongue_tip_distance)\n",
    "        consonant_metrics[\"min_tongue_tip_ema\"].append(min_tongue_tip_ema)\n",
    "        \n",
    "        tongue_mid_distances = np.sqrt(((tongue_mid_ema[:, None, :] - repeated_palate) ** 2).sum(axis=-1))\n",
    "        min_tongue_mid_distance = tongue_mid_distances.min()\n",
    "        argmin_tongue_mid_distance = tongue_mid_distances.min(axis=1).argmin()\n",
    "        min_tongue_mid_ema = consonant_ema[argmin_tongue_mid_distance]\n",
    "        \n",
    "        consonant_metrics[\"min_tongue_mid_distance\"].append(min_tongue_mid_distance)\n",
    "        consonant_metrics[\"min_tongue_mid_ema\"].append(min_tongue_mid_ema)"
   ]
  },
  {
   "cell_type": "code",
   "execution_count": null,
   "id": "ca1f7bb3-b5c2-4bc3-bb9c-0b2658239ff4",
   "metadata": {},
   "outputs": [],
   "source": [
    "distances = [\"lips\", \"tongue_tip\", \"tongue_mid\"]\n",
    "\n",
    "def show_consonant(consonant):\n",
    "    consonant_metrics = consonants_metrics[consonant]\n",
    "    \n",
    "    plt.figure(dpi=120)\n",
    "    \n",
    "    for i_distance, distance in enumerate(distances):\n",
    "        distance_ema = np.array(consonant_metrics[\"min_%s_ema\" % distance])\n",
    "        ax = plt.subplot(3, 2, 1 + 2 * i_distance, aspect=\"equal\")\n",
    "        ax.plot(palate[:, 0], palate[:, 1])\n",
    "        ax.scatter(distance_ema[:, 0::2], distance_ema[:, 1::2], s=1)\n",
    "        \n",
    "        ax = plt.subplot(3, 2, 2 + 2 * i_distance)\n",
    "        ax.hist(consonant_metrics[\"min_%s_distance\" % distance])\n",
    "    \n",
    "    plt.tight_layout()\n",
    "    plt.show()\n",
    "\n",
    "ipw.interactive(show_consonant, consonant=TESTED_CONSONANTS)"
   ]
  },
  {
   "cell_type": "code",
   "execution_count": null,
   "id": "e8845869-051a-48fd-b0e8-302931c8aabf",
   "metadata": {},
   "outputs": [],
   "source": []
  }
 ],
 "metadata": {
  "kernelspec": {
   "display_name": "Python 3",
   "language": "python",
   "name": "python3"
  },
  "language_info": {
   "codemirror_mode": {
    "name": "ipython",
    "version": 3
   },
   "file_extension": ".py",
   "mimetype": "text/x-python",
   "name": "python",
   "nbconvert_exporter": "python",
   "pygments_lexer": "ipython3",
   "version": "3.7.5"
  }
 },
 "nbformat": 4,
 "nbformat_minor": 5
}
