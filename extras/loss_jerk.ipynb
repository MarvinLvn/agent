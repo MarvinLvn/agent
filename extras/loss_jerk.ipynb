{
 "cells": [
  {
   "cell_type": "code",
   "execution_count": 23,
   "id": "239b9245-b357-432e-9572-14534272e566",
   "metadata": {},
   "outputs": [],
   "source": [
    "import sys\n",
    "sys.path.append(\"..\")\n",
    "\n",
    "import matplotlib.pyplot as plt\n",
    "import numpy as np\n",
    "import ipywidgets as ipw\n",
    "import torch\n",
    "import torch.nn.functional as F\n",
    "\n",
    "from lib.dataset_wrapper import Dataset\n",
    "from lib.nn.jerk_loss import compute_jerk_loss\n",
    "from lib.notebooks import show_ema"
   ]
  },
  {
   "cell_type": "code",
   "execution_count": 24,
   "id": "33b28751-d126-4553-8bf3-dd184afe99b1",
   "metadata": {},
   "outputs": [],
   "source": [
    "DATASETS_NAME = [\"pb2007\", \"fsew0\", \"msak0\"]\n",
    "ART_TYPE = \"ema\""
   ]
  },
  {
   "cell_type": "code",
   "execution_count": 36,
   "id": "7b2e9f50-cb5b-4b02-937f-bb6bae4cdc8a",
   "metadata": {},
   "outputs": [],
   "source": [
    "def compute_jerk_loss(art_seqs, seqs_mask=None):\n",
    "    speed = torch.diff(art_seqs, dim=-2)\n",
    "    acc = torch.diff(speed, dim=-2)\n",
    "    jerk = torch.diff(acc, dim=-2)\n",
    "    if seqs_mask is not None:\n",
    "        jerk = jerk[seqs_mask[:, 3:]]\n",
    "    jerk_loss = (jerk ** 2).mean()    \n",
    "    return jerk_loss\n",
    "\n",
    "def compute_jerk_loss_2(art_seqs, seqs_mask=None):\n",
    "    jerk = torch.diff(art_seqs, n=3, dim=-2)\n",
    "    if seqs_mask is not None:\n",
    "        jerk = jerk[seqs_mask[:, 3:]]\n",
    "    jerk_loss = (jerk ** 2).mean()    \n",
    "    return jerk_loss"
   ]
  },
  {
   "cell_type": "code",
   "execution_count": 37,
   "id": "b9cbc6f5-6d16-4e22-b962-b6a3b750f4e1",
   "metadata": {},
   "outputs": [
    {
     "data": {
      "application/vnd.jupyter.widget-view+json": {
       "model_id": "0933cba10e6049d0afa1955811559436",
       "version_major": 2,
       "version_minor": 0
      },
      "text/plain": [
       "interactive(children=(Dropdown(description='dataset_name', options=('pb2007', 'fsew0', 'msak0'), value='pb2007…"
      ]
     },
     "metadata": {},
     "output_type": "display_data"
    }
   ],
   "source": [
    "def show_dataset(dataset_name):\n",
    "    dataset = Dataset(dataset_name)\n",
    "    items_name = dataset.get_items_list()\n",
    "    items_art = dataset.get_items_data(ART_TYPE, cut_silences=True)\n",
    "\n",
    "    def resynth_item(item_name):\n",
    "        item_art = items_art[item_name]\n",
    "        item_art = torch.FloatTensor(item_art)\n",
    "        jerk_loss = compute_jerk_loss(item_art)\n",
    "        print(jerk_loss)\n",
    "        jerk_loss = compute_jerk_loss_2(item_art)\n",
    "        print(jerk_loss)\n",
    "\n",
    "    display(ipw.interactive(resynth_item, item_name=items_name))\n",
    "\n",
    "display(ipw.interactive(show_dataset, dataset_name=DATASETS_NAME))"
   ]
  },
  {
   "cell_type": "code",
   "execution_count": 33,
   "id": "9bebe990-4589-4c1a-bf75-d1fca536c297",
   "metadata": {},
   "outputs": [
    {
     "data": {
      "application/vnd.jupyter.widget-view+json": {
       "model_id": "08a0f26608a04ee5be3f5b48f60af7f0",
       "version_major": 2,
       "version_minor": 0
      },
      "text/plain": [
       "interactive(children=(FloatSlider(value=1.0, description='ceil', max=2.0), FloatSlider(value=1.0, description=…"
      ]
     },
     "metadata": {},
     "output_type": "display_data"
    }
   ],
   "source": [
    "def test_relu(ceil, slope):\n",
    "    plt.figure()\n",
    "    ax = plt.subplot(aspect=\"equal\")\n",
    "    x = torch.arange(-10, 10)\n",
    "    y = F.relu(x - ceil) * slope\n",
    "    ax.plot(x, x)\n",
    "    ax.plot(x, y)\n",
    "    plt.show()\n",
    "\n",
    "ipw.interactive(test_relu, ceil=(0, 2.), slope=(0., 2.))"
   ]
  },
  {
   "cell_type": "code",
   "execution_count": null,
   "id": "d02042e8-0825-4602-9bcc-e4247fbaf65e",
   "metadata": {},
   "outputs": [],
   "source": []
  }
 ],
 "metadata": {
  "kernelspec": {
   "display_name": "Python 3",
   "language": "python",
   "name": "python3"
  },
  "language_info": {
   "codemirror_mode": {
    "name": "ipython",
    "version": 3
   },
   "file_extension": ".py",
   "mimetype": "text/x-python",
   "name": "python",
   "nbconvert_exporter": "python",
   "pygments_lexer": "ipython3",
   "version": "3.7.5"
  }
 },
 "nbformat": 4,
 "nbformat_minor": 5
}
