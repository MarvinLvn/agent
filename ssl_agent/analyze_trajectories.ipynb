{
 "cells": [
  {
   "cell_type": "code",
   "execution_count": 57,
   "id": "3d51f0bb-c8a9-45d5-b749-992c751da5ea",
   "metadata": {},
   "outputs": [
    {
     "name": "stdout",
     "output_type": "stream",
     "text": [
      "Already done\n"
     ]
    },
    {
     "name": "stderr",
     "output_type": "stream",
     "text": [
      "/home/engaclew/miniconda3/envs/agent/lib/python3.8/site-packages/huggingface_hub/file_download.py:1150: FutureWarning: `resume_download` is deprecated and will be removed in version 1.0.0. Downloads always resume when possible. If you want to force a new download, use `force_download=True`.\n",
      "  warnings.warn(\n"
     ]
    },
    {
     "name": "stdout",
     "output_type": "stream",
     "text": [
      "Removing weight norm...\n",
      "Transposing features to get [T,N] vectors.\n",
      "Interpolating from 83 to 82 for first item\n"
     ]
    },
    {
     "name": "stderr",
     "output_type": "stream",
     "text": [
      "/home/engaclew/miniconda3/envs/agent/lib/python3.8/site-packages/huggingface_hub/file_download.py:1150: FutureWarning: `resume_download` is deprecated and will be removed in version 1.0.0. Downloads always resume when possible. If you want to force a new download, use `force_download=True`.\n",
      "  warnings.warn(\n"
     ]
    },
    {
     "name": "stdout",
     "output_type": "stream",
     "text": [
      "Removing weight norm...\n",
      "Transposing features to get [T,N] vectors.\n",
      "Interpolating from 83 to 82 for first item\n"
     ]
    },
    {
     "name": "stderr",
     "output_type": "stream",
     "text": [
      "/home/engaclew/miniconda3/envs/agent/lib/python3.8/site-packages/huggingface_hub/file_download.py:1150: FutureWarning: `resume_download` is deprecated and will be removed in version 1.0.0. Downloads always resume when possible. If you want to force a new download, use `force_download=True`.\n",
      "  warnings.warn(\n"
     ]
    },
    {
     "name": "stdout",
     "output_type": "stream",
     "text": [
      "Removing weight norm...\n",
      "Transposing features to get [T,N] vectors.\n",
      "Interpolating from 83 to 82 for first item\n"
     ]
    },
    {
     "name": "stderr",
     "output_type": "stream",
     "text": [
      "/home/engaclew/miniconda3/envs/agent/lib/python3.8/site-packages/huggingface_hub/file_download.py:1150: FutureWarning: `resume_download` is deprecated and will be removed in version 1.0.0. Downloads always resume when possible. If you want to force a new download, use `force_download=True`.\n",
      "  warnings.warn(\n"
     ]
    },
    {
     "name": "stdout",
     "output_type": "stream",
     "text": [
      "Removing weight norm...\n",
      "Transposing features to get [T,N] vectors.\n",
      "Interpolating from 83 to 82 for first item\n"
     ]
    },
    {
     "name": "stderr",
     "output_type": "stream",
     "text": [
      "/home/engaclew/miniconda3/envs/agent/lib/python3.8/site-packages/huggingface_hub/file_download.py:1150: FutureWarning: `resume_download` is deprecated and will be removed in version 1.0.0. Downloads always resume when possible. If you want to force a new download, use `force_download=True`.\n",
      "  warnings.warn(\n"
     ]
    },
    {
     "name": "stdout",
     "output_type": "stream",
     "text": [
      "Removing weight norm...\n",
      "Transposing features to get [T,N] vectors.\n",
      "Interpolating from 83 to 82 for first item\n"
     ]
    },
    {
     "name": "stderr",
     "output_type": "stream",
     "text": [
      "/home/engaclew/miniconda3/envs/agent/lib/python3.8/site-packages/huggingface_hub/file_download.py:1150: FutureWarning: `resume_download` is deprecated and will be removed in version 1.0.0. Downloads always resume when possible. If you want to force a new download, use `force_download=True`.\n",
      "  warnings.warn(\n"
     ]
    },
    {
     "name": "stdout",
     "output_type": "stream",
     "text": [
      "Removing weight norm...\n",
      "Transposing features to get [T,N] vectors.\n",
      "Interpolating from 83 to 82 for first item\n"
     ]
    },
    {
     "name": "stderr",
     "output_type": "stream",
     "text": [
      "/home/engaclew/miniconda3/envs/agent/lib/python3.8/site-packages/huggingface_hub/file_download.py:1150: FutureWarning: `resume_download` is deprecated and will be removed in version 1.0.0. Downloads always resume when possible. If you want to force a new download, use `force_download=True`.\n",
      "  warnings.warn(\n"
     ]
    },
    {
     "name": "stdout",
     "output_type": "stream",
     "text": [
      "Removing weight norm...\n",
      "Transposing features to get [T,N] vectors.\n",
      "Interpolating from 83 to 82 for first item\n"
     ]
    },
    {
     "name": "stderr",
     "output_type": "stream",
     "text": [
      "/home/engaclew/miniconda3/envs/agent/lib/python3.8/site-packages/huggingface_hub/file_download.py:1150: FutureWarning: `resume_download` is deprecated and will be removed in version 1.0.0. Downloads always resume when possible. If you want to force a new download, use `force_download=True`.\n",
      "  warnings.warn(\n"
     ]
    },
    {
     "name": "stdout",
     "output_type": "stream",
     "text": [
      "Removing weight norm...\n",
      "Transposing features to get [T,N] vectors.\n",
      "Interpolating from 83 to 82 for first item\n"
     ]
    },
    {
     "name": "stderr",
     "output_type": "stream",
     "text": [
      "/home/engaclew/miniconda3/envs/agent/lib/python3.8/site-packages/huggingface_hub/file_download.py:1150: FutureWarning: `resume_download` is deprecated and will be removed in version 1.0.0. Downloads always resume when possible. If you want to force a new download, use `force_download=True`.\n",
      "  warnings.warn(\n"
     ]
    },
    {
     "name": "stdout",
     "output_type": "stream",
     "text": [
      "Removing weight norm...\n",
      "Transposing features to get [T,N] vectors.\n",
      "Interpolating from 83 to 82 for first item\n"
     ]
    },
    {
     "name": "stderr",
     "output_type": "stream",
     "text": [
      "/home/engaclew/miniconda3/envs/agent/lib/python3.8/site-packages/huggingface_hub/file_download.py:1150: FutureWarning: `resume_download` is deprecated and will be removed in version 1.0.0. Downloads always resume when possible. If you want to force a new download, use `force_download=True`.\n",
      "  warnings.warn(\n"
     ]
    },
    {
     "name": "stdout",
     "output_type": "stream",
     "text": [
      "Removing weight norm...\n",
      "Transposing features to get [T,N] vectors.\n",
      "Interpolating from 83 to 82 for first item\n"
     ]
    },
    {
     "name": "stderr",
     "output_type": "stream",
     "text": [
      "/home/engaclew/miniconda3/envs/agent/lib/python3.8/site-packages/huggingface_hub/file_download.py:1150: FutureWarning: `resume_download` is deprecated and will be removed in version 1.0.0. Downloads always resume when possible. If you want to force a new download, use `force_download=True`.\n",
      "  warnings.warn(\n"
     ]
    },
    {
     "name": "stdout",
     "output_type": "stream",
     "text": [
      "Removing weight norm...\n",
      "Transposing features to get [T,N] vectors.\n",
      "Interpolating from 83 to 82 for first item\n"
     ]
    },
    {
     "name": "stderr",
     "output_type": "stream",
     "text": [
      "/home/engaclew/miniconda3/envs/agent/lib/python3.8/site-packages/huggingface_hub/file_download.py:1150: FutureWarning: `resume_download` is deprecated and will be removed in version 1.0.0. Downloads always resume when possible. If you want to force a new download, use `force_download=True`.\n",
      "  warnings.warn(\n"
     ]
    },
    {
     "name": "stdout",
     "output_type": "stream",
     "text": [
      "Removing weight norm...\n",
      "Transposing features to get [T,N] vectors.\n",
      "Interpolating from 83 to 82 for first item\n"
     ]
    },
    {
     "name": "stderr",
     "output_type": "stream",
     "text": [
      "/home/engaclew/miniconda3/envs/agent/lib/python3.8/site-packages/huggingface_hub/file_download.py:1150: FutureWarning: `resume_download` is deprecated and will be removed in version 1.0.0. Downloads always resume when possible. If you want to force a new download, use `force_download=True`.\n",
      "  warnings.warn(\n"
     ]
    },
    {
     "name": "stdout",
     "output_type": "stream",
     "text": [
      "Removing weight norm...\n",
      "Transposing features to get [T,N] vectors.\n",
      "Interpolating from 83 to 82 for first item\n",
      "Removing weight norm...\n",
      "Transposing features to get [T,N] vectors.\n",
      "Interpolating from 48 to 49 for first item\n"
     ]
    },
    {
     "name": "stderr",
     "output_type": "stream",
     "text": [
      "/home/engaclew/miniconda3/envs/agent/lib/python3.8/site-packages/huggingface_hub/file_download.py:1150: FutureWarning: `resume_download` is deprecated and will be removed in version 1.0.0. Downloads always resume when possible. If you want to force a new download, use `force_download=True`.\n",
      "  warnings.warn(\n"
     ]
    },
    {
     "name": "stdout",
     "output_type": "stream",
     "text": [
      "Removing weight norm...\n",
      "Transposing features to get [T,N] vectors.\n",
      "Interpolating from 48 to 47 for first item\n"
     ]
    },
    {
     "name": "stderr",
     "output_type": "stream",
     "text": [
      "/home/engaclew/miniconda3/envs/agent/lib/python3.8/site-packages/huggingface_hub/file_download.py:1150: FutureWarning: `resume_download` is deprecated and will be removed in version 1.0.0. Downloads always resume when possible. If you want to force a new download, use `force_download=True`.\n",
      "  warnings.warn(\n"
     ]
    },
    {
     "name": "stdout",
     "output_type": "stream",
     "text": [
      "Removing weight norm...\n",
      "Transposing features to get [T,N] vectors.\n",
      "Interpolating from 48 to 47 for first item\n"
     ]
    },
    {
     "name": "stderr",
     "output_type": "stream",
     "text": [
      "/home/engaclew/miniconda3/envs/agent/lib/python3.8/site-packages/huggingface_hub/file_download.py:1150: FutureWarning: `resume_download` is deprecated and will be removed in version 1.0.0. Downloads always resume when possible. If you want to force a new download, use `force_download=True`.\n",
      "  warnings.warn(\n"
     ]
    },
    {
     "name": "stdout",
     "output_type": "stream",
     "text": [
      "Removing weight norm...\n",
      "Transposing features to get [T,N] vectors.\n",
      "Interpolating from 48 to 47 for first item\n"
     ]
    },
    {
     "name": "stderr",
     "output_type": "stream",
     "text": [
      "/home/engaclew/miniconda3/envs/agent/lib/python3.8/site-packages/huggingface_hub/file_download.py:1150: FutureWarning: `resume_download` is deprecated and will be removed in version 1.0.0. Downloads always resume when possible. If you want to force a new download, use `force_download=True`.\n",
      "  warnings.warn(\n"
     ]
    },
    {
     "name": "stdout",
     "output_type": "stream",
     "text": [
      "Removing weight norm...\n",
      "Transposing features to get [T,N] vectors.\n",
      "Interpolating from 48 to 47 for first item\n"
     ]
    },
    {
     "name": "stderr",
     "output_type": "stream",
     "text": [
      "/home/engaclew/miniconda3/envs/agent/lib/python3.8/site-packages/huggingface_hub/file_download.py:1150: FutureWarning: `resume_download` is deprecated and will be removed in version 1.0.0. Downloads always resume when possible. If you want to force a new download, use `force_download=True`.\n",
      "  warnings.warn(\n"
     ]
    },
    {
     "name": "stdout",
     "output_type": "stream",
     "text": [
      "Removing weight norm...\n",
      "Transposing features to get [T,N] vectors.\n",
      "Interpolating from 48 to 47 for first item\n"
     ]
    },
    {
     "name": "stderr",
     "output_type": "stream",
     "text": [
      "/home/engaclew/miniconda3/envs/agent/lib/python3.8/site-packages/huggingface_hub/file_download.py:1150: FutureWarning: `resume_download` is deprecated and will be removed in version 1.0.0. Downloads always resume when possible. If you want to force a new download, use `force_download=True`.\n",
      "  warnings.warn(\n"
     ]
    },
    {
     "name": "stdout",
     "output_type": "stream",
     "text": [
      "Removing weight norm...\n",
      "Transposing features to get [T,N] vectors.\n",
      "Interpolating from 48 to 47 for first item\n"
     ]
    },
    {
     "name": "stderr",
     "output_type": "stream",
     "text": [
      "/home/engaclew/miniconda3/envs/agent/lib/python3.8/site-packages/huggingface_hub/file_download.py:1150: FutureWarning: `resume_download` is deprecated and will be removed in version 1.0.0. Downloads always resume when possible. If you want to force a new download, use `force_download=True`.\n",
      "  warnings.warn(\n"
     ]
    },
    {
     "name": "stdout",
     "output_type": "stream",
     "text": [
      "Removing weight norm...\n",
      "Transposing features to get [T,N] vectors.\n",
      "Interpolating from 48 to 47 for first item\n"
     ]
    },
    {
     "name": "stderr",
     "output_type": "stream",
     "text": [
      "/home/engaclew/miniconda3/envs/agent/lib/python3.8/site-packages/huggingface_hub/file_download.py:1150: FutureWarning: `resume_download` is deprecated and will be removed in version 1.0.0. Downloads always resume when possible. If you want to force a new download, use `force_download=True`.\n",
      "  warnings.warn(\n"
     ]
    },
    {
     "name": "stdout",
     "output_type": "stream",
     "text": [
      "Removing weight norm...\n",
      "Transposing features to get [T,N] vectors.\n",
      "Interpolating from 48 to 47 for first item\n"
     ]
    },
    {
     "name": "stderr",
     "output_type": "stream",
     "text": [
      "/home/engaclew/miniconda3/envs/agent/lib/python3.8/site-packages/huggingface_hub/file_download.py:1150: FutureWarning: `resume_download` is deprecated and will be removed in version 1.0.0. Downloads always resume when possible. If you want to force a new download, use `force_download=True`.\n",
      "  warnings.warn(\n"
     ]
    },
    {
     "name": "stdout",
     "output_type": "stream",
     "text": [
      "Removing weight norm...\n",
      "Transposing features to get [T,N] vectors.\n",
      "Interpolating from 48 to 47 for first item\n"
     ]
    },
    {
     "name": "stderr",
     "output_type": "stream",
     "text": [
      "/home/engaclew/miniconda3/envs/agent/lib/python3.8/site-packages/huggingface_hub/file_download.py:1150: FutureWarning: `resume_download` is deprecated and will be removed in version 1.0.0. Downloads always resume when possible. If you want to force a new download, use `force_download=True`.\n",
      "  warnings.warn(\n"
     ]
    },
    {
     "name": "stdout",
     "output_type": "stream",
     "text": [
      "Removing weight norm...\n",
      "Transposing features to get [T,N] vectors.\n",
      "Interpolating from 48 to 47 for first item\n"
     ]
    },
    {
     "name": "stderr",
     "output_type": "stream",
     "text": [
      "/home/engaclew/miniconda3/envs/agent/lib/python3.8/site-packages/huggingface_hub/file_download.py:1150: FutureWarning: `resume_download` is deprecated and will be removed in version 1.0.0. Downloads always resume when possible. If you want to force a new download, use `force_download=True`.\n",
      "  warnings.warn(\n"
     ]
    },
    {
     "name": "stdout",
     "output_type": "stream",
     "text": [
      "Removing weight norm...\n",
      "Transposing features to get [T,N] vectors.\n",
      "Interpolating from 48 to 47 for first item\n"
     ]
    },
    {
     "name": "stderr",
     "output_type": "stream",
     "text": [
      "/home/engaclew/miniconda3/envs/agent/lib/python3.8/site-packages/huggingface_hub/file_download.py:1150: FutureWarning: `resume_download` is deprecated and will be removed in version 1.0.0. Downloads always resume when possible. If you want to force a new download, use `force_download=True`.\n",
      "  warnings.warn(\n"
     ]
    },
    {
     "name": "stdout",
     "output_type": "stream",
     "text": [
      "Removing weight norm...\n",
      "Transposing features to get [T,N] vectors.\n",
      "Interpolating from 48 to 47 for first item\n"
     ]
    },
    {
     "name": "stderr",
     "output_type": "stream",
     "text": [
      "/home/engaclew/miniconda3/envs/agent/lib/python3.8/site-packages/huggingface_hub/file_download.py:1150: FutureWarning: `resume_download` is deprecated and will be removed in version 1.0.0. Downloads always resume when possible. If you want to force a new download, use `force_download=True`.\n",
      "  warnings.warn(\n"
     ]
    },
    {
     "name": "stdout",
     "output_type": "stream",
     "text": [
      "Removing weight norm...\n",
      "Transposing features to get [T,N] vectors.\n",
      "Interpolating from 48 to 47 for first item\n",
      "Removing weight norm...\n",
      "Transposing features to get [T,N] vectors.\n",
      "Interpolating from 41 to 42 for first item\n"
     ]
    },
    {
     "name": "stderr",
     "output_type": "stream",
     "text": [
      "/home/engaclew/miniconda3/envs/agent/lib/python3.8/site-packages/huggingface_hub/file_download.py:1150: FutureWarning: `resume_download` is deprecated and will be removed in version 1.0.0. Downloads always resume when possible. If you want to force a new download, use `force_download=True`.\n",
      "  warnings.warn(\n"
     ]
    },
    {
     "name": "stdout",
     "output_type": "stream",
     "text": [
      "Removing weight norm...\n",
      "Transposing features to get [T,N] vectors.\n",
      "Interpolating from 41 to 40 for first item\n"
     ]
    },
    {
     "name": "stderr",
     "output_type": "stream",
     "text": [
      "/home/engaclew/miniconda3/envs/agent/lib/python3.8/site-packages/huggingface_hub/file_download.py:1150: FutureWarning: `resume_download` is deprecated and will be removed in version 1.0.0. Downloads always resume when possible. If you want to force a new download, use `force_download=True`.\n",
      "  warnings.warn(\n"
     ]
    },
    {
     "name": "stdout",
     "output_type": "stream",
     "text": [
      "Removing weight norm...\n",
      "Transposing features to get [T,N] vectors.\n",
      "Interpolating from 41 to 40 for first item\n"
     ]
    },
    {
     "name": "stderr",
     "output_type": "stream",
     "text": [
      "/home/engaclew/miniconda3/envs/agent/lib/python3.8/site-packages/huggingface_hub/file_download.py:1150: FutureWarning: `resume_download` is deprecated and will be removed in version 1.0.0. Downloads always resume when possible. If you want to force a new download, use `force_download=True`.\n",
      "  warnings.warn(\n"
     ]
    },
    {
     "name": "stdout",
     "output_type": "stream",
     "text": [
      "Removing weight norm...\n",
      "Transposing features to get [T,N] vectors.\n",
      "Interpolating from 41 to 40 for first item\n"
     ]
    },
    {
     "name": "stderr",
     "output_type": "stream",
     "text": [
      "/home/engaclew/miniconda3/envs/agent/lib/python3.8/site-packages/huggingface_hub/file_download.py:1150: FutureWarning: `resume_download` is deprecated and will be removed in version 1.0.0. Downloads always resume when possible. If you want to force a new download, use `force_download=True`.\n",
      "  warnings.warn(\n"
     ]
    },
    {
     "name": "stdout",
     "output_type": "stream",
     "text": [
      "Removing weight norm...\n",
      "Transposing features to get [T,N] vectors.\n",
      "Interpolating from 41 to 40 for first item\n"
     ]
    },
    {
     "name": "stderr",
     "output_type": "stream",
     "text": [
      "/home/engaclew/miniconda3/envs/agent/lib/python3.8/site-packages/huggingface_hub/file_download.py:1150: FutureWarning: `resume_download` is deprecated and will be removed in version 1.0.0. Downloads always resume when possible. If you want to force a new download, use `force_download=True`.\n",
      "  warnings.warn(\n"
     ]
    },
    {
     "name": "stdout",
     "output_type": "stream",
     "text": [
      "Removing weight norm...\n",
      "Transposing features to get [T,N] vectors.\n",
      "Interpolating from 41 to 40 for first item\n"
     ]
    },
    {
     "name": "stderr",
     "output_type": "stream",
     "text": [
      "/home/engaclew/miniconda3/envs/agent/lib/python3.8/site-packages/huggingface_hub/file_download.py:1150: FutureWarning: `resume_download` is deprecated and will be removed in version 1.0.0. Downloads always resume when possible. If you want to force a new download, use `force_download=True`.\n",
      "  warnings.warn(\n"
     ]
    },
    {
     "name": "stdout",
     "output_type": "stream",
     "text": [
      "Removing weight norm...\n",
      "Transposing features to get [T,N] vectors.\n",
      "Interpolating from 41 to 40 for first item\n"
     ]
    },
    {
     "name": "stderr",
     "output_type": "stream",
     "text": [
      "/home/engaclew/miniconda3/envs/agent/lib/python3.8/site-packages/huggingface_hub/file_download.py:1150: FutureWarning: `resume_download` is deprecated and will be removed in version 1.0.0. Downloads always resume when possible. If you want to force a new download, use `force_download=True`.\n",
      "  warnings.warn(\n"
     ]
    },
    {
     "name": "stdout",
     "output_type": "stream",
     "text": [
      "Removing weight norm...\n",
      "Transposing features to get [T,N] vectors.\n",
      "Interpolating from 41 to 40 for first item\n"
     ]
    },
    {
     "name": "stderr",
     "output_type": "stream",
     "text": [
      "/home/engaclew/miniconda3/envs/agent/lib/python3.8/site-packages/huggingface_hub/file_download.py:1150: FutureWarning: `resume_download` is deprecated and will be removed in version 1.0.0. Downloads always resume when possible. If you want to force a new download, use `force_download=True`.\n",
      "  warnings.warn(\n"
     ]
    },
    {
     "name": "stdout",
     "output_type": "stream",
     "text": [
      "Removing weight norm...\n",
      "Transposing features to get [T,N] vectors.\n",
      "Interpolating from 41 to 40 for first item\n"
     ]
    },
    {
     "name": "stderr",
     "output_type": "stream",
     "text": [
      "/home/engaclew/miniconda3/envs/agent/lib/python3.8/site-packages/huggingface_hub/file_download.py:1150: FutureWarning: `resume_download` is deprecated and will be removed in version 1.0.0. Downloads always resume when possible. If you want to force a new download, use `force_download=True`.\n",
      "  warnings.warn(\n"
     ]
    },
    {
     "name": "stdout",
     "output_type": "stream",
     "text": [
      "Removing weight norm...\n",
      "Transposing features to get [T,N] vectors.\n",
      "Interpolating from 41 to 40 for first item\n"
     ]
    },
    {
     "name": "stderr",
     "output_type": "stream",
     "text": [
      "/home/engaclew/miniconda3/envs/agent/lib/python3.8/site-packages/huggingface_hub/file_download.py:1150: FutureWarning: `resume_download` is deprecated and will be removed in version 1.0.0. Downloads always resume when possible. If you want to force a new download, use `force_download=True`.\n",
      "  warnings.warn(\n"
     ]
    },
    {
     "name": "stdout",
     "output_type": "stream",
     "text": [
      "Removing weight norm...\n",
      "Transposing features to get [T,N] vectors.\n",
      "Interpolating from 41 to 40 for first item\n"
     ]
    },
    {
     "name": "stderr",
     "output_type": "stream",
     "text": [
      "/home/engaclew/miniconda3/envs/agent/lib/python3.8/site-packages/huggingface_hub/file_download.py:1150: FutureWarning: `resume_download` is deprecated and will be removed in version 1.0.0. Downloads always resume when possible. If you want to force a new download, use `force_download=True`.\n",
      "  warnings.warn(\n"
     ]
    },
    {
     "name": "stdout",
     "output_type": "stream",
     "text": [
      "Removing weight norm...\n",
      "Transposing features to get [T,N] vectors.\n",
      "Interpolating from 41 to 40 for first item\n"
     ]
    },
    {
     "name": "stderr",
     "output_type": "stream",
     "text": [
      "/home/engaclew/miniconda3/envs/agent/lib/python3.8/site-packages/huggingface_hub/file_download.py:1150: FutureWarning: `resume_download` is deprecated and will be removed in version 1.0.0. Downloads always resume when possible. If you want to force a new download, use `force_download=True`.\n",
      "  warnings.warn(\n"
     ]
    },
    {
     "name": "stdout",
     "output_type": "stream",
     "text": [
      "Removing weight norm...\n",
      "Transposing features to get [T,N] vectors.\n",
      "Interpolating from 41 to 40 for first item\n"
     ]
    },
    {
     "name": "stderr",
     "output_type": "stream",
     "text": [
      "/home/engaclew/miniconda3/envs/agent/lib/python3.8/site-packages/huggingface_hub/file_download.py:1150: FutureWarning: `resume_download` is deprecated and will be removed in version 1.0.0. Downloads always resume when possible. If you want to force a new download, use `force_download=True`.\n",
      "  warnings.warn(\n"
     ]
    },
    {
     "name": "stdout",
     "output_type": "stream",
     "text": [
      "Removing weight norm...\n",
      "Transposing features to get [T,N] vectors.\n",
      "Interpolating from 41 to 40 for first item\n",
      "Removing weight norm...\n",
      "Transposing features to get [T,N] vectors.\n",
      "Interpolating from 51 to 52 for first item\n"
     ]
    },
    {
     "name": "stderr",
     "output_type": "stream",
     "text": [
      "/home/engaclew/miniconda3/envs/agent/lib/python3.8/site-packages/huggingface_hub/file_download.py:1150: FutureWarning: `resume_download` is deprecated and will be removed in version 1.0.0. Downloads always resume when possible. If you want to force a new download, use `force_download=True`.\n",
      "  warnings.warn(\n"
     ]
    },
    {
     "name": "stdout",
     "output_type": "stream",
     "text": [
      "Removing weight norm...\n",
      "Transposing features to get [T,N] vectors.\n",
      "Interpolating from 51 to 50 for first item\n"
     ]
    },
    {
     "name": "stderr",
     "output_type": "stream",
     "text": [
      "/home/engaclew/miniconda3/envs/agent/lib/python3.8/site-packages/huggingface_hub/file_download.py:1150: FutureWarning: `resume_download` is deprecated and will be removed in version 1.0.0. Downloads always resume when possible. If you want to force a new download, use `force_download=True`.\n",
      "  warnings.warn(\n"
     ]
    },
    {
     "name": "stdout",
     "output_type": "stream",
     "text": [
      "Removing weight norm...\n",
      "Transposing features to get [T,N] vectors.\n",
      "Interpolating from 51 to 50 for first item\n"
     ]
    },
    {
     "name": "stderr",
     "output_type": "stream",
     "text": [
      "/home/engaclew/miniconda3/envs/agent/lib/python3.8/site-packages/huggingface_hub/file_download.py:1150: FutureWarning: `resume_download` is deprecated and will be removed in version 1.0.0. Downloads always resume when possible. If you want to force a new download, use `force_download=True`.\n",
      "  warnings.warn(\n"
     ]
    },
    {
     "name": "stdout",
     "output_type": "stream",
     "text": [
      "Removing weight norm...\n",
      "Transposing features to get [T,N] vectors.\n",
      "Interpolating from 51 to 50 for first item\n"
     ]
    },
    {
     "name": "stderr",
     "output_type": "stream",
     "text": [
      "/home/engaclew/miniconda3/envs/agent/lib/python3.8/site-packages/huggingface_hub/file_download.py:1150: FutureWarning: `resume_download` is deprecated and will be removed in version 1.0.0. Downloads always resume when possible. If you want to force a new download, use `force_download=True`.\n",
      "  warnings.warn(\n"
     ]
    },
    {
     "name": "stdout",
     "output_type": "stream",
     "text": [
      "Removing weight norm...\n",
      "Transposing features to get [T,N] vectors.\n",
      "Interpolating from 51 to 50 for first item\n"
     ]
    },
    {
     "name": "stderr",
     "output_type": "stream",
     "text": [
      "/home/engaclew/miniconda3/envs/agent/lib/python3.8/site-packages/huggingface_hub/file_download.py:1150: FutureWarning: `resume_download` is deprecated and will be removed in version 1.0.0. Downloads always resume when possible. If you want to force a new download, use `force_download=True`.\n",
      "  warnings.warn(\n"
     ]
    },
    {
     "name": "stdout",
     "output_type": "stream",
     "text": [
      "Removing weight norm...\n",
      "Transposing features to get [T,N] vectors.\n",
      "Interpolating from 51 to 50 for first item\n"
     ]
    },
    {
     "name": "stderr",
     "output_type": "stream",
     "text": [
      "/home/engaclew/miniconda3/envs/agent/lib/python3.8/site-packages/huggingface_hub/file_download.py:1150: FutureWarning: `resume_download` is deprecated and will be removed in version 1.0.0. Downloads always resume when possible. If you want to force a new download, use `force_download=True`.\n",
      "  warnings.warn(\n"
     ]
    },
    {
     "name": "stdout",
     "output_type": "stream",
     "text": [
      "Removing weight norm...\n",
      "Transposing features to get [T,N] vectors.\n",
      "Interpolating from 51 to 50 for first item\n"
     ]
    },
    {
     "name": "stderr",
     "output_type": "stream",
     "text": [
      "/home/engaclew/miniconda3/envs/agent/lib/python3.8/site-packages/huggingface_hub/file_download.py:1150: FutureWarning: `resume_download` is deprecated and will be removed in version 1.0.0. Downloads always resume when possible. If you want to force a new download, use `force_download=True`.\n",
      "  warnings.warn(\n"
     ]
    },
    {
     "name": "stdout",
     "output_type": "stream",
     "text": [
      "Removing weight norm...\n",
      "Transposing features to get [T,N] vectors.\n",
      "Interpolating from 51 to 50 for first item\n"
     ]
    },
    {
     "name": "stderr",
     "output_type": "stream",
     "text": [
      "/home/engaclew/miniconda3/envs/agent/lib/python3.8/site-packages/huggingface_hub/file_download.py:1150: FutureWarning: `resume_download` is deprecated and will be removed in version 1.0.0. Downloads always resume when possible. If you want to force a new download, use `force_download=True`.\n",
      "  warnings.warn(\n"
     ]
    },
    {
     "name": "stdout",
     "output_type": "stream",
     "text": [
      "Removing weight norm...\n",
      "Transposing features to get [T,N] vectors.\n",
      "Interpolating from 51 to 50 for first item\n"
     ]
    },
    {
     "name": "stderr",
     "output_type": "stream",
     "text": [
      "/home/engaclew/miniconda3/envs/agent/lib/python3.8/site-packages/huggingface_hub/file_download.py:1150: FutureWarning: `resume_download` is deprecated and will be removed in version 1.0.0. Downloads always resume when possible. If you want to force a new download, use `force_download=True`.\n",
      "  warnings.warn(\n"
     ]
    },
    {
     "name": "stdout",
     "output_type": "stream",
     "text": [
      "Removing weight norm...\n",
      "Transposing features to get [T,N] vectors.\n",
      "Interpolating from 51 to 50 for first item\n"
     ]
    },
    {
     "name": "stderr",
     "output_type": "stream",
     "text": [
      "/home/engaclew/miniconda3/envs/agent/lib/python3.8/site-packages/huggingface_hub/file_download.py:1150: FutureWarning: `resume_download` is deprecated and will be removed in version 1.0.0. Downloads always resume when possible. If you want to force a new download, use `force_download=True`.\n",
      "  warnings.warn(\n"
     ]
    },
    {
     "name": "stdout",
     "output_type": "stream",
     "text": [
      "Removing weight norm...\n",
      "Transposing features to get [T,N] vectors.\n",
      "Interpolating from 51 to 50 for first item\n"
     ]
    },
    {
     "name": "stderr",
     "output_type": "stream",
     "text": [
      "/home/engaclew/miniconda3/envs/agent/lib/python3.8/site-packages/huggingface_hub/file_download.py:1150: FutureWarning: `resume_download` is deprecated and will be removed in version 1.0.0. Downloads always resume when possible. If you want to force a new download, use `force_download=True`.\n",
      "  warnings.warn(\n"
     ]
    },
    {
     "name": "stdout",
     "output_type": "stream",
     "text": [
      "Removing weight norm...\n",
      "Transposing features to get [T,N] vectors.\n",
      "Interpolating from 51 to 50 for first item\n"
     ]
    },
    {
     "name": "stderr",
     "output_type": "stream",
     "text": [
      "/home/engaclew/miniconda3/envs/agent/lib/python3.8/site-packages/huggingface_hub/file_download.py:1150: FutureWarning: `resume_download` is deprecated and will be removed in version 1.0.0. Downloads always resume when possible. If you want to force a new download, use `force_download=True`.\n",
      "  warnings.warn(\n"
     ]
    },
    {
     "name": "stdout",
     "output_type": "stream",
     "text": [
      "Removing weight norm...\n",
      "Transposing features to get [T,N] vectors.\n",
      "Interpolating from 51 to 50 for first item\n"
     ]
    },
    {
     "name": "stderr",
     "output_type": "stream",
     "text": [
      "/home/engaclew/miniconda3/envs/agent/lib/python3.8/site-packages/huggingface_hub/file_download.py:1150: FutureWarning: `resume_download` is deprecated and will be removed in version 1.0.0. Downloads always resume when possible. If you want to force a new download, use `force_download=True`.\n",
      "  warnings.warn(\n"
     ]
    },
    {
     "name": "stdout",
     "output_type": "stream",
     "text": [
      "Removing weight norm...\n",
      "Transposing features to get [T,N] vectors.\n",
      "Interpolating from 51 to 50 for first item\n",
      "Removing weight norm...\n",
      "Transposing features to get [T,N] vectors.\n",
      "Interpolating from 155 to 156 for first item\n"
     ]
    },
    {
     "name": "stderr",
     "output_type": "stream",
     "text": [
      "/home/engaclew/miniconda3/envs/agent/lib/python3.8/site-packages/huggingface_hub/file_download.py:1150: FutureWarning: `resume_download` is deprecated and will be removed in version 1.0.0. Downloads always resume when possible. If you want to force a new download, use `force_download=True`.\n",
      "  warnings.warn(\n"
     ]
    },
    {
     "name": "stdout",
     "output_type": "stream",
     "text": [
      "Removing weight norm...\n",
      "Transposing features to get [T,N] vectors.\n",
      "Interpolating from 155 to 154 for first item\n"
     ]
    },
    {
     "name": "stderr",
     "output_type": "stream",
     "text": [
      "/home/engaclew/miniconda3/envs/agent/lib/python3.8/site-packages/huggingface_hub/file_download.py:1150: FutureWarning: `resume_download` is deprecated and will be removed in version 1.0.0. Downloads always resume when possible. If you want to force a new download, use `force_download=True`.\n",
      "  warnings.warn(\n"
     ]
    },
    {
     "name": "stdout",
     "output_type": "stream",
     "text": [
      "Removing weight norm...\n",
      "Transposing features to get [T,N] vectors.\n",
      "Interpolating from 155 to 154 for first item\n"
     ]
    },
    {
     "name": "stderr",
     "output_type": "stream",
     "text": [
      "/home/engaclew/miniconda3/envs/agent/lib/python3.8/site-packages/huggingface_hub/file_download.py:1150: FutureWarning: `resume_download` is deprecated and will be removed in version 1.0.0. Downloads always resume when possible. If you want to force a new download, use `force_download=True`.\n",
      "  warnings.warn(\n"
     ]
    },
    {
     "name": "stdout",
     "output_type": "stream",
     "text": [
      "Removing weight norm...\n",
      "Transposing features to get [T,N] vectors.\n",
      "Interpolating from 155 to 154 for first item\n"
     ]
    },
    {
     "name": "stderr",
     "output_type": "stream",
     "text": [
      "/home/engaclew/miniconda3/envs/agent/lib/python3.8/site-packages/huggingface_hub/file_download.py:1150: FutureWarning: `resume_download` is deprecated and will be removed in version 1.0.0. Downloads always resume when possible. If you want to force a new download, use `force_download=True`.\n",
      "  warnings.warn(\n"
     ]
    },
    {
     "name": "stdout",
     "output_type": "stream",
     "text": [
      "Removing weight norm...\n",
      "Transposing features to get [T,N] vectors.\n",
      "Interpolating from 155 to 154 for first item\n"
     ]
    },
    {
     "name": "stderr",
     "output_type": "stream",
     "text": [
      "/home/engaclew/miniconda3/envs/agent/lib/python3.8/site-packages/huggingface_hub/file_download.py:1150: FutureWarning: `resume_download` is deprecated and will be removed in version 1.0.0. Downloads always resume when possible. If you want to force a new download, use `force_download=True`.\n",
      "  warnings.warn(\n"
     ]
    },
    {
     "name": "stdout",
     "output_type": "stream",
     "text": [
      "Removing weight norm...\n",
      "Transposing features to get [T,N] vectors.\n",
      "Interpolating from 155 to 154 for first item\n"
     ]
    },
    {
     "name": "stderr",
     "output_type": "stream",
     "text": [
      "/home/engaclew/miniconda3/envs/agent/lib/python3.8/site-packages/huggingface_hub/file_download.py:1150: FutureWarning: `resume_download` is deprecated and will be removed in version 1.0.0. Downloads always resume when possible. If you want to force a new download, use `force_download=True`.\n",
      "  warnings.warn(\n"
     ]
    },
    {
     "name": "stdout",
     "output_type": "stream",
     "text": [
      "Removing weight norm...\n",
      "Transposing features to get [T,N] vectors.\n",
      "Interpolating from 155 to 154 for first item\n"
     ]
    },
    {
     "name": "stderr",
     "output_type": "stream",
     "text": [
      "/home/engaclew/miniconda3/envs/agent/lib/python3.8/site-packages/huggingface_hub/file_download.py:1150: FutureWarning: `resume_download` is deprecated and will be removed in version 1.0.0. Downloads always resume when possible. If you want to force a new download, use `force_download=True`.\n",
      "  warnings.warn(\n"
     ]
    },
    {
     "name": "stdout",
     "output_type": "stream",
     "text": [
      "Removing weight norm...\n",
      "Transposing features to get [T,N] vectors.\n",
      "Interpolating from 155 to 154 for first item\n"
     ]
    },
    {
     "name": "stderr",
     "output_type": "stream",
     "text": [
      "/home/engaclew/miniconda3/envs/agent/lib/python3.8/site-packages/huggingface_hub/file_download.py:1150: FutureWarning: `resume_download` is deprecated and will be removed in version 1.0.0. Downloads always resume when possible. If you want to force a new download, use `force_download=True`.\n",
      "  warnings.warn(\n"
     ]
    },
    {
     "name": "stdout",
     "output_type": "stream",
     "text": [
      "Removing weight norm...\n",
      "Transposing features to get [T,N] vectors.\n",
      "Interpolating from 155 to 154 for first item\n"
     ]
    },
    {
     "name": "stderr",
     "output_type": "stream",
     "text": [
      "/home/engaclew/miniconda3/envs/agent/lib/python3.8/site-packages/huggingface_hub/file_download.py:1150: FutureWarning: `resume_download` is deprecated and will be removed in version 1.0.0. Downloads always resume when possible. If you want to force a new download, use `force_download=True`.\n",
      "  warnings.warn(\n"
     ]
    },
    {
     "name": "stdout",
     "output_type": "stream",
     "text": [
      "Removing weight norm...\n",
      "Transposing features to get [T,N] vectors.\n",
      "Interpolating from 155 to 154 for first item\n"
     ]
    },
    {
     "name": "stderr",
     "output_type": "stream",
     "text": [
      "/home/engaclew/miniconda3/envs/agent/lib/python3.8/site-packages/huggingface_hub/file_download.py:1150: FutureWarning: `resume_download` is deprecated and will be removed in version 1.0.0. Downloads always resume when possible. If you want to force a new download, use `force_download=True`.\n",
      "  warnings.warn(\n"
     ]
    },
    {
     "name": "stdout",
     "output_type": "stream",
     "text": [
      "Removing weight norm...\n",
      "Transposing features to get [T,N] vectors.\n",
      "Interpolating from 155 to 154 for first item\n"
     ]
    },
    {
     "name": "stderr",
     "output_type": "stream",
     "text": [
      "/home/engaclew/miniconda3/envs/agent/lib/python3.8/site-packages/huggingface_hub/file_download.py:1150: FutureWarning: `resume_download` is deprecated and will be removed in version 1.0.0. Downloads always resume when possible. If you want to force a new download, use `force_download=True`.\n",
      "  warnings.warn(\n"
     ]
    },
    {
     "name": "stdout",
     "output_type": "stream",
     "text": [
      "Removing weight norm...\n",
      "Transposing features to get [T,N] vectors.\n",
      "Interpolating from 155 to 154 for first item\n"
     ]
    },
    {
     "name": "stderr",
     "output_type": "stream",
     "text": [
      "/home/engaclew/miniconda3/envs/agent/lib/python3.8/site-packages/huggingface_hub/file_download.py:1150: FutureWarning: `resume_download` is deprecated and will be removed in version 1.0.0. Downloads always resume when possible. If you want to force a new download, use `force_download=True`.\n",
      "  warnings.warn(\n"
     ]
    },
    {
     "name": "stdout",
     "output_type": "stream",
     "text": [
      "Removing weight norm...\n",
      "Transposing features to get [T,N] vectors.\n",
      "Interpolating from 155 to 154 for first item\n"
     ]
    },
    {
     "name": "stderr",
     "output_type": "stream",
     "text": [
      "/home/engaclew/miniconda3/envs/agent/lib/python3.8/site-packages/huggingface_hub/file_download.py:1150: FutureWarning: `resume_download` is deprecated and will be removed in version 1.0.0. Downloads always resume when possible. If you want to force a new download, use `force_download=True`.\n",
      "  warnings.warn(\n"
     ]
    },
    {
     "name": "stdout",
     "output_type": "stream",
     "text": [
      "Removing weight norm...\n",
      "Transposing features to get [T,N] vectors.\n",
      "Interpolating from 155 to 154 for first item\n"
     ]
    }
   ],
   "source": [
    "%matplotlib inline\n",
    "from pathlib import Path\n",
    "import pickle\n",
    "import matplotlib.pyplot as plt\n",
    "import numpy as np\n",
    "from ssl_agent.ssl_agent import SSLAgent\n",
    "from lib.dataset_wrapper import Dataset\n",
    "import torch\n",
    "import pandas as pd\n",
    "import scipy\n",
    "\n",
    "agent_folder = Path('../out/ssl_agent/cosine')\n",
    "def compute_art_pcc(agent_path):\n",
    "    save_path = agent_path / 'results' / 'test_pcc.csv'\n",
    "    save_path.parent.mkdir(exist_ok=True)\n",
    "\n",
    "    if not save_path.is_file():\n",
    "        agent = SSLAgent.reload(str(agent_path))\n",
    "        labels = ['JH', 'TB', 'TD', 'TT', 'LP', 'LH']\n",
    "        dataset_name = agent.config['dataset']['name']\n",
    "        dataset = Dataset(dataset_name)\n",
    "        items_name = agent.datasplits[2]\n",
    "        items_sound = dataset.get_items_data(agent.config['dataset']['sound_type'], cut_silences=True, format='.wav')\n",
    "        items_source = dataset.get_items_data(agent.config['dataset']['source_type'], cut_silences=True, format='.npy')\n",
    "        items_art = dataset.get_items_data('art_params', cut_silences=True, format='.npy')\n",
    "\n",
    "        art_params = []\n",
    "        art_params_hat = []\n",
    "        for i, item_name in enumerate(items_name):\n",
    "            item_sound = items_sound[item_name]\n",
    "            item_source = items_source[item_name]\n",
    "            out = agent.repeat(item_sound, item_source)\n",
    "            art_estimated = agent.synthesizer.art_scaler.inverse_transform(out['art_estimated'])\n",
    "            art_real = items_art[item_name]\n",
    "            if i == 0:\n",
    "                print(f'Interpolating from {art_real.shape[0]} to {art_estimated.shape[0]} for first item')\n",
    "            art_real = torch.FloatTensor(art_real[None, :, :])\n",
    "            art_real = torch.nn.functional.interpolate(torch.FloatTensor(art_real).permute(0, 2, 1), size=art_estimated.shape[0]).permute(0, 2, 1)[0].numpy()\n",
    "            if art_real.shape != art_estimated.shape:\n",
    "                print(f\"Inferred and gold articulatory trajectories should be the same size.  Got {art_real.shape} for gold trajectories and {art_estimated.shape} for estimated ones.\")\n",
    "                break\n",
    "            art_params.append(art_real)\n",
    "            art_params_hat.append(art_estimated)\n",
    "        \n",
    "        art_params = np.concatenate(art_params, axis=0)\n",
    "        art_params_hat = np.concatenate(art_params_hat, axis=0)\n",
    "        \n",
    "        pcc = {l: scipy.stats.pearsonr(art_params[:,i], art_params_hat[:,i])[0] for i, l in enumerate(labels)}\n",
    "        pcc['ave'] = np.mean(list(pcc.values()))\n",
    "        out = pd.DataFrame.from_dict([pcc])\n",
    "        out.to_csv(save_path, index=False)\n",
    "    else:\n",
    "        print(\"Already done\")\n",
    "\n",
    "# Compute cosine agents (MFCC and wav2vec 2.0)\n",
    "for seed in range(0, 5):\n",
    "    compute_art_pcc(agent_folder / f'mfcc_delta_delta2_cosine_seed_{seed}')\n",
    "    for i in range(0, 13):\n",
    "        agent_name = f'test_layer_{i}_cosine_seed_{seed}'\n",
    "        agent_path = agent_folder / agent_name\n",
    "        compute_art_pcc(agent_path)"
   ]
  },
  {
   "cell_type": "code",
   "execution_count": 62,
   "id": "5547b15a-3d55-4654-9e26-83817e9815b8",
   "metadata": {},
   "outputs": [],
   "source": [
    "# Load MFCC agent\n",
    "baseline_cosine = {'mfcc_agent': {}}\n",
    "for seed in range(0, 5):\n",
    "    agent_name = f'mfcc_delta_delta2_cosine_seed_{seed}'\n",
    "    agent_path = agent_folder / agent_name / 'results' / 'test_pcc.csv'\n",
    "    res = pd.read_csv(agent_path).to_dict('list')\n",
    "    res = {k:v[0] for k, v in res.items()}\n",
    "    for k, v in res.items():\n",
    "        if k in baseline_cosine['mfcc_agent']:\n",
    "            baseline_cosine['mfcc_agent'][k].append(v)\n",
    "        else:\n",
    "            baseline_cosine['mfcc_agent'][k] = [v]\n",
    "\n",
    "# Load wav2vec 2.0 agent\n",
    "w2v_cosine = {f'ssl_agent_layer_{i}':{} for i in range(0,13)}\n",
    "for seed in range(0, 5):\n",
    "    for i in range(0, 13):\n",
    "        agent_name = f'test_layer_{i}_cosine_seed_{seed}'\n",
    "        agent_path = agent_folder / agent_name / 'results' / 'test_pcc.csv'\n",
    "        res = pd.read_csv(agent_path).to_dict('list')\n",
    "        res = {k:v[0] for k, v in res.items()}\n",
    "        for k, v in res.items():\n",
    "            if k in w2v_cosine[f'ssl_agent_layer_{i}']:\n",
    "                w2v_cosine[f'ssl_agent_layer_{i}'][k].append(v)\n",
    "            else:\n",
    "                w2v_cosine[f'ssl_agent_layer_{i}'][k] = [v]     "
   ]
  },
  {
   "cell_type": "code",
   "execution_count": 61,
   "id": "66c9ea9a-d12e-482c-a225-76c43f783eab",
   "metadata": {},
   "outputs": [
    {
     "name": "stdout",
     "output_type": "stream",
     "text": [
      "{'ssl_agent_layer_0': {'place_art_estimated': [62.641666666666666, 61.775000000000006, 62.60833333333333, 63.075, 65.28333333333333], 'manner_art_estimated': [83.52000000000001, 84.45, 85.07, 85.49666666666666, 85.12333333333333], 'global_art_estimated': [83.84502923976608, 85.48596491228069, 85.74152046783625, 85.52456140350877, 85.30877192982456], 'place_feat_seq': [72.66666666666667, 71.21666666666667, 72.3, 74.55833333333335, 73.925], 'manner_feat_seq': [91.95333333333332, 92.35333333333332, 93.16333333333334, 92.85666666666668, 92.78666666666666], 'global_feat_seq': [89.57309941520468, 91.47309941520469, 90.8327485380117, 91.01695906432748, 91.02105263157895]}, 'ssl_agent_layer_1': {'place_art_estimated': [67.00833333333333, 61.28333333333333, 66.45, 63.92500000000001, 63.11666666666667], 'manner_art_estimated': [87.67666666666668, 85.21666666666667, 85.18666666666667, 86.75666666666667, 84.83333333333333], 'global_art_estimated': [85.74269005847952, 85.80409356725146, 86.23918128654971, 87.23099415204678, 85.33567251461989], 'place_feat_seq': [71.61666666666666, 70.83333333333333, 71.58333333333333, 73.65833333333333, 73.20833333333334], 'manner_feat_seq': [91.01, 91.41, 91.94333333333334, 91.92666666666666, 92.02], 'global_feat_seq': [89.0906432748538, 90.90175438596492, 89.93918128654971, 90.42339181286548, 90.39941520467836]}, 'ssl_agent_layer_2': {'place_art_estimated': [65.99166666666667, 61.650000000000006, 66.3, 62.866666666666674, 61.96666666666667], 'manner_art_estimated': [85.73333333333333, 85.66333333333334, 84.75, 86.18333333333334, 84.33], 'global_art_estimated': [84.65263157894736, 85.62514619883041, 85.64912280701755, 86.5421052631579, 84.6029239766082], 'place_feat_seq': [72.05, 70.75833333333334, 71.59166666666667, 73.14166666666667, 72.71666666666667], 'manner_feat_seq': [90.79666666666668, 90.95333333333336, 91.77333333333333, 91.60333333333334, 91.71], 'global_feat_seq': [88.80116959064327, 90.71520467836255, 89.72865497076023, 90.05321637426901, 90.03157894736842]}, 'ssl_agent_layer_3': {'place_art_estimated': [69.90833333333333, 67.66666666666666, 65.53333333333333, 64.79166666666667, 62.708333333333336], 'manner_art_estimated': [86.37666666666667, 86.65666666666667, 83.71666666666667, 85.98666666666666, 82.95666666666666], 'global_art_estimated': [85.04736842105262, 87.95146198830409, 85.91695906432749, 87.57836257309941, 84.53684210526316], 'place_feat_seq': [76.175, 74.76666666666667, 74.73333333333333, 76.33333333333333, 76.475], 'manner_feat_seq': [91.42000000000002, 91.40333333333332, 92.04666666666668, 91.85333333333332, 92.04], 'global_feat_seq': [90.30409356725148, 91.98888888888888, 90.78538011695908, 91.06140350877192, 91.0421052631579]}, 'ssl_agent_layer_4': {'place_art_estimated': [66.06666666666668, 68.24166666666667, 69.34166666666667, 67.19166666666668, 67.13333333333334], 'manner_art_estimated': [81.89999999999999, 87.12666666666667, 85.95, 87.14, 88.56333333333333], 'global_art_estimated': [84.22456140350877, 89.49473684210525, 88.48654970760234, 88.12339181286549, 88.43567251461988], 'place_feat_seq': [75.30833333333334, 73.74166666666667, 73.13333333333333, 75.10833333333333, 74.59166666666665], 'manner_feat_seq': [90.79, 90.99666666666668, 91.19333333333334, 91.25333333333332, 91.68], 'global_feat_seq': [90.28888888888888, 92.0812865497076, 90.81169590643276, 91.35555555555555, 91.29941520467835]}, 'ssl_agent_layer_5': {'place_art_estimated': [67.48333333333333, 75.71666666666667, 76.34166666666667, 72.96666666666667, 70.48333333333333], 'manner_art_estimated': [82.06666666666668, 82.04333333333334, 87.55333333333333, 85.52333333333334, 85.44333333333334], 'global_art_estimated': [85.35263157894737, 87.87485380116959, 89.59239766081872, 88.74444444444445, 88.22456140350877], 'place_feat_seq': [79.35000000000001, 76.89166666666667, 77.03333333333333, 78.49166666666666, 78.15833333333335], 'manner_feat_seq': [92.26333333333334, 92.22666666666667, 92.47666666666667, 92.47, 92.87666666666668], 'global_feat_seq': [91.99824561403508, 93.7783625730994, 92.64795321637426, 93.10877192982456, 93.04444444444444]}, 'ssl_agent_layer_6': {'place_art_estimated': [86.61666666666667, 82.575, 76.80833333333334, 78.96666666666667, 74.6], 'manner_art_estimated': [84.40333333333334, 87.15, 84.90666666666668, 82.47333333333334, 85.26666666666665], 'global_art_estimated': [89.31695906432748, 91.41695906432749, 88.44619883040936, 86.87076023391813, 89.08947368421053], 'place_feat_seq': [82.23333333333332, 80.30000000000001, 80.64166666666667, 80.89999999999999, 81.47500000000001], 'manner_feat_seq': [92.94666666666669, 93.05333333333331, 93.72333333333331, 92.80333333333334, 93.74666666666666], 'global_feat_seq': [92.71169590643277, 94.36023391812866, 93.5327485380117, 93.5280701754386, 93.7906432748538]}, 'ssl_agent_layer_7': {'place_art_estimated': [75.23333333333333, 82.96666666666665, 83.39999999999999, 75.875, 83.975], 'manner_art_estimated': [75.61333333333332, 81.06, 82.89333333333335, 81.55333333333333, 82.74333333333334], 'global_art_estimated': [80.76842105263158, 89.28830409356725, 88.99649122807017, 86.35964912280701, 88.31228070175439], 'place_feat_seq': [80.80833333333334, 78.0, 78.44166666666668, 77.85833333333333, 78.725], 'manner_feat_seq': [91.19, 90.53, 91.52666666666669, 90.28333333333332, 90.92333333333332], 'global_feat_seq': [91.2514619883041, 92.57134502923977, 91.5046783625731, 91.0654970760234, 91.26842105263158]}, 'ssl_agent_layer_8': {'place_art_estimated': [79.36666666666667, 66.55833333333334, 64.75833333333334, 77.73333333333335, 67.78333333333333], 'manner_art_estimated': [78.17666666666666, 81.51666666666667, 80.58999999999999, 82.99666666666667, 82.12666666666667], 'global_art_estimated': [83.86959064327485, 86.00233918128654, 84.65029239766082, 86.93040935672515, 86.24502923976608], 'place_feat_seq': [75.725, 73.22500000000001, 73.60833333333333, 74.14166666666667, 74.00000000000001], 'manner_feat_seq': [88.44666666666666, 87.88, 88.94999999999999, 88.21666666666667, 88.64999999999999], 'global_feat_seq': [88.73918128654971, 90.14327485380116, 89.28654970760233, 89.26432748538011, 89.16023391812865]}, 'ssl_agent_layer_9': {'place_art_estimated': [74.675, 73.46666666666665, 66.95833333333333, 64.83333333333333, 73.225], 'manner_art_estimated': [82.39999999999999, 88.47666666666667, 85.57666666666668, 81.42666666666668, 89.27000000000001], 'global_art_estimated': [85.35438596491228, 90.7046783625731, 87.16198830409357, 84.76900584795321, 90.02690058479533], 'place_feat_seq': [79.26666666666668, 76.44166666666666, 77.14999999999999, 77.88333333333334, 77.88333333333333], 'manner_feat_seq': [92.20666666666666, 91.71333333333332, 92.78, 91.67, 92.47666666666666], 'global_feat_seq': [91.45380116959063, 92.87660818713452, 92.5111111111111, 91.91695906432749, 92.27894736842104]}, 'ssl_agent_layer_10': {'place_art_estimated': [63.49166666666667, 61.891666666666666, 71.15, 61.66666666666667, 61.825], 'manner_art_estimated': [84.79333333333334, 83.57333333333334, 86.77999999999999, 82.77333333333333, 82.52333333333333], 'global_art_estimated': [84.56432748538012, 84.10467836257311, 87.18421052631578, 85.03684210526316, 84.13099415204678], 'place_feat_seq': [77.26666666666667, 75.60833333333333, 76.18333333333332, 76.75833333333333, 77.03333333333333], 'manner_feat_seq': [92.12666666666664, 92.32333333333332, 93.08, 92.32333333333332, 93.07333333333332], 'global_feat_seq': [90.77543859649124, 92.56432748538012, 92.0514619883041, 91.97309941520469, 92.23157894736842]}, 'ssl_agent_layer_11': {'place_art_estimated': [59.94166666666667, 59.34166666666667, 58.84166666666666, 65.625, 66.64166666666667], 'manner_art_estimated': [72.24999999999999, 79.84333333333332, 79.41333333333333, 83.97333333333333, 80.08999999999999], 'global_art_estimated': [73.18479532163742, 82.13157894736842, 81.03157894736842, 84.34152046783626, 81.07251461988304], 'place_feat_seq': [76.90833333333333, 74.93333333333332, 75.2, 76.875, 77.45], 'manner_feat_seq': [91.14666666666666, 91.13666666666668, 92.04666666666668, 91.55, 92.51333333333336], 'global_feat_seq': [89.87836257309941, 91.48713450292398, 90.94210526315788, 91.14619883040936, 91.75087719298246]}, 'ssl_agent_layer_12': {'place_art_estimated': [64.43333333333334, 62.33333333333333, 61.49166666666667, 59.00833333333334, 61.133333333333326], 'manner_art_estimated': [79.51, 78.45333333333335, 76.55666666666666, 73.09, 77.47666666666667], 'global_art_estimated': [80.67719298245613, 80.68479532163742, 78.06374269005848, 74.20409356725146, 79.21812865497077], 'place_feat_seq': [74.35000000000001, 72.60833333333333, 72.35833333333333, 74.28333333333333, 75.36666666666667], 'manner_feat_seq': [89.62666666666667, 89.58, 90.22333333333331, 90.17666666666666, 91.10333333333335], 'global_feat_seq': [88.54093567251462, 89.61988304093568, 88.97836257309942, 89.29649122807018, 90.1672514619883]}}\n"
     ]
    }
   ],
   "source": [
    "print(w2v_cosine)"
   ]
  },
  {
   "cell_type": "code",
   "execution_count": 83,
   "id": "fa4b568b-0458-4db9-b587-6417bcb7f495",
   "metadata": {},
   "outputs": [
    {
     "data": {
      "image/png": "[encoded data removed]",
      "text/plain": [
       "<Figure size 570.866x355.906 with 3 Axes>"
      ]
     },
     "metadata": {},
     "output_type": "display_data"
    }
   ],
   "source": [
    "%matplotlib inline\n",
    "import matplotlib.pyplot as plt\n",
    "import matplotlib\n",
    "from matplotlib import gridspec\n",
    "import math\n",
    "import pandas as pd\n",
    "\n",
    "matplotlib.rcParams['font.family'] = 'sans-serif'\n",
    "matplotlib.rcParams['font.serif'] = 'Arial'\n",
    "matplotlib.rcParams.update({'font.size': 14, 'legend.handleheight':1, 'hatch.linewidth': 1.0,\n",
    "                           'lines.markersize':5, 'lines.linewidth':2, 'errorbar.capsize': 5})\n",
    "\n",
    "cepstrum_color = '#E69F00'\n",
    "real_art_color = '#0072B2'\n",
    "learned_art_color = '#009E73'\n",
    "\n",
    "cm = 1/2.54\n",
    "# Plot ABX place\n",
    "fig = plt.figure(figsize=(14.5*cm,9.04*cm), constrained_layout=True)\n",
    "gs = gridspec.GridSpec(2, 5, figure=fig, height_ratios=[1,10])\n",
    "ax1 = fig.add_subplot(gs[1, 0])\n",
    "ax2 = fig.add_subplot(gs[1, 1:])\n",
    "ax_legend = fig.add_subplot(gs[0, :])\n",
    "ax_legend.axis('off')\n",
    "\n",
    "# 1. (MFCC agent) Learned articulatory trajectories\n",
    "keys = 'ave'\n",
    "Y = np.mean(baseline_cosine['mfcc_agent'][key])\n",
    "Yerr = np.std(baseline_cosine['mfcc_agent'][key], ddof=1)\n",
    "X = [0.5]\n",
    "ax1.bar(X, Y, yerr=Yerr, linewidth=2, color='white', ecolor=learned_art_color, edgecolor=learned_art_color)\n",
    "\n",
    "# 1. (wav2vec 2.0 agent) Learned articulatory trajectories\n",
    "key = 'ave'\n",
    "Y = [np.mean(w2v_cosine[f'ssl_agent_layer_{i}'][key]) for i in range(0,13)]\n",
    "Yerr = [np.std(w2v_cosine[f'ssl_agent_layer_{i}'][key], ddof=1) for i in range(0,13)]\n",
    "X = range(0, len(Y))\n",
    "ax2.errorbar(X, Y, yerr=Yerr, color=learned_art_color)\n",
    "ax2.set_xticks(X)\n",
    "\n",
    "\n",
    "\n",
    "# Fashion\n",
    "ax1.set_axisbelow(True)\n",
    "ax2.set_axisbelow(True)\n",
    "ax1.grid(visible=True, axis='y', linestyle=':', zorder=0)\n",
    "ax2.grid(visible=True, axis='y', linestyle=':', zorder=0)\n",
    "\n",
    "ax1.set_xticks([])\n",
    "ax2.tick_params(axis='y', which='both', left=False, labelleft=False)\n",
    "ax2.set_ylim(0.3, 1)\n",
    "ax1.set_ylim(0.3, 1)\n",
    "ax1.spines['top'].set_visible(False)\n",
    "ax1.spines['right'].set_visible(False)\n",
    "ax2.spines['top'].set_visible(False)\n",
    "ax2.spines['right'].set_visible(False)\n",
    "\n",
    "ax1.set_ylabel(\"Pearson's R\")\n",
    "ax2.set_xlabel('Layer number\\n(wav2vec 2.0 agent)')\n",
    "ax1.set_xlabel('MFCC\\nagent')\n",
    "ax1.set_xlim(0, 1)\n",
    "\n",
    "#plt.savefig('/home/engaclew/agent/out/ssl_agent/pearson_cc_cosine.png', dpi=300)\n",
    "plt.show()\n"
   ]
  },
  {
   "cell_type": "code",
   "execution_count": 86,
   "id": "04c38f03-d528-46d8-9664-69ba1fe744b4",
   "metadata": {},
   "outputs": [
    {
     "data": {
      "image/png": "[encoded data removed]",
      "text/plain": [
       "<Figure size 570.866x355.906 with 3 Axes>"
      ]
     },
     "metadata": {},
     "output_type": "display_data"
    }
   ],
   "source": [
    "%matplotlib inline\n",
    "import matplotlib.pyplot as plt\n",
    "import matplotlib\n",
    "from matplotlib import gridspec\n",
    "import math\n",
    "import pandas as pd\n",
    "\n",
    "matplotlib.rcParams['font.family'] = 'sans-serif'\n",
    "matplotlib.rcParams['font.serif'] = 'Arial'\n",
    "matplotlib.rcParams.update({'font.size': 14, 'legend.handleheight':1, 'hatch.linewidth': 1.0,\n",
    "                           'lines.markersize':5, 'lines.linewidth':2, 'errorbar.capsize': 5})\n",
    "\n",
    "cepstrum_color = '#E69F00'\n",
    "real_art_color = '#0072B2'\n",
    "learned_art_color = '#009E73'\n",
    "\n",
    "cm = 1/2.54\n",
    "# Plot ABX place\n",
    "fig = plt.figure(figsize=(14.5*cm,9.04*cm), constrained_layout=True)\n",
    "gs = gridspec.GridSpec(2, 5, figure=fig, height_ratios=[1,10])\n",
    "ax1 = fig.add_subplot(gs[1, 0])\n",
    "ax2 = fig.add_subplot(gs[1, 1:])\n",
    "ax_legend = fig.add_subplot(gs[0, :])\n",
    "ax_legend.axis('off')\n",
    "\n",
    "# 1. (MFCC agent) Learned articulatory trajectories\n",
    "colors = ['red', 'blue', 'green', 'orange', 'purple', 'brown']\n",
    "keys = ['JH', 'TB', 'TD', 'TT', 'LP', 'LH']\n",
    "for i, key in enumerate(keys):\n",
    "    Y = np.mean(baseline_cosine['mfcc_agent'][key])\n",
    "    Yerr = np.std(baseline_cosine['mfcc_agent'][key], ddof=1)\n",
    "    X = [0.5+i]\n",
    "    ax1.bar(X, Y, yerr=Yerr, linewidth=2, color='white', ecolor=colors[i], edgecolor=colors[i], label=key)\n",
    "\n",
    "# 1. (wav2vec 2.0 agent) Learned articulatory trajectories\n",
    "keys = ['JH', 'TB', 'TD', 'TT', 'LP', 'LH']\n",
    "for i, key in enumerate(keys):\n",
    "    Y = [np.mean(w2v_cosine[f'ssl_agent_layer_{i}'][key]) for i in range(0,13)]\n",
    "    Yerr = [np.std(w2v_cosine[f'ssl_agent_layer_{i}'][key], ddof=1) for i in range(0,13)]\n",
    "    X = range(0, len(Y))\n",
    "    ax2.errorbar(X, Y, yerr=Yerr, label=key, color=colors[i])\n",
    "    ax2.set_xticks(X)\n",
    "\n",
    "\n",
    "\n",
    "# Fashion\n",
    "ax1.set_axisbelow(True)\n",
    "ax2.set_axisbelow(True)\n",
    "ax1.grid(visible=True, axis='y', linestyle=':', zorder=0)\n",
    "ax2.grid(visible=True, axis='y', linestyle=':', zorder=0)\n",
    "\n",
    "ax1.set_xticks([])\n",
    "ax2.tick_params(axis='y', which='both', left=False, labelleft=False)\n",
    "ax2.set_ylim(0, 1)\n",
    "ax1.set_ylim(0, 1)\n",
    "ax1.spines['top'].set_visible(False)\n",
    "ax1.spines['right'].set_visible(False)\n",
    "ax2.spines['top'].set_visible(False)\n",
    "ax2.spines['right'].set_visible(False)\n",
    "\n",
    "ax1.set_ylabel(\"Pearson's R\")\n",
    "ax2.set_xlabel('Layer number\\n(wav2vec 2.0 agent)')\n",
    "ax1.set_xlabel('MFCC\\nagent')\n",
    "\n",
    "legend_elements = [\n",
    "    plt.Line2D([0], [0], color=colors[0], lw=2, label='Jaw height'),\n",
    "    plt.Line2D([0], [0], color=colors[1], lw=2, label='Tongue body'),\n",
    "    plt.Line2D([0], [0], color=colors[2], lw=2, label='Tongue dorsum'),\n",
    "    plt.Line2D([0], [0], color=colors[3], lw=2, label='Tongue tip'),\n",
    "    plt.Line2D([0], [0], color=colors[4], lw=2, label='Lip protrusion'),\n",
    "    plt.Line2D([0], [0], color=colors[5], lw=2, label='Lip height')\n",
    "]\n",
    "\n",
    "ax_legend.legend(handles=legend_elements, bbox_to_anchor=(1.02, 0.5), ncol=3, fontsize=12, columnspacing=.8)\n",
    "#plt.savefig('/home/engaclew/agent/out/ssl_agent/pearson_cc_cosine.png', dpi=300)\n",
    "plt.show()\n"
   ]
  },
  {
   "cell_type": "code",
   "execution_count": 94,
   "id": "12afd775-9f19-49c0-8fa4-7968182abd12",
   "metadata": {},
   "outputs": [
    {
     "data": {
      "image/png": "[encoded data removed]",
      "text/plain": [
       "<Figure size 570.866x355.906 with 3 Axes>"
      ]
     },
     "metadata": {},
     "output_type": "display_data"
    }
   ],
   "source": [
    "%matplotlib inline\n",
    "import matplotlib.pyplot as plt\n",
    "import matplotlib\n",
    "from matplotlib import gridspec\n",
    "import math\n",
    "import pandas as pd\n",
    "\n",
    "matplotlib.rcParams['font.family'] = 'sans-serif'\n",
    "matplotlib.rcParams['font.serif'] = 'Arial'\n",
    "matplotlib.rcParams.update({'font.size': 14, 'legend.handleheight':1, 'hatch.linewidth': 1.0,\n",
    "                           'lines.markersize':5, 'lines.linewidth':2, 'errorbar.capsize': 5})\n",
    "\n",
    "cepstrum_color = '#E69F00'\n",
    "real_art_color = '#0072B2'\n",
    "learned_art_color = '#009E73'\n",
    "\n",
    "cm = 1/2.54\n",
    "# Plot ABX place\n",
    "fig = plt.figure(figsize=(14.5*cm,9.04*cm), constrained_layout=True)\n",
    "gs = gridspec.GridSpec(2, 5, figure=fig, height_ratios=[1,10])\n",
    "ax1 = fig.add_subplot(gs[1, 0])\n",
    "ax2 = fig.add_subplot(gs[1, 1:])\n",
    "ax_legend = fig.add_subplot(gs[0, :])\n",
    "ax_legend.axis('off')\n",
    "\n",
    "# 1. (MFCC agent) Learned articulatory trajectories\n",
    "colors = ['red', 'blue', 'green', 'orange', 'purple', 'brown']\n",
    "keys = ['JH', 'TB', 'TD', 'TT', 'LP', 'LH']\n",
    "j = 0\n",
    "for i, key in enumerate(keys):\n",
    "    Y = np.mean(baseline_cosine['mfcc_agent'][key])\n",
    "    Yerr = np.std(baseline_cosine['mfcc_agent'][key], ddof=1)\n",
    "    X = [0.5+j]\n",
    "    if key in ['JH', 'TD', 'TT',  'LP']:\n",
    "        ax1.bar(X, Y, yerr=Yerr, linewidth=2, color='white', ecolor=colors[i], edgecolor=colors[i], label=key)\n",
    "        j += 1\n",
    "\n",
    "# 1. (wav2vec 2.0 agent) Learned articulatory trajectories\n",
    "keys = ['JH', 'TB', 'TD', 'TT', 'LP', 'LH']\n",
    "for i, key in enumerate(keys):\n",
    "    Y = [np.mean(w2v_cosine[f'ssl_agent_layer_{i}'][key]) for i in range(0,13)]\n",
    "    Yerr = [np.std(w2v_cosine[f'ssl_agent_layer_{i}'][key], ddof=1) for i in range(0,13)]\n",
    "    X = range(0, len(Y))\n",
    "    if key in ['JH', 'TD', 'TT',  'LP']:\n",
    "        ax2.errorbar(X, Y, yerr=Yerr, label=key, color=colors[i])\n",
    "ax2.set_xticks(X)\n",
    "\n",
    "\n",
    "\n",
    "# Fashion\n",
    "ax1.set_axisbelow(True)\n",
    "ax2.set_axisbelow(True)\n",
    "ax1.grid(visible=True, axis='y', linestyle=':', zorder=0)\n",
    "ax2.grid(visible=True, axis='y', linestyle=':', zorder=0)\n",
    "\n",
    "ax1.set_xticks([])\n",
    "ax2.tick_params(axis='y', which='both', left=False, labelleft=False)\n",
    "ax2.set_ylim(0, 1)\n",
    "ax1.set_ylim(0, 1)\n",
    "ax1.spines['top'].set_visible(False)\n",
    "ax1.spines['right'].set_visible(False)\n",
    "ax2.spines['top'].set_visible(False)\n",
    "ax2.spines['right'].set_visible(False)\n",
    "\n",
    "ax1.set_ylabel(\"Pearson's R\")\n",
    "ax2.set_xlabel('Layer number\\n(wav2vec 2.0 agent)')\n",
    "ax1.set_xlabel('MFCC\\nagent')\n",
    "\n",
    "['JH', 'TB', 'TD', 'TT', 'LP', 'LH']\n",
    "legend_elements = [\n",
    "    plt.Line2D([0], [0], color=colors[0], lw=2, label='Jaw height'),\n",
    "    plt.Line2D([0], [0], color=colors[2], lw=2, label='Tongue dorsum'),\n",
    "    plt.Line2D([0], [0], color=colors[3], lw=2, label='Tongue tip'),\n",
    "    plt.Line2D([0], [0], color=colors[4], lw=2, label='Lip protrusion')\n",
    "]\n",
    "\n",
    "ax_legend.legend(handles=legend_elements, bbox_to_anchor=(1.02, 0.5), ncol=2, fontsize=12, columnspacing=.8)\n",
    "#plt.savefig('/home/engaclew/agent/out/ssl_agent/pearson_cc_cosine.png', dpi=300)\n",
    "plt.show()"
   ]
  }
 ],
 "metadata": {
  "kernelspec": {
   "display_name": "Python 3 (ipykernel)",
   "language": "python",
   "name": "python3"
  },
  "language_info": {
   "codemirror_mode": {
    "name": "ipython",
    "version": 3
   },
   "file_extension": ".py",
   "mimetype": "text/x-python",
   "name": "python",
   "nbconvert_exporter": "python",
   "pygments_lexer": "ipython3",
   "version": "3.8.6"
  }
 },
 "nbformat": 4,
 "nbformat_minor": 5
}
