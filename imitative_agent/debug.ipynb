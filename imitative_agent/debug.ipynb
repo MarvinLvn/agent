{
 "cells": [
  {
   "cell_type": "code",
   "execution_count": 18,
   "id": "2bc93d59",
   "metadata": {},
   "outputs": [
    {
     "name": "stdout",
     "output_type": "stream",
     "text": [
      "/home/engaclew/agent/datasets/pb2007/art_params\n",
      "min [-4.489852, -18.684422, -12.933527, -10.387411, -8.960965, -9.29275]\n",
      "max [15.970251, 19.818533, 19.087847, 12.831285, 12.760673, 10.932318]\n",
      "/home/engaclew/agent/datasets/pb2007_babbling_phase/art_params\n",
      "min [-3.219546, -13.344821, -12.933527, -7.2200623, -8.607981, -6.670501]\n",
      "max [7.7705383, 13.8698435, 15.060269, 9.023126, 12.384076, 8.705696]\n"
     ]
    }
   ],
   "source": [
    "from pathlib import Path\n",
    "import numpy as np\n",
    "\n",
    "def get_min_max(art_path):\n",
    "    feat_size = 6\n",
    "    min_global = [1000]*6\n",
    "    max_global = [-1000]*6\n",
    "    for item_file in art_path.glob('*.bin'):\n",
    "        data = np.fromfile(item_file, dtype=\"float32\").reshape((-1, feat_size))\n",
    "        for i in range(feat_size):\n",
    "            min_item, max_item = data[:, i].min(), data[:,i].max()\n",
    "            if min_item < min_global[i]:\n",
    "                min_global[i] = min_item\n",
    "            if max_item > max_global[i]:\n",
    "                max_global[i] = max_item\n",
    "    return min_global, max_global\n",
    "        \n",
    "art_path = Path('/home/engaclew/agent/datasets/pb2007/art_params')\n",
    "min_global, max_global = get_min_max(art_path)\n",
    "print(art_path)\n",
    "print(\"min\", min_global)\n",
    "print(\"max\", max_global)\n",
    "\n",
    "art_path = Path('/home/engaclew/agent/datasets/pb2007_babbling_phase/art_params')\n",
    "min_global, max_global = get_min_max(art_path)\n",
    "print(art_path)\n",
    "print(\"min\", min_global)\n",
    "print(\"max\", max_global)"
   ]
  }
 ],
 "metadata": {
  "kernelspec": {
   "display_name": "Python 3",
   "language": "python",
   "name": "python3"
  },
  "language_info": {
   "codemirror_mode": {
    "name": "ipython",
    "version": 3
   },
   "file_extension": ".py",
   "mimetype": "text/x-python",
   "name": "python",
   "nbconvert_exporter": "python",
   "pygments_lexer": "ipython3",
   "version": "3.7.12"
  }
 },
 "nbformat": 4,
 "nbformat_minor": 5
}
