{
 "cells": [
  {
   "cell_type": "code",
   "execution_count": 1,
   "id": "5939e212",
   "metadata": {},
   "outputs": [
    {
     "name": "stderr",
     "output_type": "stream",
     "text": [
      "/home/engaclew/miniconda3/envs/agent/lib/python3.7/site-packages/torch/nn/modules/rnn.py:70: UserWarning: dropout option adds dropout after all but last recurrent layer, so non-zero dropout expects num_layers greater than 1, but got dropout=0.25 and num_layers=1\n",
      "  \"num_layers={}\".format(dropout, num_layers))\n"
     ]
    },
    {
     "data": {
      "application/vnd.jupyter.widget-view+json": {
       "model_id": "2a6216a06a5546f1a5e39ae9e483d839",
       "version_major": 2,
       "version_minor": 0
      },
      "text/plain": [
       "  0%|          | 0/4 [00:00<?, ?it/s]"
      ]
     },
     "metadata": {},
     "output_type": "display_data"
    }
   ],
   "source": [
    "import sys\n",
    "sys.path.append(\"..\")\n",
    "\n",
    "from pathlib import Path\n",
    "from glob import glob\n",
    "import matplotlib.pyplot as plt\n",
    "import ipywidgets as ipw\n",
    "import numpy as np \n",
    "from tqdm.notebook import tqdm\n",
    "\n",
    "from imitative_agent import ImitativeAgent\n",
    "from lib.dataset_wrapper import Dataset\n",
    "from lib import utils\n",
    "from lib import abx_utils\n",
    "\n",
    "ABX_NB_SAMPLES = 200\n",
    "distance = {\n",
    "        \"art_estimated\": {\n",
    "            \"metric\": \"cosine\",\n",
    "            \"weight\": 1,\n",
    "        },\n",
    "    }\n",
    "\n",
    "basenames = ['0', '0.01', '0.1', '1']\n",
    "\n",
    "# Create alias\n",
    "agents_alias = {}\n",
    "for basename in basenames:\n",
    "    agent_path = agents_path / basename\n",
    "    agent = ImitativeAgent.reload(str(agent_path), load_nn=False)\n",
    "    config = agent.config\n",
    "        \n",
    "    agent_alias = \" \".join((\n",
    "        f\"{','.join(config['dataset']['names'])}\",\n",
    "        f\"jerk_loss_weight={config['training']['jerk_loss_weight']}\",\n",
    "        f\"discriminator_loss_weight={config['training']['discriminator_loss_weight']}\",\n",
    "        f\"path={agent_path}\",\n",
    "    ))\n",
    "    agents_alias[agent_alias] = agent_path\n",
    "    \n",
    "# Compute ABX \n",
    "agents_abx_matrices = utils.pickle_load(agents_path / 'abx_cache.pickle', {})\n",
    "for agent_alias, agent_path in tqdm(agents_alias.items()):\n",
    "    if agent_path not in agents_abx_matrices:\n",
    "        agents_abx_matrices[agent_path] = {}\n",
    "    agent_abx_matrices = agents_abx_matrices[agent_path]\n",
    "    \n",
    "    distance_signature = abx_utils.get_distance_signature(distance)\n",
    "    if distance_signature in agent_abx_matrices: continue\n",
    "        \n",
    "    agent = ImitativeAgent.reload(str(agent_path))\n",
    "    \n",
    "    main_dataset = agent.get_main_dataset()\n",
    "    agent_lab = agent.get_datasplit_lab(2)\n",
    "    agent_features = agent.repeat_datasplit(2)\n",
    "    \n",
    "    consonants = main_dataset.phones_infos[\"consonants\"]\n",
    "    vowels = main_dataset.phones_infos[\"vowels\"]\n",
    "    consonants_indexes = abx_utils.get_datasets_phones_indexes(agent_lab, consonants, vowels)\n",
    "    abx_matrix = abx_utils.get_abx_matrix(consonants, consonants_indexes, agent_features, distance, ABX_NB_SAMPLES, seed=43)\n",
    "    print(abx_utils.get_groups_score(consonants, abx_matrix, main_dataset.phones_infos[\"consonant_groups\"]))\n",
    "    agent_abx_matrices[distance_signature] = abx_matrix\n",
    "    utils.pickle_dump(agents_path / 'abx_cache.pickle', agents_abx_matrices)\n",
    "    "
   ]
  },
  {
   "cell_type": "code",
   "execution_count": 65,
   "id": "c472decd",
   "metadata": {},
   "outputs": [
    {
     "data": {
      "image/png": "[encoded data removed]",
      "text/plain": [
       "<Figure size 409.449x355.906 with 1 Axes>"
      ]
     },
     "metadata": {},
     "output_type": "display_data"
    }
   ],
   "source": [
    "abx_manner = []\n",
    "abx_place = []\n",
    "abx_global = []\n",
    "for basename in basenames:\n",
    "    agent_path = agents_path / basename\n",
    "    distance_signature = abx_utils.get_distance_signature(distance)\n",
    "    agent_abx_matrix = agents_abx_matrices[agent_path][distance_signature]\n",
    "    groups_score = abx_utils.get_groups_score(consonants, agent_abx_matrix, main_dataset.phones_infos[\"consonant_groups\"])\n",
    "    global_score = abx_utils.get_global_score(agent_abx_matrix)\n",
    "    abx_manner.append(groups_score['manner'])\n",
    "    abx_place.append(groups_score['place'])\n",
    "    abx_global.append(global_score)\n",
    "    \n",
    "x = [0, 1, 2, 3]\n",
    "weights = [0, 0.01, 0.1, 1]\n",
    "\n",
    "cm = 1/2.54\n",
    "fig, ax = plt.subplots(1, 1, figsize=(10.4*cm,9.04*cm), constrained_layout=True)\n",
    "ax.bar(x=x, height=abx_place, color='grey',\n",
    "       error_kw=dict(lw=1.5, capsize=8, capthick=1.5), edgecolor='black',zorder=3)\n",
    "ax.set_ylabel(\"ABX place (%)\")\n",
    "ax.set_xticks(ticks=x, labels=weights)\n",
    "ax.set_xlabel(\"Value of $\\lambda_J$\")\n",
    "ax.spines['top'].set_visible(False)\n",
    "ax.spines['right'].set_visible(False)\n",
    "ax.grid(visible=True, axis='y', linestyle=':',zorder=0)\n",
    "ax.set_ylim(60, 90)\n",
    "plt.savefig('/home/engaclew/agent/out/imitative_agent/abx_place_jerk.png', dpi=300)\n",
    "plt.show()\n",
    "\n",
    "\n"
   ]
  },
  {
   "cell_type": "code",
   "execution_count": 9,
   "id": "5a4db666",
   "metadata": {
    "scrolled": true
   },
   "outputs": [
    {
     "data": {
      "application/vnd.jupyter.widget-view+json": {
       "model_id": "76bd22b507e14bc485d319084db671f8",
       "version_major": 2,
       "version_minor": 0
      },
      "text/plain": [
       "  0%|          | 0/10 [00:00<?, ?it/s]"
      ]
     },
     "metadata": {},
     "output_type": "display_data"
    },
    {
     "name": "stdout",
     "output_type": "stream",
     "text": [
      "{'manner': 73.15833333333333, 'place': 71.41666666666666}\n",
      "{'manner': 70.74166666666666, 'place': 71.72916666666667}\n",
      "{'manner': 70.96666666666667, 'place': 72.16666666666667}\n",
      "{'manner': 68.0, 'place': 72.89583333333334}\n",
      "{'manner': 70.46666666666667, 'place': 71.45833333333333}\n",
      "{'manner': 69.63333333333334, 'place': 70.47916666666667}\n",
      "{'manner': 67.20833333333334, 'place': 66.83333333333333}\n",
      "{'manner': 67.60833333333332, 'place': 69.16666666666667}\n",
      "{'manner': 68.75833333333333, 'place': 70.10416666666666}\n",
      "{'manner': 66.60833333333333, 'place': 72.375}\n"
     ]
    }
   ],
   "source": [
    "import sys\n",
    "sys.path.append(\"..\")\n",
    "\n",
    "from pathlib import Path\n",
    "from glob import glob\n",
    "import matplotlib.pyplot as plt\n",
    "import ipywidgets as ipw\n",
    "import numpy as np \n",
    "from tqdm.notebook import tqdm\n",
    "\n",
    "from imitative_agent import ImitativeAgent\n",
    "from lib.dataset_wrapper import Dataset\n",
    "from lib import utils\n",
    "from lib import abx_utils\n",
    "\n",
    "ABX_NB_SAMPLES = 200\n",
    "distance = {\n",
    "        \"art_estimated\": {\n",
    "            \"metric\": \"cosine\",\n",
    "            \"weight\": 1,\n",
    "        },\n",
    "    }\n",
    "\n",
    "agents_path = Path(\"../out/imitative_agent/dynamic_GAN_varying_frames_2_layers\")\n",
    "basenames = list(range(1, 11))\n",
    "\n",
    "# Create alias\n",
    "agents_alias = {}\n",
    "for basename in basenames:\n",
    "    agent_path = agents_path / str(basename)\n",
    "    agent = ImitativeAgent.reload(str(agent_path), load_nn=False)\n",
    "    config = agent.config\n",
    "        \n",
    "    agent_alias = \" \".join((\n",
    "        f\"{','.join(config['dataset']['names'])}\",\n",
    "        f\"jerk_loss_weight={config['training']['jerk_loss_weight']}\",\n",
    "        f\"discriminator_loss_weight={config['training']['discriminator_loss_weight']}\",\n",
    "        f\"path={agent_path}\",\n",
    "    ))\n",
    "    agents_alias[agent_alias] = agent_path\n",
    "    \n",
    "# Compute ABX \n",
    "agents_abx_matrices = utils.pickle_load(agents_path / 'abx_cache.pickle', {})\n",
    "for agent_alias, agent_path in tqdm(agents_alias.items()):\n",
    "    if agent_path not in agents_abx_matrices:\n",
    "        agents_abx_matrices[agent_path] = {}\n",
    "    agent_abx_matrices = agents_abx_matrices[agent_path]\n",
    "    \n",
    "    distance_signature = abx_utils.get_distance_signature(distance)\n",
    "    if distance_signature in agent_abx_matrices: continue\n",
    "        \n",
    "    agent = ImitativeAgent.reload(str(agent_path))\n",
    "    \n",
    "    main_dataset = agent.get_main_dataset()\n",
    "    agent_lab = agent.get_datasplit_lab(2)\n",
    "    agent_features = agent.repeat_datasplit(2)\n",
    "    \n",
    "    consonants = main_dataset.phones_infos[\"consonants\"]\n",
    "    vowels = main_dataset.phones_infos[\"vowels\"]\n",
    "    consonants_indexes = abx_utils.get_datasets_phones_indexes(agent_lab, consonants, vowels)\n",
    "    abx_matrix = abx_utils.get_abx_matrix(consonants, consonants_indexes, agent_features, distance, ABX_NB_SAMPLES, seed=43)\n",
    "    print(abx_utils.get_groups_score(consonants, abx_matrix, main_dataset.phones_infos[\"consonant_groups\"]))\n",
    "    agent_abx_matrices[distance_signature] = abx_matrix\n",
    "    utils.pickle_dump(agents_path / 'abx_cache.pickle', agents_abx_matrices)\n",
    "    "
   ]
  },
  {
   "cell_type": "code",
   "execution_count": 10,
   "id": "6820d87b",
   "metadata": {},
   "outputs": [
    {
     "data": {
      "image/png": "[encoded data removed]",
      "text/plain": [
       "<Figure size 409.449x355.906 with 1 Axes>"
      ]
     },
     "metadata": {},
     "output_type": "display_data"
    }
   ],
   "source": [
    "abx_manner = []\n",
    "abx_place = []\n",
    "abx_global = []\n",
    "for basename in basenames:\n",
    "    agent_path = agents_path / str(basename)\n",
    "    distance_signature = abx_utils.get_distance_signature(distance)\n",
    "    agent_abx_matrix = agents_abx_matrices[agent_path][distance_signature]\n",
    "    groups_score = abx_utils.get_groups_score(consonants, agent_abx_matrix, main_dataset.phones_infos[\"consonant_groups\"])\n",
    "    global_score = abx_utils.get_global_score(agent_abx_matrix)\n",
    "    abx_manner.append(groups_score['manner'])\n",
    "    abx_place.append(groups_score['place'])\n",
    "    abx_global.append(global_score)\n",
    "    \n",
    "x = range(0,10)\n",
    "weights = range(1,11)\n",
    "\n",
    "cm = 1/2.54\n",
    "fig, ax = plt.subplots(1, 1, figsize=(10.4*cm,9.04*cm), constrained_layout=True)\n",
    "ax.bar(x=x, height=abx_place, color='grey',\n",
    "       error_kw=dict(lw=1.5, capsize=8, capthick=1.5), edgecolor='black',zorder=3)\n",
    "ax.set_ylabel(\"ABX place (%)\")\n",
    "ax.set_xticks(ticks=x, labels=weights)\n",
    "ax.set_xlabel(\"Value of $\\lambda_J$\")\n",
    "ax.spines['top'].set_visible(False)\n",
    "ax.spines['right'].set_visible(False)\n",
    "ax.grid(visible=True, axis='y', linestyle=':',zorder=0)\n",
    "ax.set_ylim(60, 90)\n",
    "#plt.savefig('/home/engaclew/agent/out/imitative_agent/abx_place_dynamic_GAN_varying_frames.png', dpi=300)\n",
    "plt.show()"
   ]
  }
 ],
 "metadata": {
  "kernelspec": {
   "display_name": "Python 3",
   "language": "python",
   "name": "python3"
  },
  "language_info": {
   "codemirror_mode": {
    "name": "ipython",
    "version": 3
   },
   "file_extension": ".py",
   "mimetype": "text/x-python",
   "name": "python",
   "nbconvert_exporter": "python",
   "pygments_lexer": "ipython3",
   "version": "3.7.12"
  }
 },
 "nbformat": 4,
 "nbformat_minor": 5
}
