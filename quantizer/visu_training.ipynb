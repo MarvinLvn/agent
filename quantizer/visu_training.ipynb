{
 "cells": [
  {
   "cell_type": "code",
   "execution_count": 2,
   "id": "953874de-6aae-4620-a6f6-6c0f7a21e807",
   "metadata": {},
   "outputs": [],
   "source": [
    "import sys\n",
    "sys.path.append(\"..\")\n",
    "\n",
    "from glob import glob\n",
    "import matplotlib.pyplot as plt\n",
    "import ipywidgets as ipw\n",
    "from IPython.display import Audio\n",
    "import numpy as np\n",
    "import pickle\n",
    "import yaml\n",
    "import pandas as pd\n",
    "\n",
    "from lib.notebooks import plot_groups_metrics\n",
    "from quantizer import Quantizer"
   ]
  },
  {
   "cell_type": "code",
   "execution_count": 7,
   "id": "7583bdb3-6313-467e-8088-d7b1d4235bd1",
   "metadata": {},
   "outputs": [],
   "source": [
    "quantizers_path = glob(\"../out/quantizer/*/\")\n",
    "quantizers_path.sort()"
   ]
  },
  {
   "cell_type": "code",
   "execution_count": 13,
   "id": "c7389042-b54f-476a-b79f-b833d5e4c2bf",
   "metadata": {},
   "outputs": [],
   "source": [
    "groups_metrics = {}\n",
    "quantizers_loss = {\n",
    "    \"dataset\": [],\n",
    "    \"hidden_layers\": [],\n",
    "    \"dropout_p\": [],\n",
    "    \"learning_rate\": [],\n",
    "    \"final_loss\": [],\n",
    "}\n",
    "\n",
    "for quantizer_path in quantizers_path:\n",
    "    quantizer = Quantizer.reload(synthesizer_path, load_nn=False)\n",
    "    config = quantizer.config\n",
    "    with open(\"%s/metrics.pickle\" % quantizer_path, \"rb\") as f:\n",
    "        metrics = pickle.load(f)\n",
    "    final_loss = min(metrics[\"validation\"][\"total_loss\"])\n",
    "    \n",
    "    # quantizers_loss[\"dataset\"].append(config['dataset']['name'])\n",
    "    # quantizers_loss[\"hidden_layers\"].append(f\"{len(config['model']['hidden_layers'])}x{config['model']['hidden_layers'][0]}\")\n",
    "    # quantizers_loss[\"dropout_p\"].append(config['model']['dropout_p'])\n",
    "    # quantizers_loss[\"learning_rate\"].append(config['training']['learning_rate'])\n",
    "    # quantizers_loss[\"final_loss\"].append(final_loss)\n",
    "    \n",
    "    group_name = \"\\n\".join((\n",
    "        f\"{','.join(config['dataset']['names'])}\",\n",
    "        f\"hidden_layers={len(config['model']['hidden_dims'])}x{config['model']['hidden_dims'][0]}\",\n",
    "    ))\n",
    "    \n",
    "    if group_name not in groups_metrics:\n",
    "        groups_metrics[group_name] = {}\n",
    "    groups_metrics[group_name][quantizer_path] = metrics\n",
    "\n",
    "# quantizers_loss = pd.DataFrame(quantizers_loss)"
   ]
  },
  {
   "cell_type": "code",
   "execution_count": 17,
   "id": "3af89a93-0241-4b9d-847c-48a90a803c1d",
   "metadata": {},
   "outputs": [
    {
     "data": {
      "application/vnd.jupyter.widget-view+json": {
       "model_id": "cb968c9a9c4449918ad22f0b26beb09f",
       "version_major": 2,
       "version_minor": 0
      },
      "text/plain": [
       "interactive(children=(Dropdown(description='split_name', index=1, options=('train', 'validation'), value='vali…"
      ]
     },
     "metadata": {},
     "output_type": "display_data"
    }
   ],
   "source": [
    "metrics_name = [\n",
    "    \"total_loss\",\n",
    "    \"reconstruction_error\",\n",
    "    \"vq_loss\",\n",
    "]\n",
    "\n",
    "def show_metrics(split_name=\"validation\"):\n",
    "    plot_groups_metrics(groups_metrics, metrics_name, split_name)\n",
    "display(ipw.interactive(show_metrics, split_name=[\"train\", \"validation\"]))"
   ]
  },
  {
   "cell_type": "code",
   "execution_count": null,
   "id": "f338a024-b197-4365-9257-4843a231315c",
   "metadata": {},
   "outputs": [],
   "source": []
  }
 ],
 "metadata": {
  "kernelspec": {
   "display_name": "Python 3",
   "language": "python",
   "name": "python3"
  },
  "language_info": {
   "codemirror_mode": {
    "name": "ipython",
    "version": 3
   },
   "file_extension": ".py",
   "mimetype": "text/x-python",
   "name": "python",
   "nbconvert_exporter": "python",
   "pygments_lexer": "ipython3",
   "version": "3.7.5"
  }
 },
 "nbformat": 4,
 "nbformat_minor": 5
}
