{
 "cells": [
  {
   "cell_type": "code",
   "execution_count": 1,
   "id": "d00488b6-d8e3-4704-8be5-b827bff2d352",
   "metadata": {},
   "outputs": [],
   "source": [
    "import sys\n",
    "sys.path.append(\"..\")\n",
    "\n",
    "from glob import glob\n",
    "import matplotlib.pyplot as plt\n",
    "import ipywidgets as ipw\n",
    "from IPython.display import Audio\n",
    "import numpy as np \n",
    "import pickle\n",
    "\n",
    "from quantizer import Quantizer\n",
    "from lib.dataset_wrapper import Dataset\n",
    "from lib.notebooks import show_ema\n",
    "from external import lpcynet"
   ]
  },
  {
   "cell_type": "code",
   "execution_count": 2,
   "id": "447630ba-d1cd-436a-acd9-cb205350c4b0",
   "metadata": {},
   "outputs": [],
   "source": [
    "quantizers_path = glob(\"../out/quantizer/*/\")\n",
    "quantizers_path.sort()"
   ]
  },
  {
   "cell_type": "code",
   "execution_count": 3,
   "id": "e8640ae2-15b4-421d-a4f6-4d8e0e099f88",
   "metadata": {},
   "outputs": [],
   "source": [
    "quantizers_alias = {}\n",
    "\n",
    "for quantizer_path in quantizers_path:\n",
    "    quantizer = Quantizer.reload(quantizer_path, load_nn=False)\n",
    "    config = quantizer.config\n",
    "    \n",
    "    quantizer_i = quantizer_path[-2]\n",
    "    quantizer_alias = \"\\n\".join((\n",
    "        f\"{','.join(config['dataset']['names'])}\",\n",
    "        f\"hidden_layers={len(config['model']['hidden_dims'])}x{config['model']['hidden_dims'][0]}\",\n",
    "        f\"{quantizer_i}\",\n",
    "    ))\n",
    "    \n",
    "    quantizers_alias[quantizer_alias] = quantizer_path"
   ]
  },
  {
   "cell_type": "code",
   "execution_count": 7,
   "id": "37c540ae-bdb0-4b7e-8644-00afc8054b7d",
   "metadata": {},
   "outputs": [
    {
     "data": {
      "application/vnd.jupyter.widget-view+json": {
       "model_id": "58377eb898b04ea7a5d228f3b5efa415",
       "version_major": 2,
       "version_minor": 0
      },
      "text/plain": [
       "interactive(children=(Dropdown(description='quantizer_alias', options=('pb2007\\nhidden_layers=4x256\\na',), val…"
      ]
     },
     "metadata": {},
     "output_type": "display_data"
    }
   ],
   "source": [
    "datasets_current_item = {}\n",
    "\n",
    "def show_quantizer(quantizer_alias):\n",
    "    quantizer_path = quantizers_alias[quantizer_alias]\n",
    "    quantizer = Quantizer.reload(quantizer_path)\n",
    "    \n",
    "    sound_type = quantizer.config[\"dataset\"][\"data_type\"]\n",
    "    assert sound_type == \"cepstrum\"\n",
    "    \n",
    "    def show_dataset(dataset_name):\n",
    "        dataset = Dataset(dataset_name)\n",
    "        speaker_id = quantizer.config[\"dataset\"][\"names\"].index(dataset_name)\n",
    "        items_cepstrum = dataset.get_items_data(sound_type, cut_silences=True)\n",
    "        items_source = dataset.get_items_data(\"source\", cut_silences=True)\n",
    "        sampling_rate = dataset.features_config[\"wav_sampling_rate\"]\n",
    "        \n",
    "        items_name = dataset.get_items_list()\n",
    "        if dataset_name in datasets_current_item:\n",
    "            current_item = datasets_current_item[dataset_name]\n",
    "        else:\n",
    "            current_item = items_name[0][0]\n",
    "        \n",
    "        def resynth_item(item_name=current_item, freeze_source=False):\n",
    "            datasets_current_item[dataset_name] = item_name\n",
    "            \n",
    "            item_cepstrum = items_cepstrum[item_name]\n",
    "            item_source = items_source[item_name]\n",
    "            item_wave = dataset.get_item_wave(item_name)\n",
    "            nb_frames = len(item_cepstrum)\n",
    "            \n",
    "            repetition = quantizer.autoencode(item_cepstrum, speaker_id)\n",
    "            resynth_cepstrum = repetition[\"seqs_pred\"]\n",
    "            \n",
    "            if freeze_source:\n",
    "                item_source[:] = (1, 0)\n",
    "            \n",
    "            resynth_sound = np.concatenate((resynth_cepstrum, item_source), axis=1)\n",
    "\n",
    "            repeated_wave = lpcynet.synthesize_frames(resynth_sound)\n",
    "            \n",
    "            print(\"Original sound:\")\n",
    "            display(Audio(item_wave, rate=sampling_rate))\n",
    "            print(\"Resynth (VQ-VAE → LPCNet):\")\n",
    "            display(Audio(repeated_wave, rate=sampling_rate))\n",
    "            \n",
    "            plt.figure(figsize=(nb_frames/20, 6), dpi=120)\n",
    "            \n",
    "            ax = plt.subplot(311)\n",
    "            ax.set_title(\"original %s\" % (sound_type))\n",
    "            ax.imshow(item_cepstrum.T, origin=\"lower\")\n",
    "            \n",
    "            ax = plt.subplot(312)\n",
    "            ax.set_title(\"Repetition\")\n",
    "            ax.imshow(resynth_cepstrum.T, origin=\"lower\")\n",
    "            \n",
    "            plt.tight_layout()\n",
    "            plt.show()\n",
    "        \n",
    "        display(ipw.interactive(resynth_item, item_name=items_name, freeze_source=False))\n",
    "    display(ipw.interactive(show_dataset, dataset_name=quantizer.config[\"dataset\"][\"names\"]))\n",
    "\n",
    "display(ipw.interactive(show_quantizer, quantizer_alias=sorted(quantizers_alias.keys())))"
   ]
  },
  {
   "cell_type": "code",
   "execution_count": null,
   "id": "7cf268e4-c661-4e82-97b9-982b2790da46",
   "metadata": {},
   "outputs": [],
   "source": []
  }
 ],
 "metadata": {
  "kernelspec": {
   "display_name": "Python 3",
   "language": "python",
   "name": "python3"
  },
  "language_info": {
   "codemirror_mode": {
    "name": "ipython",
    "version": 3
   },
   "file_extension": ".py",
   "mimetype": "text/x-python",
   "name": "python",
   "nbconvert_exporter": "python",
   "pygments_lexer": "ipython3",
   "version": "3.7.5"
  }
 },
 "nbformat": 4,
 "nbformat_minor": 5
}
