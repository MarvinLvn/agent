{
 "cells": [
  {
   "cell_type": "code",
   "execution_count": 1,
   "id": "375dc537-aa32-44e1-8a3e-56cac2227061",
   "metadata": {},
   "outputs": [],
   "source": [
    "import sys\n",
    "sys.path.append(\"..\")\n",
    "\n",
    "from glob import glob\n",
    "import matplotlib.pyplot as plt\n",
    "import ipywidgets as ipw\n",
    "import numpy as np\n",
    "import pandas as pd\n",
    "from tqdm.notebook import tqdm\n",
    "import pickle\n",
    "\n",
    "from quantizer import Quantizer\n",
    "from lib.dataset_wrapper import Dataset\n",
    "from lib import utils\n",
    "from lib import abx_utils"
   ]
  },
  {
   "cell_type": "code",
   "execution_count": 2,
   "id": "c71e4a84-3c40-4fbe-af69-848b2ed740c5",
   "metadata": {},
   "outputs": [],
   "source": [
    "ABX_NB_SAMPLES = 50\n",
    "QUANTIZER_ABX_DISTANCES = [\n",
    "    {\n",
    "        \"quantized_latent\": {\n",
    "            \"metric\": \"cosine\",\n",
    "            \"weight\": 1,\n",
    "        }\n",
    "    },\n",
    "]"
   ]
  },
  {
   "cell_type": "code",
   "execution_count": 3,
   "id": "cb0526b7-2a50-4ae6-9d93-9608a64a580e",
   "metadata": {},
   "outputs": [],
   "source": [
    "quantizers_path = glob(\"../out/quantizer/*/\")\n",
    "quantizers_path.sort()"
   ]
  },
  {
   "cell_type": "code",
   "execution_count": 4,
   "id": "05647871-c4fd-4561-9269-9feef10f6d4e",
   "metadata": {},
   "outputs": [],
   "source": [
    "quantizers_alias = {}\n",
    "\n",
    "for quantizer_path in quantizers_path:\n",
    "    quantizer = Quantizer.reload(quantizer_path, load_nn=False)\n",
    "    config = quantizer.config\n",
    "    \n",
    "    quantizer_i = quantizer_path[-2]\n",
    "    quantizer_alias = \"\\n\".join((\n",
    "        f\"{','.join(config['dataset']['names'])}\",\n",
    "        f\"hidden_layers={len(config['model']['hidden_dims'])}x{config['model']['hidden_dims'][0]}\",\n",
    "        f\"{quantizer_i}\",\n",
    "    ))\n",
    "    \n",
    "    quantizers_alias[quantizer_alias] = quantizer_path"
   ]
  },
  {
   "cell_type": "code",
   "execution_count": 5,
   "id": "daf84d63-1b4f-4605-9869-07ecf822195f",
   "metadata": {},
   "outputs": [
    {
     "data": {
      "application/vnd.jupyter.widget-view+json": {
       "model_id": "bd4ce36f6a904bee96d7ad3e4ebc58ee",
       "version_major": 2,
       "version_minor": 0
      },
      "text/plain": [
       "  0%|          | 0/202 [00:00<?, ?it/s]"
      ]
     },
     "metadata": {},
     "output_type": "display_data"
    }
   ],
   "source": [
    "quantizers_abx_matrices = utils.pickle_load(\"../out/quantizer/abx_cache.pickle\", {})\n",
    "# quantizers_abx_matrices = {}\n",
    "\n",
    "for quantizer_path in tqdm(quantizers_path):\n",
    "    quantizer = Quantizer.reload(quantizer_path)\n",
    "    \n",
    "    main_dataset = quantizer.main_dataset\n",
    "    quantizer_lab = quantizer.get_datasplit_lab(2)\n",
    "    quantizer_features = quantizer.autoencode_datasplit(2)\n",
    "\n",
    "    consonants = main_dataset.phones_infos[\"consonants\"]\n",
    "    vowels = main_dataset.phones_infos[\"vowels\"]\n",
    "    consonants_indexes = abx_utils.get_datasets_phones_indexes(quantizer_lab, consonants, vowels)\n",
    "    \n",
    "    if quantizer_path not in quantizers_abx_matrices:\n",
    "        quantizers_abx_matrices[quantizer_path] = {}\n",
    "    quantizer_abx_matrices = quantizers_abx_matrices[quantizer_path]\n",
    "    \n",
    "    for distance in QUANTIZER_ABX_DISTANCES:\n",
    "        distance_signature = abx_utils.get_distance_signature(distance)\n",
    "        if distance_signature in quantizer_abx_matrices: continue\n",
    "        abx_matrix = abx_utils.get_abx_matrix(consonants, consonants_indexes, quantizer_features, distance, ABX_NB_SAMPLES)\n",
    "        \n",
    "        quantizer_abx_matrices[distance_signature] = abx_matrix\n",
    "        utils.pickle_dump(\"../out/quantizer/abx_cache.pickle\", quantizers_abx_matrices)"
   ]
  },
  {
   "cell_type": "code",
   "execution_count": 6,
   "id": "96bde83e-1a9a-4e37-a4bb-eb60ef97e749",
   "metadata": {},
   "outputs": [
    {
     "data": {
      "image/png": "[encoded data removed]",
      "text/plain": [
       "<Figure size 432x288 with 1 Axes>"
      ]
     },
     "metadata": {
      "needs_background": "light"
     },
     "output_type": "display_data"
    }
   ],
   "source": [
    "for distance in QUANTIZER_ABX_DISTANCES:\n",
    "    distance_signature = abx_utils.get_distance_signature(distance)\n",
    "    \n",
    "    plt.figure()\n",
    "    ax = plt.subplot(aspect=\"equal\")\n",
    "    ax.set_xlim(50, 100)\n",
    "    ax.set_ylim(50, 100)\n",
    "    ax.set_xlabel(\"Manner\")\n",
    "    ax.set_ylabel(\"Place\")\n",
    "    \n",
    "    ax.set_title(distance_signature)\n",
    "    \n",
    "    for quantizer_alias, quantizer_path in quantizers_alias.items():\n",
    "        quantizer = Quantizer.reload(quantizer_path, load_nn=False)\n",
    "        dataset = quantizer.main_dataset\n",
    "        \n",
    "        color = \"tab:green\"\n",
    "\n",
    "        quantizer_abx_matrix = quantizers_abx_matrices[quantizer_path][distance_signature]\n",
    "        quantizer_groups_score = abx_utils.get_groups_score(consonants, quantizer_abx_matrix, dataset.phones_infos[\"consonant_groups\"])\n",
    "        ax.scatter(quantizer_groups_score[\"manner\"], quantizer_groups_score[\"place\"], c=color)\n",
    "        # raise\n",
    "    \n",
    "    plt.show()"
   ]
  },
  {
   "cell_type": "code",
   "execution_count": 9,
   "id": "2f946940-0f5a-46a3-b022-d5ba150e27c1",
   "metadata": {},
   "outputs": [],
   "source": [
    "distance = QUANTIZER_ABX_DISTANCES[0]\n",
    "distance_signature = abx_utils.get_distance_signature(distance)\n",
    "\n",
    "quantizers_loss = {\n",
    "    \"path\": [],\n",
    "    \"datasets\": [],\n",
    "    \"hidden_layers\": [],\n",
    "    \"num_embeddings\": [],\n",
    "    \"embedding_dim\": [],\n",
    "    \"dropout_p\": [],\n",
    "    \"learning_rate\": [],\n",
    "    \"commitment_cost\": [],\n",
    "    \"total_loss\": [],\n",
    "    \"reconstruction_error\": [],\n",
    "    \"vq_loss\": [],\n",
    "    \"abx_manner\": [],\n",
    "    \"abx_place\": [],\n",
    "    \"abx_global\": [],\n",
    "}\n",
    "\n",
    "for quantizer_path in quantizers_path:\n",
    "    quantizer = Quantizer.reload(quantizer_path, load_nn=False)\n",
    "    config = quantizer.config\n",
    "    \n",
    "    with open(\"%s/metrics.pickle\" % quantizer_path, \"rb\") as f:\n",
    "        metrics = pickle.load(f)\n",
    "    final_loss_index = np.argmin(metrics[\"validation\"][\"total_loss\"])\n",
    "    final_total_loss = metrics[\"test\"][\"total_loss\"][final_loss_index]\n",
    "    final_reconstruction_error = metrics[\"test\"][\"reconstruction_error\"][final_loss_index]\n",
    "    final_vq_loss = metrics[\"test\"][\"vq_loss\"][final_loss_index]\n",
    "    \n",
    "    quantizers_loss[\"path\"].append(quantizer_path[-5:])\n",
    "    quantizers_loss[\"datasets\"].append(\",\".join(config['dataset']['names']))\n",
    "    quantizers_loss[\"hidden_layers\"].append(f\"{len(config['model']['hidden_dims'])}x{config['model']['hidden_dims'][0]}\")\n",
    "    quantizers_loss[\"num_embeddings\"].append(config['model']['num_embeddings'])\n",
    "    quantizers_loss[\"embedding_dim\"].append(config['model']['embedding_dim'])\n",
    "    quantizers_loss[\"dropout_p\"].append(config['model']['dropout_p'])    \n",
    "    quantizers_loss[\"learning_rate\"].append(config['training']['learning_rate'])\n",
    "    quantizers_loss[\"commitment_cost\"].append(config['model']['commitment_cost'])\n",
    "    \n",
    "    quantizers_loss[\"total_loss\"].append(final_total_loss)\n",
    "    quantizers_loss[\"reconstruction_error\"].append(final_reconstruction_error)\n",
    "    quantizers_loss[\"vq_loss\"].append(final_vq_loss)\n",
    "    \n",
    "    quantizer_abx_matrix = quantizers_abx_matrices[quantizer_path][distance_signature]\n",
    "    quantizer_groups_score = abx_utils.get_groups_score(consonants, quantizer_abx_matrix, dataset.phones_infos[\"consonant_groups\"])\n",
    "    quantizer_global_score = abx_utils.get_global_score(quantizer_abx_matrix)\n",
    "    \n",
    "    quantizers_loss[\"abx_manner\"].append(quantizer_groups_score[\"manner\"])\n",
    "    quantizers_loss[\"abx_place\"].append(quantizer_groups_score[\"place\"])\n",
    "    quantizers_loss[\"abx_global\"].append(quantizer_global_score)\n",
    "    \n",
    "quantizers_loss = pd.DataFrame(quantizers_loss)"
   ]
  },
  {
   "cell_type": "code",
   "execution_count": 10,
   "id": "c5f8c45e-1ce0-4b48-a810-0b400152f2ff",
   "metadata": {},
   "outputs": [
    {
     "data": {
      "application/vnd.jupyter.widget-view+json": {
       "model_id": "b58fd5d8b7d24d50adf244235b75c475",
       "version_major": 2,
       "version_minor": 0
      },
      "text/plain": [
       "interactive(children=(Dropdown(description='measure', options=('path', 'datasets', 'hidden_layers', 'num_embed…"
      ]
     },
     "metadata": {},
     "output_type": "display_data"
    }
   ],
   "source": [
    "measures = list(quantizers_loss)\n",
    "\n",
    "def show_top_quantizers(measure, ascending):\n",
    "    display(quantizers_loss.sort_values(measure, ascending=ascending).head(30))\n",
    "\n",
    "ipw.interactive(show_top_quantizers, measure=measures, ascending=True)"
   ]
  },
  {
   "cell_type": "code",
   "execution_count": null,
   "id": "6603d0c4-588f-494d-b7f3-198ff9922dc6",
   "metadata": {},
   "outputs": [],
   "source": []
  }
 ],
 "metadata": {
  "kernelspec": {
   "display_name": "Python 3",
   "language": "python",
   "name": "python3"
  },
  "language_info": {
   "codemirror_mode": {
    "name": "ipython",
    "version": 3
   },
   "file_extension": ".py",
   "mimetype": "text/x-python",
   "name": "python",
   "nbconvert_exporter": "python",
   "pygments_lexer": "ipython3",
   "version": "3.7.5"
  }
 },
 "nbformat": 4,
 "nbformat_minor": 5
}
