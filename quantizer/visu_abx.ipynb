{
 "cells": [
  {
   "cell_type": "code",
   "execution_count": 1,
   "id": "375dc537-aa32-44e1-8a3e-56cac2227061",
   "metadata": {},
   "outputs": [],
   "source": [
    "import sys\n",
    "sys.path.append(\"..\")\n",
    "\n",
    "from glob import glob\n",
    "import matplotlib.pyplot as plt\n",
    "import ipywidgets as ipw\n",
    "import numpy as np\n",
    "import pandas as pd\n",
    "from tqdm.notebook import tqdm\n",
    "import pickle\n",
    "\n",
    "from quantizer import Quantizer\n",
    "from lib.dataset_wrapper import Dataset\n",
    "from lib import utils\n",
    "from lib import abx_utils"
   ]
  },
  {
   "cell_type": "code",
   "execution_count": 2,
   "id": "c71e4a84-3c40-4fbe-af69-848b2ed740c5",
   "metadata": {},
   "outputs": [],
   "source": [
    "ABX_NB_SAMPLES = 50\n",
    "QUANTIZER_ABX_DISTANCES = [\n",
    "    {\n",
    "        \"quantized_latent\": {\n",
    "            \"metric\": \"cosine\",\n",
    "            \"weight\": 1,\n",
    "        }\n",
    "    },\n",
    "]"
   ]
  },
  {
   "cell_type": "code",
   "execution_count": 3,
   "id": "cb0526b7-2a50-4ae6-9d93-9608a64a580e",
   "metadata": {},
   "outputs": [],
   "source": [
    "quantizers_path = glob(\"../out/quantizer/*/\")\n",
    "quantizers_path.sort()"
   ]
  },
  {
   "cell_type": "code",
   "execution_count": 4,
   "id": "05647871-c4fd-4561-9269-9feef10f6d4e",
   "metadata": {},
   "outputs": [],
   "source": [
    "quantizers_alias = {}\n",
    "\n",
    "for quantizer_path in quantizers_path:\n",
    "    quantizer = Quantizer.reload(quantizer_path, load_nn=False)\n",
    "    config = quantizer.config\n",
    "    \n",
    "    quantizer_i = quantizer_path[-2]\n",
    "    quantizer_alias = \"\\n\".join((\n",
    "        f\"{','.join(config['dataset']['names'])}\",\n",
    "        f\"hidden_layers={len(config['model']['hidden_dims'])}x{config['model']['hidden_dims'][0]}\",\n",
    "        f\"{quantizer_i}\",\n",
    "    ))\n",
    "    \n",
    "    quantizers_alias[quantizer_alias] = quantizer_path"
   ]
  },
  {
   "cell_type": "code",
   "execution_count": 5,
   "id": "ba6a832f-3dc0-41b2-8b4c-18df3e276021",
   "metadata": {},
   "outputs": [],
   "source": [
    "quantizers_abx_matrices = utils.pickle_load(\"../out/quantizer/abx_cache.pickle\", {})"
   ]
  },
  {
   "cell_type": "code",
   "execution_count": 8,
   "id": "daf84d63-1b4f-4605-9869-07ecf822195f",
   "metadata": {},
   "outputs": [
    {
     "data": {
      "application/vnd.jupyter.widget-view+json": {
       "model_id": "26d863867b6940398176ecee8a699e56",
       "version_major": 2,
       "version_minor": 0
      },
      "text/plain": [
       "  0%|          | 0/459 [00:00<?, ?it/s]"
      ]
     },
     "metadata": {},
     "output_type": "display_data"
    }
   ],
   "source": [
    "for quantizer_path in tqdm(quantizers_path):    \n",
    "    if quantizer_path not in quantizers_abx_matrices:\n",
    "        quantizers_abx_matrices[quantizer_path] = {}\n",
    "    quantizer_abx_matrices = quantizers_abx_matrices[quantizer_path]\n",
    "    \n",
    "    for distance in QUANTIZER_ABX_DISTANCES:\n",
    "        distance_signature = abx_utils.get_distance_signature(distance)\n",
    "        if distance_signature not in quantizer_abx_matrices: break\n",
    "    else:\n",
    "        continue\n",
    "    \n",
    "    quantizer = Quantizer.reload(quantizer_path)\n",
    "    \n",
    "    main_dataset = quantizer.main_dataset\n",
    "    quantizer_lab = quantizer.get_datasplit_lab(2)\n",
    "    quantizer_features = quantizer.autoencode_datasplit(2)\n",
    "\n",
    "    consonants = main_dataset.phones_infos[\"consonants\"]\n",
    "    vowels = main_dataset.phones_infos[\"vowels\"]\n",
    "    consonants_indexes = abx_utils.get_datasets_phones_indexes(quantizer_lab, consonants, vowels)\n",
    "    \n",
    "    for distance in QUANTIZER_ABX_DISTANCES:\n",
    "        abx_matrix = abx_utils.get_abx_matrix(consonants, consonants_indexes, quantizer_features, distance, ABX_NB_SAMPLES)\n",
    "        \n",
    "        quantizer_abx_matrices[distance_signature] = abx_matrix\n",
    "        utils.pickle_dump(\"../out/quantizer/abx_cache.pickle\", quantizers_abx_matrices)"
   ]
  },
  {
   "cell_type": "code",
   "execution_count": 26,
   "id": "96bde83e-1a9a-4e37-a4bb-eb60ef97e749",
   "metadata": {},
   "outputs": [
    {
     "data": {
      "image/png": "[encoded data removed]",
      "text/plain": [
       "<Figure size 432x288 with 1 Axes>"
      ]
     },
     "metadata": {
      "needs_background": "light"
     },
     "output_type": "display_data"
    }
   ],
   "source": [
    "colors = {\n",
    "    \"cepstrum\": \"tab:orange\",\n",
    "    \"art_params\": \"tab:blue\",\n",
    "    \"cepstrum,art_params\": \"tab:green\",\n",
    "}\n",
    "\n",
    "for distance in QUANTIZER_ABX_DISTANCES:\n",
    "    distance_signature = abx_utils.get_distance_signature(distance)\n",
    "    \n",
    "    plt.figure()\n",
    "    ax = plt.subplot(aspect=\"equal\")\n",
    "    ax.set_xlim(50, 100)\n",
    "    ax.set_ylim(50, 100)\n",
    "    ax.set_xlabel(\"Manner\")\n",
    "    ax.set_ylabel(\"Place\")\n",
    "    \n",
    "    ax.set_title(distance_signature)\n",
    "    \n",
    "    for quantizer_alias, quantizer_path in quantizers_alias.items():\n",
    "        quantizer = Quantizer.reload(quantizer_path, load_nn=False)\n",
    "        dataset = quantizer.main_dataset\n",
    "        if \",\".join(quantizer.config[\"dataset\"][\"names\"]) != \"pb2007\":\n",
    "            continue\n",
    "        \n",
    "        modalities = \",\".join(quantizer.config[\"dataset\"][\"data_types\"])\n",
    "        color = colors[modalities]\n",
    "\n",
    "        quantizer_abx_matrix = quantizers_abx_matrices[quantizer_path][distance_signature]\n",
    "        quantizer_groups_score = abx_utils.get_groups_score(consonants, quantizer_abx_matrix, dataset.phones_infos[\"consonant_groups\"])\n",
    "        ax.scatter(quantizer_groups_score[\"manner\"], quantizer_groups_score[\"place\"], c=color)\n",
    "        # raise\n",
    "    \n",
    "    plt.show()"
   ]
  },
  {
   "cell_type": "code",
   "execution_count": 16,
   "id": "2f946940-0f5a-46a3-b022-d5ba150e27c1",
   "metadata": {},
   "outputs": [],
   "source": [
    "distance = QUANTIZER_ABX_DISTANCES[0]\n",
    "distance_signature = abx_utils.get_distance_signature(distance)\n",
    "\n",
    "quantizers_loss = {\n",
    "    \"path\": [],\n",
    "    \"datasets\": [],\n",
    "    \"modalities\": [],\n",
    "    \"hidden_layers\": [],\n",
    "    \"num_embeddings\": [],\n",
    "    \"embedding_dim\": [],\n",
    "    \"dropout_p\": [],\n",
    "    \"learning_rate\": [],\n",
    "    \"commitment_cost\": [],\n",
    "    \"total_loss\": [],\n",
    "    \"reconstruction_error\": [],\n",
    "    \"vq_loss\": [],\n",
    "    \"abx_manner\": [],\n",
    "    \"abx_place\": [],\n",
    "    \"abx_global\": [],\n",
    "}\n",
    "\n",
    "for quantizer_path in quantizers_path:\n",
    "    quantizer = Quantizer.reload(quantizer_path, load_nn=False)\n",
    "    config = quantizer.config\n",
    "    \n",
    "    with open(\"%s/metrics.pickle\" % quantizer_path, \"rb\") as f:\n",
    "        metrics = pickle.load(f)\n",
    "    final_loss_index = np.argmin(metrics[\"validation\"][\"total_loss\"])\n",
    "    final_total_loss = metrics[\"test\"][\"total_loss\"][final_loss_index]\n",
    "    final_reconstruction_error = metrics[\"test\"][\"reconstruction_error\"][final_loss_index]\n",
    "    final_vq_loss = metrics[\"test\"][\"vq_loss\"][final_loss_index]\n",
    "    \n",
    "    quantizers_loss[\"path\"].append(quantizer_path[-5:])\n",
    "    quantizers_loss[\"datasets\"].append(\",\".join(config['dataset']['names']))\n",
    "    quantizers_loss[\"modalities\"].append(\",\".join(config['dataset']['data_types']))\n",
    "    quantizers_loss[\"hidden_layers\"].append(f\"{len(config['model']['hidden_dims'])}x{config['model']['hidden_dims'][0]}\")\n",
    "    quantizers_loss[\"num_embeddings\"].append(config['model']['num_embeddings'])\n",
    "    quantizers_loss[\"embedding_dim\"].append(config['model']['embedding_dim'])\n",
    "    quantizers_loss[\"dropout_p\"].append(config['model']['dropout_p'])    \n",
    "    quantizers_loss[\"learning_rate\"].append(config['training']['learning_rate'])\n",
    "    quantizers_loss[\"commitment_cost\"].append(config['model']['commitment_cost'])\n",
    "    \n",
    "    quantizers_loss[\"total_loss\"].append(final_total_loss)\n",
    "    quantizers_loss[\"reconstruction_error\"].append(final_reconstruction_error)\n",
    "    quantizers_loss[\"vq_loss\"].append(final_vq_loss)\n",
    "    \n",
    "    consonants = quantizer.main_dataset.phones_infos[\"consonants\"]\n",
    "    vowels = quantizer.main_dataset.phones_infos[\"vowels\"]\n",
    "    quantizer_abx_matrix = quantizers_abx_matrices[quantizer_path][distance_signature]\n",
    "    quantizer_groups_score = abx_utils.get_groups_score(consonants, quantizer_abx_matrix, dataset.phones_infos[\"consonant_groups\"])\n",
    "    quantizer_global_score = abx_utils.get_global_score(quantizer_abx_matrix)\n",
    "    \n",
    "    quantizers_loss[\"abx_manner\"].append(quantizer_groups_score[\"manner\"])\n",
    "    quantizers_loss[\"abx_place\"].append(quantizer_groups_score[\"place\"])\n",
    "    quantizers_loss[\"abx_global\"].append(quantizer_global_score)\n",
    "    \n",
    "quantizers_loss = pd.DataFrame(quantizers_loss)"
   ]
  },
  {
   "cell_type": "code",
   "execution_count": 22,
   "id": "c5f8c45e-1ce0-4b48-a810-0b400152f2ff",
   "metadata": {},
   "outputs": [
    {
     "data": {
      "application/vnd.jupyter.widget-view+json": {
       "model_id": "9f7bf3ee2b854f0ebedf1fd3fc8296bf",
       "version_major": 2,
       "version_minor": 0
      },
      "text/plain": [
       "interactive(children=(Dropdown(description='measure', index=14, options=('path', 'datasets', 'modalities', 'hi…"
      ]
     },
     "metadata": {},
     "output_type": "display_data"
    }
   ],
   "source": [
    "datasets = pd.unique(quantizers_loss[\"datasets\"])\n",
    "modalities = pd.unique(quantizers_loss[\"modalities\"])\n",
    "\n",
    "def show_top_quantizers(measure=\"abx_global\", datasets=datasets[0], modalities=modalities[0], ascending=False):\n",
    "    subset = quantizers_loss[quantizers_loss[\"datasets\"] == datasets]\n",
    "    subset = subset[subset[\"modalities\"] == modalities]\n",
    "    display(subset.sort_values(measure, ascending=ascending).head(30))\n",
    "\n",
    "ipw.interactive(show_top_quantizers, measure=quantizers_loss, datasets=datasets, modalities=modalities, ascending=False)"
   ]
  },
  {
   "cell_type": "code",
   "execution_count": null,
   "id": "6603d0c4-588f-494d-b7f3-198ff9922dc6",
   "metadata": {},
   "outputs": [],
   "source": []
  }
 ],
 "metadata": {
  "kernelspec": {
   "display_name": "Python 3",
   "language": "python",
   "name": "python3"
  },
  "language_info": {
   "codemirror_mode": {
    "name": "ipython",
    "version": 3
   },
   "file_extension": ".py",
   "mimetype": "text/x-python",
   "name": "python",
   "nbconvert_exporter": "python",
   "pygments_lexer": "ipython3",
   "version": "3.7.5"
  }
 },
 "nbformat": 4,
 "nbformat_minor": 5
}
