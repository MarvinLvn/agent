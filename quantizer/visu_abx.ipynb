{
 "cells": [
  {
   "cell_type": "code",
   "execution_count": 1,
   "id": "375dc537-aa32-44e1-8a3e-56cac2227061",
   "metadata": {},
   "outputs": [],
   "source": [
    "import sys\n",
    "import os\n",
    "sys.path.append(\"..\")\n",
    "\n",
    "from glob import glob\n",
    "import matplotlib.pyplot as plt\n",
    "import ipywidgets as ipw\n",
    "import numpy as np\n",
    "import pandas as pd\n",
    "from tqdm.notebook import tqdm\n",
    "import pickle\n",
    "\n",
    "from quantizer import Quantizer\n",
    "from lib.dataset_wrapper import Dataset\n",
    "from lib import utils\n",
    "from lib import abx_utils"
   ]
  },
  {
   "cell_type": "code",
   "execution_count": 35,
   "id": "c71e4a84-3c40-4fbe-af69-848b2ed740c5",
   "metadata": {},
   "outputs": [],
   "source": [
    "ABX_NB_SAMPLES = 500\n",
    "QUANTIZER_ABX_DISTANCES = [\n",
    "    {\n",
    "        \"quantized_latent\": {\n",
    "            \"metric\": \"cosine\",\n",
    "            \"weight\": 1,\n",
    "        }\n",
    "    },\n",
    "]"
   ]
  },
  {
   "cell_type": "code",
   "execution_count": 27,
   "id": "cb0526b7-2a50-4ae6-9d93-9608a64a580e",
   "metadata": {},
   "outputs": [],
   "source": [
    "quantizers_path = glob(\"../out/quantizer/*/\")\n",
    "quantizers_path = [q for q in quantizers_path if q.split('/')[-2] not in ['thomas', 'trash', 'Submission_CoLing']]\n",
    "quantizers_path = [q for q in quantizers_path if q.split('/')[-2].split('_')[0] not in ['communicative', 'imitative']]\n",
    "#quantizers_path = glob(\"../out/quantizer/thomas/*/\")\n",
    "#quantizers_path.sort()"
   ]
  },
  {
   "cell_type": "code",
   "execution_count": 28,
   "id": "05647871-c4fd-4561-9269-9feef10f6d4e",
   "metadata": {},
   "outputs": [],
   "source": [
    "quantizers_alias = {}\n",
    "\n",
    "for quantizer_path in quantizers_path:\n",
    "    quantizer = Quantizer.reload(quantizer_path, load_nn=False)\n",
    "    config = quantizer.config\n",
    "    \n",
    "    quantizer_i = quantizer_path[-2]\n",
    "    quantizer_alias = \"\\n\".join((\n",
    "         f\"{','.join(config['dataset']['names'])}\",\n",
    "         f\"hidden_layers={len(config['model']['hidden_dims'])}x{config['model']['hidden_dims'][0]}\",\n",
    "         f\"{quantizer_i}\",\n",
    "     ))\n",
    "    \n",
    "    quantizers_alias[quantizer_alias] = quantizer_path"
   ]
  },
  {
   "cell_type": "code",
   "execution_count": 29,
   "id": "ba6a832f-3dc0-41b2-8b4c-18df3e276021",
   "metadata": {},
   "outputs": [],
   "source": [
    "quantizers_abx_matrices = utils.pickle_load(\"../out/quantizer/abx_cache.pickle\", {})"
   ]
  },
  {
   "cell_type": "code",
   "execution_count": 37,
   "id": "daf84d63-1b4f-4605-9869-07ecf822195f",
   "metadata": {},
   "outputs": [
    {
     "data": {
      "application/vnd.jupyter.widget-view+json": {
       "model_id": "6ab5111159c64d82beed06695caf99c1",
       "version_major": 2,
       "version_minor": 0
      },
      "text/plain": [
       "  0%|          | 0/10 [00:00<?, ?it/s]"
      ]
     },
     "metadata": {},
     "output_type": "display_data"
    }
   ],
   "source": [
    "for quantizer_path in tqdm(quantizers_path):    \n",
    "    if quantizer_path not in quantizers_abx_matrices:\n",
    "        quantizers_abx_matrices[quantizer_path] = {}\n",
    "    quantizer_abx_matrices = quantizers_abx_matrices[quantizer_path]\n",
    "    \n",
    "    for distance in QUANTIZER_ABX_DISTANCES:\n",
    "        distance_signature = abx_utils.get_distance_signature(distance)\n",
    "        if distance_signature not in quantizer_abx_matrices: \n",
    "            break\n",
    "        else:\n",
    "            continue\n",
    "    \n",
    "    quantizer = Quantizer.reload(quantizer_path)\n",
    "    \n",
    "    main_dataset = quantizer.main_dataset\n",
    "    quantizer_lab = quantizer.get_datasplit_lab(2)\n",
    "    quantizer_features = quantizer.autoencode_datasplit(2)\n",
    "    consonants = main_dataset.phones_infos[\"consonants\"]\n",
    "    vowels = main_dataset.phones_infos[\"vowels\"]\n",
    "    consonants_indexes = abx_utils.get_datasets_phones_indexes(quantizer_lab, consonants, vowels)\n",
    "    \n",
    "    for distance in QUANTIZER_ABX_DISTANCES:\n",
    "        distance_signature = abx_utils.get_distance_signature(distance)\n",
    "        #if distance_signature in quantizer_abx_matrices: continue\n",
    "        abx_matrix = abx_utils.get_abx_matrix(consonants, consonants_indexes, quantizer_features, distance, ABX_NB_SAMPLES)\n",
    "        quantizer_abx_matrices[distance_signature] = abx_matrix\n",
    "        utils.pickle_dump(\"../out/quantizer/abx_cache.pickle\", quantizers_abx_matrices)\n"
   ]
  },
  {
   "cell_type": "code",
   "execution_count": 38,
   "id": "96bde83e-1a9a-4e37-a4bb-eb60ef97e749",
   "metadata": {},
   "outputs": [
    {
     "name": "stdout",
     "output_type": "stream",
     "text": [
      "tab:orange\n",
      "tab:blue\n",
      "tab:blue\n",
      "tab:orange\n",
      "tab:blue\n",
      "tab:blue\n",
      "tab:orange\n",
      "tab:orange\n",
      "tab:orange\n",
      "tab:blue\n"
     ]
    },
    {
     "data": {
      "image/png": "[encoded data removed]",
      "text/plain": [
       "<Figure size 640x480 with 1 Axes>"
      ]
     },
     "metadata": {},
     "output_type": "display_data"
    }
   ],
   "source": [
    "colors = {\n",
    "    \"cepstrum\": \"tab:orange\",\n",
    "    \"art_params\": \"tab:blue\",\n",
    "    \"cepstrum,art_params\": \"tab:green\",\n",
    "    \"agent_art\": \"tab:pink\",\n",
    "}\n",
    "\n",
    "for distance in QUANTIZER_ABX_DISTANCES:\n",
    "    distance_signature = abx_utils.get_distance_signature(distance)\n",
    "    \n",
    "    plt.figure()\n",
    "    ax = plt.subplot(aspect=\"equal\")\n",
    "    ax.set_xlim(50, 100)\n",
    "    ax.set_ylim(50, 100)\n",
    "    ax.set_xlabel(\"Manner\")\n",
    "    ax.set_ylabel(\"Place\")\n",
    "    \n",
    "    ax.set_title(distance_signature)\n",
    "    \n",
    "    for quantizer_alias, quantizer_path in quantizers_alias.items():\n",
    "        quantizer = Quantizer.reload(quantizer_path, load_nn=False)\n",
    "        dataset = quantizer.main_dataset\n",
    "        if \",\".join(quantizer.config[\"dataset\"][\"names\"]) != \"pb2007\":\n",
    "            continue\n",
    "        \n",
    "        modalities = \",\".join(quantizer.config[\"dataset\"][\"data_types\"])\n",
    "        if modalities.startswith(\"agent_art_\"):\n",
    "            color = colors[\"agent_art\"]\n",
    "        else:\n",
    "            color = colors[modalities]\n",
    "        print(color)\n",
    "        consonants = dataset.phones_infos[\"consonants\"]\n",
    "\n",
    "        quantizer_abx_matrix = quantizers_abx_matrices[quantizer_path][distance_signature]\n",
    "        quantizer_groups_score = abx_utils.get_groups_score(consonants, quantizer_abx_matrix, dataset.phones_infos[\"consonant_groups\"])\n",
    "        ax.scatter(quantizer_groups_score[\"manner\"], quantizer_groups_score[\"place\"], c=color)\n",
    "        # raise\n",
    "    \n",
    "    plt.show()"
   ]
  },
  {
   "cell_type": "code",
   "execution_count": 39,
   "id": "ed38c987",
   "metadata": {},
   "outputs": [
    {
     "name": "stdout",
     "output_type": "stream",
     "text": [
      "../out/quantizer/4be8cc80d3dee54979aded2bf85f175e-3/ ['item_0585', 'item_0828', 'item_0454', 'item_0118', 'item_0080']\n",
      "../out/quantizer/5a62e02b1f4b948fc182f3ce77fe78b3-0/ ['item_0795', 'item_0523', 'item_0565', 'item_0240', 'item_1013']\n",
      "../out/quantizer/5de8ab6795d0761e683c8b17b8ccb0ed-1/ ['item_0146', 'item_0799', 'item_0903', 'item_0740', 'item_1105']\n",
      "../out/quantizer/e1bdb5d1cdf914f94952ada14d69cde5-1/ ['item_0146', 'item_0799', 'item_0903', 'item_0740', 'item_1105']\n",
      "../out/quantizer/b59c32ccdc0f8e136e5c4f51163c7308-3/ ['item_0585', 'item_0828', 'item_0454', 'item_0118', 'item_0080']\n",
      "../out/quantizer/3150462b1f57842881793e1f2ee97dd7-2/ ['item_0344', 'item_0119', 'item_1004', 'item_0133', 'item_0105']\n",
      "../out/quantizer/f50650bb40e1346ed24011c2e41b7153-4/ ['item_0476', 'item_0461', 'item_0666', 'item_0385', 'item_0359']\n",
      "../out/quantizer/a722eccbf1451d4931a277b2c721f64e-0/ ['item_0795', 'item_0523', 'item_0565', 'item_0240', 'item_1013']\n",
      "../out/quantizer/ce8f3fdc5d22ccedbd090849107f6994-2/ ['item_0344', 'item_0119', 'item_1004', 'item_0133', 'item_0105']\n",
      "../out/quantizer/c7502a9c6785e296b8076f4ddf64e2cb-4/ ['item_0476', 'item_0461', 'item_0666', 'item_0385', 'item_0359']\n",
      "Gold cepstrum (quantized)\n",
      "N=5\n",
      "ABX place : mu=69.2, std=0.9\n",
      "ABX manner: mu=91.1, std=1.0\n",
      "ABX global: mu=89.6, std=0.8\n",
      "Gold art params (quantized)\n",
      "N=5\n",
      "ABX place : mu=91.5, std=2.7\n",
      "ABX manner: mu=64.7, std=1.7\n",
      "ABX global: mu=84.1, std=2.1\n"
     ]
    }
   ],
   "source": [
    "art_abx_manner = []\n",
    "art_abx_place = []\n",
    "art_abx_global = []\n",
    "cep_abx_manner = []\n",
    "cep_abx_place = []\n",
    "cep_abx_global = []\n",
    "for quantizer_alias, quantizer_path in quantizers_alias.items():\n",
    "    quantizer = Quantizer.reload(quantizer_path, load_nn=False)\n",
    "    print(quantizer_path, quantizer.datasplits['pb2007'][2][:5])\n",
    "    dataset = quantizer.main_dataset\n",
    "    if \",\".join(quantizer.config[\"dataset\"][\"names\"]) != \"pb2007\":\n",
    "        continue\n",
    "\n",
    "    modality = \",\".join(quantizer.config[\"dataset\"][\"data_types\"])\n",
    "    quantizer_abx_matrix = quantizers_abx_matrices[quantizer_path][distance_signature]\n",
    "    groups_score = abx_utils.get_groups_score(consonants, quantizer_abx_matrix, dataset.phones_infos[\"consonant_groups\"])\n",
    "    global_score = abx_utils.get_global_score(quantizer_abx_matrix)\n",
    "    if modality == 'cepstrum':\n",
    "        cep_abx_manner.append(groups_score['manner'])\n",
    "        cep_abx_place.append(groups_score['place'])\n",
    "        cep_abx_global.append(global_score)\n",
    "    elif modality == 'art_params':\n",
    "        art_abx_manner.append(groups_score['manner'])\n",
    "        art_abx_place.append(groups_score['place'])\n",
    "        art_abx_global.append(global_score)\n",
    "        \n",
    "print(\"Gold cepstrum (quantized)\")\n",
    "print(f'N={len(cep_abx_global)}')\n",
    "print('ABX place : mu=%.1f, std=%.1f' % (np.mean(cep_abx_place), np.std(cep_abx_place, ddof=1)))\n",
    "print(f'ABX manner: mu=%.1f, std=%.1f' % (np.mean(cep_abx_manner), np.std(cep_abx_manner, ddof=1)))\n",
    "print(f'ABX global: mu=%.1f, std=%.1f' % (np.mean(cep_abx_global), np.std(cep_abx_global, ddof=1)))\n",
    "print(\"Gold art params (quantized)\")\n",
    "print(f'N={len(art_abx_global)}')\n",
    "print('ABX place : mu=%.1f, std=%.1f' % (np.mean(art_abx_place), np.std(art_abx_place, ddof=1)))\n",
    "print(f'ABX manner: mu=%.1f, std=%.1f' % (np.mean(art_abx_manner), np.std(art_abx_manner, ddof=1)))\n",
    "print(f'ABX global: mu=%.1f, std=%.1f' % (np.mean(art_abx_global), np.std(art_abx_global, ddof=1)))"
   ]
  },
  {
   "cell_type": "code",
   "execution_count": 54,
   "id": "2f946940-0f5a-46a3-b022-d5ba150e27c1",
   "metadata": {},
   "outputs": [
    {
     "name": "stderr",
     "output_type": "stream",
     "text": [
      "/home/engaclew/agent/lib/abx_utils.py:140: RuntimeWarning: invalid value encountered in long_scalars\n",
      "  subgroup_score = subgroup_nb_success / subgroup_nb_test\n",
      "/home/engaclew/agent/lib/abx_utils.py:120: RuntimeWarning: invalid value encountered in long_scalars\n",
      "  return abx_matrix[0].sum() / abx_matrix[1].sum() * 100\n"
     ]
    }
   ],
   "source": [
    "distance = QUANTIZER_ABX_DISTANCES[0]\n",
    "distance_signature = abx_utils.get_distance_signature(distance)\n",
    "\n",
    "quantizers_loss = {\n",
    "    \"path\": [],\n",
    "    \"datasets\": [],\n",
    "    \"modalities\": [],\n",
    "    \"hidden_layers\": [],\n",
    "    \"num_embeddings\": [],\n",
    "    \"embedding_dim\": [],\n",
    "    \"dropout_p\": [],\n",
    "    \"learning_rate\": [],\n",
    "    \"commitment_cost\": [],\n",
    "    \"total_loss\": [],\n",
    "    \"reconstruction_error\": [],\n",
    "    \"vq_loss\": [],\n",
    "    \"abx_manner\": [],\n",
    "    \"abx_place\": [],\n",
    "    \"abx_global\": [],\n",
    "}\n",
    "\n",
    "for quantizer_path in quantizers_path:\n",
    "    quantizer = Quantizer.reload(quantizer_path, load_nn=False)\n",
    "    config = quantizer.config\n",
    "    \n",
    "    with open(\"%s/metrics.pickle\" % quantizer_path, \"rb\") as f:\n",
    "        metrics = pickle.load(f)\n",
    "    final_loss_index = np.argmin(metrics[\"validation\"][\"total_loss\"])\n",
    "    final_total_loss = metrics[\"test\"][\"total_loss\"][final_loss_index]\n",
    "    final_reconstruction_error = metrics[\"test\"][\"reconstruction_error\"][final_loss_index]\n",
    "    final_vq_loss = metrics[\"test\"][\"vq_loss\"][final_loss_index]\n",
    "    \n",
    "    quantizers_loss[\"path\"].append(quantizer_path)\n",
    "    quantizers_loss[\"datasets\"].append(\",\".join(config['dataset']['names']))\n",
    "    quantizers_loss[\"modalities\"].append(\",\".join(config['dataset']['data_types']))\n",
    "    quantizers_loss[\"hidden_layers\"].append(f\"{len(config['model']['hidden_dims'])}x{config['model']['hidden_dims'][0]}\")\n",
    "    quantizers_loss[\"num_embeddings\"].append(config['model']['num_embeddings'])\n",
    "    quantizers_loss[\"embedding_dim\"].append(config['model']['embedding_dim'])\n",
    "    quantizers_loss[\"dropout_p\"].append(config['model']['dropout_p'])    \n",
    "    quantizers_loss[\"learning_rate\"].append(config['training']['learning_rate'])\n",
    "    quantizers_loss[\"commitment_cost\"].append(config['model']['commitment_cost'])\n",
    "    \n",
    "    quantizers_loss[\"total_loss\"].append(final_total_loss)\n",
    "    quantizers_loss[\"reconstruction_error\"].append(final_reconstruction_error)\n",
    "    quantizers_loss[\"vq_loss\"].append(final_vq_loss)\n",
    "    \n",
    "    dataset = quantizer.main_dataset\n",
    "    consonants = quantizer.main_dataset.phones_infos[\"consonants\"]\n",
    "    vowels = quantizer.main_dataset.phones_infos[\"vowels\"]\n",
    "    quantizer_abx_matrix = quantizers_abx_matrices[quantizer_path][distance_signature]\n",
    "    quantizer_groups_score = abx_utils.get_groups_score(consonants, quantizer_abx_matrix, dataset.phones_infos[\"consonant_groups\"])\n",
    "    quantizer_global_score = abx_utils.get_global_score(quantizer_abx_matrix)\n",
    "    \n",
    "    quantizers_loss[\"abx_manner\"].append(quantizer_groups_score[\"manner\"])\n",
    "    quantizers_loss[\"abx_place\"].append(quantizer_groups_score[\"place\"])\n",
    "    quantizers_loss[\"abx_global\"].append(quantizer_global_score)\n",
    "    \n",
    "quantizers_loss = pd.DataFrame(quantizers_loss)"
   ]
  },
  {
   "cell_type": "code",
   "execution_count": 55,
   "id": "c5f8c45e-1ce0-4b48-a810-0b400152f2ff",
   "metadata": {},
   "outputs": [
    {
     "data": {
      "application/vnd.jupyter.widget-view+json": {
       "model_id": "a7dc52dd738d4d87a4c842eda00e182e",
       "version_major": 2,
       "version_minor": 0
      },
      "text/plain": [
       "interactive(children=(Dropdown(description='measure', index=14, options=('path', 'datasets', 'modalities', 'hi…"
      ]
     },
     "metadata": {},
     "output_type": "display_data"
    }
   ],
   "source": [
    "datasets = pd.unique(quantizers_loss[\"datasets\"])\n",
    "modalities = pd.unique(quantizers_loss[\"modalities\"])\n",
    "\n",
    "def show_top_quantizers(measure=\"abx_global\", datasets=datasets[0], modalities=modalities[0], ascending=False):\n",
    "    subset = quantizers_loss[quantizers_loss[\"datasets\"] == datasets]\n",
    "    subset = subset[subset[\"modalities\"] == modalities]\n",
    "    display(subset.sort_values(measure, ascending=ascending).head(30))\n",
    "\n",
    "ipw.interactive(show_top_quantizers, measure=quantizers_loss, datasets=datasets, modalities=modalities, ascending=False)"
   ]
  },
  {
   "cell_type": "code",
   "execution_count": 53,
   "id": "c7584d5f",
   "metadata": {},
   "outputs": [
    {
     "data": {
      "text/plain": [
       "path                    ../out/quantizer/c7502a9c6785e296b8076f4ddf64e...\n",
       "datasets                                                           pb2007\n",
       "modalities                                                     art_params\n",
       "hidden_layers                                                       3x256\n",
       "num_embeddings                                                        512\n",
       "embedding_dim                                                          64\n",
       "dropout_p                                                            0.32\n",
       "learning_rate                                                       0.002\n",
       "commitment_cost                                                      1.08\n",
       "total_loss                                                        0.20606\n",
       "reconstruction_error                                             0.148223\n",
       "vq_loss                                                          0.057837\n",
       "abx_manner                                                           67.3\n",
       "abx_place                                                       94.083333\n",
       "abx_global                                                      85.339181\n",
       "Name: 25, dtype: object"
      ]
     },
     "execution_count": 53,
     "metadata": {},
     "output_type": "execute_result"
    }
   ],
   "source": [
    "quantizers_loss.loc[25]"
   ]
  },
  {
   "cell_type": "code",
   "execution_count": null,
   "id": "94890097-1e91-486e-98df-2e4a4e1731f1",
   "metadata": {},
   "outputs": [],
   "source": []
  }
 ],
 "metadata": {
  "kernelspec": {
   "display_name": "Python 3",
   "language": "python",
   "name": "python3"
  },
  "language_info": {
   "codemirror_mode": {
    "name": "ipython",
    "version": 3
   },
   "file_extension": ".py",
   "mimetype": "text/x-python",
   "name": "python",
   "nbconvert_exporter": "python",
   "pygments_lexer": "ipython3",
   "version": "3.7.12"
  }
 },
 "nbformat": 4,
 "nbformat_minor": 5
}
