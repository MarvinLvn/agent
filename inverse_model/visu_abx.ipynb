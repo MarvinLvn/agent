{
 "cells": [
  {
   "cell_type": "code",
   "execution_count": 5,
   "id": "185c80a3",
   "metadata": {},
   "outputs": [
    {
     "data": {
      "application/vnd.jupyter.widget-view+json": {
       "model_id": "b03f3ca488844442830516a991393bb9",
       "version_major": 2,
       "version_minor": 0
      },
      "text/plain": [
       "  0%|          | 0/1 [00:00<?, ?it/s]"
      ]
     },
     "metadata": {},
     "output_type": "display_data"
    },
    {
     "name": "stdout",
     "output_type": "stream",
     "text": [
      "../out/inverse_model/full_pb {'manner': 62.391666666666666, 'place': 81.22916666666666}\n",
      "../out/inverse_model/full_pb 77.98684210526315\n"
     ]
    }
   ],
   "source": [
    "import sys\n",
    "sys.path.append(\"..\")\n",
    "\n",
    "from pathlib import Path\n",
    "from glob import glob\n",
    "import matplotlib.pyplot as plt\n",
    "import ipywidgets as ipw\n",
    "import numpy as np \n",
    "from tqdm.notebook import tqdm\n",
    "\n",
    "from inverse_model import InverseModel\n",
    "from lib.dataset_wrapper import Dataset\n",
    "from lib import utils\n",
    "from lib import abx_utils\n",
    "\n",
    "ABX_NB_SAMPLES = 200\n",
    "distance = {\n",
    "        \"art_estimated\": {\n",
    "            \"metric\": \"cosine\",\n",
    "            \"weight\": 1,\n",
    "        },\n",
    "    }\n",
    "\n",
    "model_path = Path('../out/inverse_model')\n",
    "basenames = ['full_pb']\n",
    "\n",
    "# Create alias\n",
    "agents_alias = {}\n",
    "for basename in basenames:\n",
    "    agent_path = model_path / basename\n",
    "    agent = InverseModel.reload(str(agent_path), load_nn=False)\n",
    "        \n",
    "    agent_alias = \" \".join((\n",
    "        f\"path={agent_path}\",\n",
    "    ))\n",
    "    agents_alias[agent_alias] = agent_path\n",
    "\n",
    "# Compute ABX \n",
    "agents_abx_matrices = utils.pickle_load(model_path / 'abx_cache.pickle', {})\n",
    "for agent_alias, agent_path in tqdm(agents_alias.items()):\n",
    "    if agent_path not in agents_abx_matrices:\n",
    "        agents_abx_matrices[agent_path] = {}\n",
    "    agent_abx_matrices = agents_abx_matrices[agent_path]\n",
    "    \n",
    "    distance_signature = abx_utils.get_distance_signature(distance)\n",
    "        \n",
    "    agent = InverseModel.reload(str(agent_path))\n",
    "    main_dataset = agent.get_main_dataset()\n",
    "    agent_lab = agent.get_datasplit_lab(0)\n",
    "    agent_features = agent.predict_datasplit(0)\n",
    "    consonants = main_dataset.phones_infos[\"consonants\"]\n",
    "    vowels = main_dataset.phones_infos[\"vowels\"]\n",
    "    consonants_indexes = abx_utils.get_datasets_phones_indexes(agent_lab, consonants, vowels)\n",
    "    abx_matrix = abx_utils.get_abx_matrix(consonants, consonants_indexes, agent_features, distance, ABX_NB_SAMPLES, seed=43)\n",
    "    agent_abx_matrices[distance_signature] = abx_matrix\n",
    "    utils.pickle_dump(model_path / 'abx_cache.pickle', agents_abx_matrices)\n",
    "    \n",
    "for basename in basenames:\n",
    "    agent_path = model_path / basename\n",
    "    distance_signature = abx_utils.get_distance_signature(distance)\n",
    "    agent_abx_matrix = agents_abx_matrices[agent_path][distance_signature]\n",
    "    groups_score = abx_utils.get_groups_score(consonants, agent_abx_matrix, main_dataset.phones_infos[\"consonant_groups\"])\n",
    "    global_score = abx_utils.get_global_score(agent_abx_matrix)\n",
    "    print(agent_path, groups_score)\n",
    "    print(agent_path, global_score)"
   ]
  }
 ],
 "metadata": {
  "kernelspec": {
   "display_name": "Python 3",
   "language": "python",
   "name": "python3"
  },
  "language_info": {
   "codemirror_mode": {
    "name": "ipython",
    "version": 3
   },
   "file_extension": ".py",
   "mimetype": "text/x-python",
   "name": "python",
   "nbconvert_exporter": "python",
   "pygments_lexer": "ipython3",
   "version": "3.7.12"
  }
 },
 "nbformat": 4,
 "nbformat_minor": 5
}
