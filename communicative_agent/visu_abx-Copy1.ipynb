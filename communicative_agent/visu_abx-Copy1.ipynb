{
 "cells": [
  {
   "cell_type": "code",
   "execution_count": 1,
   "id": "16393324-a152-42cd-8788-42fcc27c0a02",
   "metadata": {},
   "outputs": [],
   "source": [
    "import sys\n",
    "sys.path.append(\"..\")\n",
    "\n",
    "from glob import glob\n",
    "import matplotlib.pyplot as plt\n",
    "import ipywidgets as ipw\n",
    "import numpy as np \n",
    "from tqdm.notebook import tqdm\n",
    "\n",
    "from communicative_agent import CommunicativeAgent\n",
    "from lib.dataset_wrapper import Dataset\n",
    "from lib import utils\n",
    "from lib import abx_utils"
   ]
  },
  {
   "cell_type": "code",
   "execution_count": 2,
   "id": "4c2d1560-3e74-4de9-8232-24b15e785fa8",
   "metadata": {},
   "outputs": [],
   "source": [
    "BASELINE_DATASET_NAME = \"pb2007\"\n",
    "ART_TYPE = \"art_params\"\n",
    "ABX_NB_SAMPLES = 50\n",
    "ABX_DISTANCES = {\n",
    "    ART_TYPE: {\n",
    "        \"metric\": \"euclidean\",\n",
    "        \"weight\": 1,\n",
    "    }\n",
    "}"
   ]
  },
  {
   "cell_type": "code",
   "execution_count": 3,
   "id": "c7abcfcf-e18d-4795-ba48-c40b1e1e2a56",
   "metadata": {},
   "outputs": [],
   "source": [
    "agents_path = glob(\"../out/communicative_agent/*/\")\n",
    "agents_path.sort()\n",
    "\n",
    "agents_alias = {}\n",
    "\n",
    "for agent_path in agents_path:\n",
    "    agent = CommunicativeAgent.reload(agent_path, load_nn=False)\n",
    "    config = agent.config\n",
    "    \n",
    "    if agent.synthesizer.config['dataset']['art_type'] != ART_TYPE:\n",
    "        continue\n",
    "    if config['model']['direct_model']['nb_derivatives'] > 0:\n",
    "        continue\n",
    "        \n",
    "    agent_i = agent_path[-2]\n",
    "    agent_alias = \" \".join((\n",
    "        f\"{','.join(config['dataset']['names'])}\",\n",
    "        f\"synth_art={agent.synthesizer.config['dataset']['art_type']}\",\n",
    "        f\"nd={config['model']['direct_model']['nb_derivatives']}\",\n",
    "        f\"jerk={config['training']['jerk_loss_weight']}\",\n",
    "        f\"({agent_i})\",\n",
    "    ))\n",
    "    \n",
    "    agents_alias[agent_alias] = agent_path"
   ]
  },
  {
   "cell_type": "code",
   "execution_count": 21,
   "id": "7f18558f-acdc-4554-8fe6-4e3d49630fa5",
   "metadata": {},
   "outputs": [],
   "source": [
    "AGENT_ABX_DISTANCES = [\n",
    "    {\n",
    "        \"sound_units\": {\n",
    "            \"metric\": \"cosine\",\n",
    "            \"weight\": 1,\n",
    "        }\n",
    "    },\n",
    "    {\n",
    "        \"art_units\": {\n",
    "            \"metric\": \"cosine\",\n",
    "            \"weight\": 1,\n",
    "        },\n",
    "    }\n",
    "]"
   ]
  },
  {
   "cell_type": "code",
   "execution_count": 25,
   "id": "3130516b-2674-42b5-afab-9e422fdebe32",
   "metadata": {},
   "outputs": [
    {
     "data": {
      "application/vnd.jupyter.widget-view+json": {
       "model_id": "7ac5af62171a4b84aca37971bf75a2c4",
       "version_major": 2,
       "version_minor": 0
      },
      "text/plain": [
       "  0%|          | 0/7 [00:00<?, ?it/s]"
      ]
     },
     "metadata": {},
     "output_type": "display_data"
    }
   ],
   "source": [
    "# abx_matrices = utils.pickle_load(\"../out/communicative_agent/abx_cache.pickle\", {})\n",
    "agents_abx_matrices = {}\n",
    "\n",
    "for agent_alias, agent_path in tqdm(agents_alias.items()):\n",
    "    agent = CommunicativeAgent.reload(agent_path)\n",
    "    \n",
    "    main_dataset = agent.get_main_dataset()\n",
    "    agent_lab = agent.get_datasplit_lab(2)\n",
    "    agent_features = agent.repeat_datasplit(2)\n",
    "\n",
    "    consonants = main_dataset.phones_infos[\"consonants\"]\n",
    "    vowels = main_dataset.phones_infos[\"vowels\"]\n",
    "    consonants_indexes = abx_utils.get_datasets_phones_indexes(agent_lab, consonants, vowels)\n",
    "    \n",
    "    if agent_path not in agents_abx_matrices:\n",
    "        agents_abx_matrices[agent_path] = {}\n",
    "    agent_abx_matrices = agents_abx_matrices[agent_path]\n",
    "    \n",
    "    for distance in AGENT_ABX_DISTANCES:\n",
    "        distance_signature = abx_utils.get_distance_signature(distance)\n",
    "        if distance_signature in agent_abx_matrices: continue\n",
    "        abx_matrix = abx_utils.get_abx_matrix(consonants, consonants_indexes, agent_features, distance, ABX_NB_SAMPLES)\n",
    "        \n",
    "        agent_abx_matrices[distance_signature] = abx_matrix\n",
    "        # utils.pickle_dump(\"../out/communicative_agent/abx_cache.pickle\", abx_matrices)"
   ]
  },
  {
   "cell_type": "code",
   "execution_count": 39,
   "id": "951be30f-963a-4c7b-8cba-3671a3ff23aa",
   "metadata": {},
   "outputs": [
    {
     "data": {
      "image/png": "[encoded data removed]",
      "text/plain": [
       "<Figure size 432x288 with 1 Axes>"
      ]
     },
     "metadata": {
      "needs_background": "light"
     },
     "output_type": "display_data"
    },
    {
     "data": {
      "image/png": "[encoded data removed]",
      "text/plain": [
       "<Figure size 432x288 with 1 Axes>"
      ]
     },
     "metadata": {
      "needs_background": "light"
     },
     "output_type": "display_data"
    }
   ],
   "source": [
    "for distance in AGENT_ABX_DISTANCES:\n",
    "    distance_signature = abx_utils.get_distance_signature(distance)\n",
    "    \n",
    "    plt.figure()\n",
    "    ax = plt.subplot(aspect=\"equal\")\n",
    "    ax.set_xlim(50, 100)\n",
    "    ax.set_ylim(50, 100)\n",
    "    ax.set_xlabel(\"Manner\")\n",
    "    ax.set_ylabel(\"Place\")\n",
    "    \n",
    "    ax.set_title(distance_signature)\n",
    "    \n",
    "    for agent_alias, agent_path in agents_alias.items():\n",
    "        agent = CommunicativeAgent.reload(agent_path, load_nn=False)\n",
    "        dataset = agent.get_main_dataset()\n",
    "        \n",
    "        color = \"tab:green\" if agent.config[\"training\"][\"jerk_loss_weight\"] > 0 else \"tab:red\"\n",
    "\n",
    "        agent_abx_matrix = agents_abx_matrices[agent_path][distance_signature]\n",
    "        agent_groups_score = abx_utils.get_groups_score(consonants, agent_abx_matrix, dataset.phones_infos[\"consonant_groups\"])\n",
    "        ax.scatter(agent_groups_score[\"manner\"], agent_groups_score[\"place\"], c=color)\n",
    "        # raise\n",
    "    \n",
    "    plt.show()"
   ]
  },
  {
   "cell_type": "code",
   "execution_count": null,
   "id": "2c57f6c7-9628-4c2c-8a0d-a4f5d05ab55a",
   "metadata": {},
   "outputs": [],
   "source": []
  }
 ],
 "metadata": {
  "kernelspec": {
   "display_name": "Python 3",
   "language": "python",
   "name": "python3"
  },
  "language_info": {
   "codemirror_mode": {
    "name": "ipython",
    "version": 3
   },
   "file_extension": ".py",
   "mimetype": "text/x-python",
   "name": "python",
   "nbconvert_exporter": "python",
   "pygments_lexer": "ipython3",
   "version": "3.7.5"
  }
 },
 "nbformat": 4,
 "nbformat_minor": 5
}
