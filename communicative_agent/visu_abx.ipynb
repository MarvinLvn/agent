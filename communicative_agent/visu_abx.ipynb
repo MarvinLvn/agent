{
 "cells": [
  {
   "cell_type": "code",
   "execution_count": 2,
   "id": "16393324-a152-42cd-8788-42fcc27c0a02",
   "metadata": {},
   "outputs": [],
   "source": [
    "import sys\n",
    "sys.path.append(\"..\")\n",
    "\n",
    "from glob import glob\n",
    "import matplotlib.pyplot as plt\n",
    "import ipywidgets as ipw\n",
    "import numpy as np \n",
    "from tqdm.notebook import tqdm\n",
    "\n",
    "from communicative_agent import CommunicativeAgent\n",
    "from quantizer.quantizer import Quantizer\n",
    "from lib.dataset_wrapper import Dataset\n",
    "from lib import utils\n",
    "from lib import abx_utils\n",
    "import pickle\n",
    "\n",
    "QUANTIZERS_PATH = \"../out/quantizer\""
   ]
  },
  {
   "cell_type": "code",
   "execution_count": 12,
   "id": "7f18558f-acdc-4554-8fe6-4e3d49630fa5",
   "metadata": {},
   "outputs": [],
   "source": [
    "ABX_NB_SAMPLES = 500\n",
    "#AGENT_ABX_DISTANCES = [\n",
    "#    {\n",
    "#        \"sound_units\": {\n",
    "#            \"metric\": \"cosine\",\n",
    "#            \"weight\": 1,\n",
    "#        }\n",
    "#    },\n",
    "#    {\n",
    "#        \"art_units\": {\n",
    "#            \"metric\": \"cosine\",\n",
    "#            \"weight\": 1,\n",
    "#        },\n",
    "#    }\n",
    "#]\n",
    "\n",
    "AGENT_ABX_DISTANCES = [\n",
    "    {\n",
    "        \"art_estimated\": {\n",
    "            \"metric\": \"cosine\",\n",
    "            \"weight\": 1,\n",
    "        }\n",
    "    },\n",
    "    {\n",
    "        \"art_units\": {\n",
    "            \"metric\": \"cosine\",\n",
    "            \"weight\": 1,\n",
    "        }\n",
    "    }\n",
    "]"
   ]
  },
  {
   "cell_type": "code",
   "execution_count": 13,
   "id": "81229ea1",
   "metadata": {},
   "outputs": [
    {
     "name": "stdout",
     "output_type": "stream",
     "text": [
      "['../out/communicative_vs_imitative/communicative_jerk_gan_0', '../out/communicative_vs_imitative/communicative_jerk_gan_1', '../out/communicative_vs_imitative/communicative_jerk_gan_2', '../out/communicative_vs_imitative/communicative_jerk_gan_3', '../out/communicative_vs_imitative/communicative_jerk_gan_4']\n"
     ]
    }
   ],
   "source": [
    "#agents_path = glob(\"../out/communicative_agent/*/\")\n",
    "#agents_path.sort()\n",
    "#agents_path = ['../out/communicative_agent/to_keep_50_n_layers_1_right_test/22e9cdcab1563dd5a97cce718987db69-0',\n",
    "#              '../out/communicative_agent/to_keep_50_n_layers_1_right_test/a7e52eb520894e371afa9e349124bd4d-0',\n",
    "#              '../out/communicative_agent/to_keep_50_n_layers_1_right_test/b8c532ecf618116ad1f06d5a341da3ae-0',\n",
    "#              '../out/communicative_agent/to_keep_50_n_layers_1_right_test/188cb52ac1fc23257dba472730c07ba7-0']\n",
    "\n",
    "#agents_path = ['../out/communicative_agent/Submission_CoLing/62f8def558c460813f27cf80a64eab2b-0', # 0.5,0.5\n",
    "#               '../out/communicative_agent/Submission_CoLing/2ac538e9286d27b697a1228522f55e7b-0', # 0,0.5\n",
    "#               '../out/communicative_agent/Submission_CoLing/8273c50bfe4dadaf41422822465c5799-0', # 0.5,0\n",
    "#               '../out/communicative_agent/Submission_CoLing/12c2baf464b1696ea935fe9d4445f0f1-0'] # 0,0\n",
    "\n",
    "#quantizers_path = ['../out/quantizer/Submission_CoLing/5379108e838758696b3e788677143eb4-0',\n",
    "#              '../out/quantizer/Submission_CoLing/7c3e0287ebbe0b7d743ff31d53eee21b-0',\n",
    "#              '../out/quantizer/Submission_CoLing/537c0b75e2efc1e3cf36d2972e37c377-0',\n",
    "#              '../out/quantizer/Submission_CoLing/07d3970697611b3fc611fb6b986c6f68-0']\n",
    "\n",
    "agents_path = ['../out/communicative_vs_imitative/communicative_jerk_gan_0',\n",
    "               '../out/communicative_vs_imitative/communicative_jerk_gan_1',\n",
    "               '../out/communicative_vs_imitative/communicative_jerk_gan_2',\n",
    "               '../out/communicative_vs_imitative/communicative_jerk_gan_3',\n",
    "               '../out/communicative_vs_imitative/communicative_jerk_gan_4']\n",
    "# these are art quantizers\n",
    "quantizers_path = ['../out/quantizer/communicative_jerk_gan_0',\n",
    "                   '../out/quantizer/communicative_jerk_gan_1',\n",
    "                   '../out/quantizer/communicative_jerk_gan_2',\n",
    "                   '../out/quantizer/communicative_jerk_gan_3',\n",
    "                   '../out/quantizer/communicative_jerk_gan_4']\n",
    "agents_path = [ag for ag in agents_path if ag.split('/')[-2] != \"classic\"]\n",
    "print(agents_path)\n",
    "agents_alias = {}\n",
    "\n",
    "for agent_path in agents_path:\n",
    "    agent = CommunicativeAgent.reload(agent_path, load_nn=False)\n",
    "    config = agent.config\n",
    "    agent_alias = \" \".join((\n",
    "        #f\"{','.join(config['dataset']['names'])}\",\n",
    "        f\"synth_art={agent.synthesizer.config['dataset']['art_type']}\",\n",
    "        f\"discrimination_loss={config['training']['discriminator_loss_weight']}\",\n",
    "        f\"jerk={config['training']['jerk_loss_weight']}\",\n",
    "        f\"patience={config['training']['patience']}\",\n",
    "        f\"quantizer={config['sound_quantizer']}\",\n",
    "    ))\n",
    "    \n",
    "    agents_alias[agent_alias] = agent_path\n"
   ]
  },
  {
   "cell_type": "code",
   "execution_count": 14,
   "id": "3130516b-2674-42b5-afab-9e422fdebe32",
   "metadata": {},
   "outputs": [
    {
     "data": {
      "application/vnd.jupyter.widget-view+json": {
       "model_id": "115d551dfa0246cd9e77316374d6facb",
       "version_major": 2,
       "version_minor": 0
      },
      "text/plain": [
       "  0%|          | 0/5 [00:00<?, ?it/s]"
      ]
     },
     "metadata": {},
     "output_type": "display_data"
    }
   ],
   "source": [
    "import os\n",
    "agents_abx_matrices = utils.pickle_load(\"../out/communicative_vs_imitative/abx_cache.pickle\", {})\n",
    "# agents_abx_matrices = {}\n",
    "\n",
    "i=0\n",
    "for agent_alias, agent_path in tqdm(agents_alias.items()):\n",
    "    agent = CommunicativeAgent.reload(agent_path)\n",
    "    main_dataset = Dataset(agent.sound_quantizer.config['dataset']['names'][0])\n",
    "    agent.config['dataset'] = {}\n",
    "    agent.config['dataset'][\"names\"] = [\"pb2007\"]\n",
    "    agent.config['dataset'] = agent.sound_quantizer.config['dataset']\n",
    "    agent.config['dataset']['sound_type'] = 'cepstrum'\n",
    "    #print(\"agent %s with quantizer %s\" % (os.path.basename(agent_path), os.path.basename(quantizers_path[i])))\n",
    "    agent.art_quantizer = Quantizer.reload(quantizers_path[i],load_nn=True)\n",
    "    agent.nn.art_quantizer = agent.art_quantizer.nn\n",
    "    agent_lab = agent.sound_quantizer.get_datasplit_lab(2)\n",
    "    consonants = main_dataset.phones_infos[\"consonants\"]\n",
    "    vowels = main_dataset.phones_infos[\"vowels\"]\n",
    "    consonants_indexes = abx_utils.get_datasets_phones_indexes(agent_lab, consonants, vowels)\n",
    "    \n",
    "    if agent_path not in agents_abx_matrices:\n",
    "        agents_abx_matrices[agent_path] = {}\n",
    "    agent_abx_matrices = agents_abx_matrices[agent_path]\n",
    "    i+=1\n",
    "    for distance in AGENT_ABX_DISTANCES:\n",
    "        distance_signature = abx_utils.get_distance_signature(distance)\n",
    "        if distance_signature in agent_abx_matrices: continue\n",
    "        agent_features = agent.repeat_datasplit(2)\n",
    "        abx_matrix = abx_utils.get_abx_matrix(consonants, consonants_indexes, agent_features, distance, ABX_NB_SAMPLES)\n",
    "        groups_score = abx_utils.get_groups_score(consonants, abx_matrix, main_dataset.phones_infos[\"consonant_groups\"])\n",
    "        global_score = abx_utils.get_global_score(abx_matrix)\n",
    "        agent_abx_matrices[distance_signature] = abx_matrix\n",
    "        utils.pickle_dump(\"../out/communicative_vs_imitative/abx_cache.pickle\", agents_abx_matrices)"
   ]
  },
  {
   "cell_type": "code",
   "execution_count": 11,
   "id": "0e1a083c",
   "metadata": {},
   "outputs": [
    {
     "data": {
      "application/vnd.jupyter.widget-view+json": {
       "model_id": "d898f574fd2b416d91c8fd3b3cc5112e",
       "version_major": 2,
       "version_minor": 0
      },
      "text/plain": [
       "  0%|          | 0/5 [00:00<?, ?it/s]"
      ]
     },
     "metadata": {},
     "output_type": "display_data"
    },
    {
     "name": "stdout",
     "output_type": "stream",
     "text": [
      "Communicative agent, {'art_estimated': {'metric': 'cosine', 'weight': 1}}\n",
      "N=5\n",
      "ABX place : mu=61.9, std=8.7\n",
      "ABX manner: mu=73.3, std=10.0\n",
      "ABX global: mu=75.0, std=8.8\n",
      "[59.925000000000004, 68.68333333333334, 48.791666666666664, 61.308333333333344, 70.72500000000001]\n"
     ]
    },
    {
     "data": {
      "application/vnd.jupyter.widget-view+json": {
       "model_id": "280a9bbd9b5d477bba15c148c85e5049",
       "version_major": 2,
       "version_minor": 0
      },
      "text/plain": [
       "  0%|          | 0/5 [00:00<?, ?it/s]"
      ]
     },
     "metadata": {},
     "output_type": "display_data"
    },
    {
     "name": "stdout",
     "output_type": "stream",
     "text": [
      "Communicative agent, {'art_units': {'metric': 'cosine', 'weight': 1}}\n",
      "N=5\n",
      "ABX place : mu=56.6, std=12.7\n",
      "ABX manner: mu=64.9, std=13.1\n",
      "ABX global: mu=66.6, std=14.7\n",
      "[38.916666666666664, 68.82499999999999, 49.6, 57.40833333333333, 68.15833333333333]\n"
     ]
    }
   ],
   "source": [
    "# Print ABX\n",
    "for distance in AGENT_ABX_DISTANCES:\n",
    "    abx_manner = []\n",
    "    abx_place = []\n",
    "    abx_global = []\n",
    "    for agent_alias, agent_path in tqdm(agents_alias.items()):\n",
    "        distance_signature = abx_utils.get_distance_signature(distance)\n",
    "        agent_abx_matrix = agents_abx_matrices[agent_path][distance_signature]\n",
    "        groups_score = abx_utils.get_groups_score(consonants, agent_abx_matrix, main_dataset.phones_infos[\"consonant_groups\"])\n",
    "        global_score = abx_utils.get_global_score(agent_abx_matrix)\n",
    "        abx_manner.append(groups_score['manner'])\n",
    "        abx_place.append(groups_score['place'])\n",
    "        abx_global.append(global_score)\n",
    "    print(f\"Communicative agent, {distance}\")\n",
    "    print(f'N={len(abx_global)}')\n",
    "    print('ABX place : mu=%.1f, std=%.1f' % (np.mean(abx_place), np.std(abx_place, ddof=1)))\n",
    "    print(f'ABX manner: mu=%.1f, std=%.1f' % (np.mean(abx_manner), np.std(abx_manner, ddof=1)))\n",
    "    print(f'ABX global: mu=%.1f, std=%.1f' % (np.mean(abx_global), np.std(abx_global, ddof=1)))\n",
    "    print(abx_place)"
   ]
  },
  {
   "cell_type": "code",
   "execution_count": null,
   "id": "5230e63d",
   "metadata": {},
   "outputs": [],
   "source": []
  },
  {
   "cell_type": "code",
   "execution_count": 93,
   "id": "951be30f-963a-4c7b-8cba-3671a3ff23aa",
   "metadata": {},
   "outputs": [
    {
     "name": "stdout",
     "output_type": "stream",
     "text": [
      "cepstrum {'manner': 88.68333333333332, 'place': 62.56666666666667}\n"
     ]
    },
    {
     "data": {
      "image/png": "[encoded data removed]",
      "text/plain": [
       "<Figure size 640x480 with 1 Axes>"
      ]
     },
     "metadata": {},
     "output_type": "display_data"
    }
   ],
   "source": [
    "import matplotlib\n",
    "\n",
    "matplotlib.rcParams['font.family'] = 'sans-serif'\n",
    "matplotlib.rcParams['font.serif'] = 'Arial'\n",
    "matplotlib.rcParams.update({'font.size': 12, 'legend.handleheight':1, 'hatch.linewidth': 1.0,\n",
    "                           'lines.markersize':5, 'lines.linewidth':1})\n",
    "\n",
    "colors = {\n",
    "    \"sound_units\": \"tab:orange\",\n",
    "    \"art_units\": \"tab:pink\",\n",
    "}\n",
    "plt.figure()\n",
    "ax = plt.subplot(aspect=\"equal\")\n",
    "ax.set_xlim(50, 100)\n",
    "ax.set_ylim(50, 100)\n",
    "ax.set_xlabel(\"Manner\")\n",
    "ax.set_ylabel(\"Place\")\n",
    "\n",
    "i=0\n",
    "done = False\n",
    "for distance in AGENT_ABX_DISTANCES:\n",
    "    distance_signature = abx_utils.get_distance_signature(distance)\n",
    "    for agent_alias, agent_path in agents_alias.items():\n",
    "        agent = CommunicativeAgent.reload(agent_path, load_nn=False)\n",
    "        dataset = Dataset(agent.sound_quantizer.config['dataset']['names'][0])\n",
    "        consonants = dataset.phones_infos[\"consonants\"]\n",
    "        agent_abx_matrix = agents_abx_matrices[agent_path][distance_signature]\n",
    "        agent_groups_score = abx_utils.get_groups_score(consonants, agent_abx_matrix, dataset.phones_infos[\"consonant_groups\"])\n",
    "        modality = list(distance.keys())[0]\n",
    "        color = colors[modality]\n",
    "        if modality == 'sound_units' and not done or modality == 'art_units':\n",
    "            ax.scatter(agent_groups_score[\"manner\"], agent_groups_score[\"place\"], c=color, alpha=.8)\n",
    "            done = True\n",
    "            if modality == 'sound_units':\n",
    "                print(\"cepstrum\", agent_groups_score)\n",
    "        discrimination_loss_weight = agent_alias.split(' ')[1].replace('discrimination_loss=', '')\n",
    "        jerk_loss_weight = agent_alias.split(' ')[2].replace('jerk=', '')\n",
    "        if modality == 'art_units':\n",
    "            if i % 2 == 1:\n",
    "                shift = -2#*(len(discrimination_loss_weight)+len(jerk_loss_weight))\n",
    "            else:\n",
    "                shift = 1#*(len(discrimination_loss_weight)+len(jerk_loss_weight))\n",
    "            label = f\"{jerk_loss_weight},{discrimination_loss_weight}\"\n",
    "            ax.text(agent_groups_score[\"manner\"], agent_groups_score[\"place\"]+shift, \n",
    "                    label, horizontalalignment='center', fontsize=10)\n",
    "            i += 1\n",
    "plt.savefig('/home/engaclew/agent/out/communicative_agent/abx_place_manner_discrimination.png', dpi=300)"
   ]
  },
  {
   "cell_type": "code",
   "execution_count": 3,
   "id": "b8f72d25",
   "metadata": {},
   "outputs": [
    {
     "ename": "NameError",
     "evalue": "name 'AGENT_ABX_DISTANCES' is not defined",
     "output_type": "error",
     "traceback": [
      "\u001b[0;31m---------------------------------------------------------------------------\u001b[0m",
      "\u001b[0;31mNameError\u001b[0m                                 Traceback (most recent call last)",
      "\u001b[0;32m/tmp/ipykernel_634989/1014597919.py\u001b[0m in \u001b[0;36m<module>\u001b[0;34m\u001b[0m\n\u001b[1;32m      1\u001b[0m \u001b[0;32mimport\u001b[0m \u001b[0mpandas\u001b[0m \u001b[0;32mas\u001b[0m \u001b[0mpd\u001b[0m\u001b[0;34m\u001b[0m\u001b[0;34m\u001b[0m\u001b[0m\n\u001b[1;32m      2\u001b[0m \u001b[0;32mfrom\u001b[0m \u001b[0mmatplotlib\u001b[0m\u001b[0;34m.\u001b[0m\u001b[0mpatches\u001b[0m \u001b[0;32mimport\u001b[0m \u001b[0mRectangle\u001b[0m\u001b[0;34m\u001b[0m\u001b[0;34m\u001b[0m\u001b[0m\n\u001b[0;32m----> 3\u001b[0;31m \u001b[0mdistance\u001b[0m \u001b[0;34m=\u001b[0m \u001b[0mAGENT_ABX_DISTANCES\u001b[0m\u001b[0;34m[\u001b[0m\u001b[0;36m1\u001b[0m\u001b[0;34m]\u001b[0m\u001b[0;34m\u001b[0m\u001b[0;34m\u001b[0m\u001b[0m\n\u001b[0m\u001b[1;32m      4\u001b[0m \u001b[0mdistance_signature\u001b[0m \u001b[0;34m=\u001b[0m \u001b[0mabx_utils\u001b[0m\u001b[0;34m.\u001b[0m\u001b[0mget_distance_signature\u001b[0m\u001b[0;34m(\u001b[0m\u001b[0mdistance\u001b[0m\u001b[0;34m)\u001b[0m\u001b[0;34m\u001b[0m\u001b[0;34m\u001b[0m\u001b[0m\n\u001b[1;32m      5\u001b[0m \u001b[0;34m\u001b[0m\u001b[0m\n",
      "\u001b[0;31mNameError\u001b[0m: name 'AGENT_ABX_DISTANCES' is not defined"
     ]
    }
   ],
   "source": [
    "import pandas as pd\n",
    "\n",
    "distance = AGENT_ABX_DISTANCES[1]\n",
    "distance_signature = abx_utils.get_distance_signature(distance)\n",
    "\n",
    "agents_loss = {\n",
    "    \"path\": [],\n",
    "    \"datasets\": [],\n",
    "    \"discrimination_loss_weight\": [],\n",
    "    \"jerk_loss_weight\": [],\n",
    "    \"direct_model_error\": [],\n",
    "    \"inverse_error\": [],\n",
    "    \"discrimination_loss\": [],\n",
    "    \"jerk_loss\": [],\n",
    "    \"abx_global\": [],\n",
    "    \"abx_manner\": [],\n",
    "    \"abx_place\": []\n",
    "}\n",
    "\n",
    "for agent_alias, agent_path in tqdm(agents_alias.items()):\n",
    "    agent = CommunicativeAgent.reload(agent_path, load_nn=False)\n",
    "    main_dataset = Dataset(agent.sound_quantizer.config['dataset']['names'][0])\n",
    "    agent.config['dataset'] = {}\n",
    "    agent.config['dataset'][\"names\"] = [\"pb2007\"]\n",
    "    agent.config['dataset'] = agent.sound_quantizer.config['dataset']\n",
    "    agent.config['dataset']['sound_type'] = 'cepstrum'\n",
    "    \n",
    "    # Load logs in dictionnary\n",
    "    agents_loss['path'].append(agent_path)\n",
    "    agents_loss['datasets'].append(\",\".join(agent.sound_quantizer.config['dataset']['names']))\n",
    "    agents_loss['discrimination_loss_weight'].append(agent.config['training']['discriminator_loss_weight'])\n",
    "    agents_loss['jerk_loss_weight'].append(agent.config['training']['jerk_loss_weight'])\n",
    "    with open(\"%s/metrics.pickle\" % agent_path, \"rb\") as f:\n",
    "        metrics = pickle.load(f)\n",
    "    final_loss_index = np.argmin(metrics['validation']['inverse_model_repetition_error'])\n",
    "    agents_loss['direct_model_error'].append(metrics['test']['direct_model_estimation_error'][final_loss_index])\n",
    "    agents_loss['inverse_error'].append(metrics['test']['inverse_model_estimation_error'][final_loss_index])\n",
    "    agents_loss['discrimination_loss'].append(metrics['test']['fool_discrimination_loss'][final_loss_index])\n",
    "    agents_loss['jerk_loss'].append(metrics['test']['inverse_model_jerk'][final_loss_index])\n",
    "    \n",
    "    consonants = main_dataset.phones_infos[\"consonants\"]\n",
    "    vowels = main_dataset.phones_infos[\"vowels\"]\n",
    "    \n",
    "  \n",
    "    abx_matrix = agents_abx_matrices[agent_path][distance_signature]\n",
    "    groups_score = abx_utils.get_groups_score(consonants, abx_matrix, dataset.phones_infos[\"consonant_groups\"])\n",
    "    global_score = abx_utils.get_global_score(abx_matrix)\n",
    "    agents_loss[\"abx_manner\"].append(groups_score[\"manner\"])\n",
    "    agents_loss[\"abx_place\"].append(groups_score[\"place\"])\n",
    "    agents_loss[\"abx_global\"].append(global_score)\n",
    "    agent_abx_matrices[distance_signature] = abx_matrix\n",
    "\n",
    "agents_loss = pd.DataFrame(agents_loss)"
   ]
  },
  {
   "cell_type": "code",
   "execution_count": 12,
   "id": "2c57f6c7-9628-4c2c-8a0d-a4f5d05ab55a",
   "metadata": {},
   "outputs": [
    {
     "data": {
      "application/vnd.jupyter.widget-view+json": {
       "model_id": "ca9d1aefef724c0fa1863c2344893796",
       "version_major": 2,
       "version_minor": 0
      },
      "text/plain": [
       "interactive(children=(Dropdown(description='measure', index=8, options=('path', 'datasets', 'discrimination_lo…"
      ]
     },
     "metadata": {},
     "output_type": "display_data"
    }
   ],
   "source": [
    "import pandas as pd\n",
    "\n",
    "datasets = pd.unique(agents_loss[\"datasets\"])\n",
    "\n",
    "def show_top_agents(measure=\"abx_global\", datasets=datasets[0], ascending=False):\n",
    "    subset = agents_loss[agents_loss[\"datasets\"] == datasets]\n",
    "    display(subset.sort_values(measure, ascending=ascending).head(30))\n",
    "\n",
    "ipw.interactive(show_top_agents, measure=agents_loss, datasets=datasets, ascending=False)"
   ]
  },
  {
   "cell_type": "code",
   "execution_count": 13,
   "id": "d551a37d",
   "metadata": {},
   "outputs": [
    {
     "data": {
      "image/png": "[encoded data removed]",
      "text/plain": [
       "<Figure size 448.819x277.165 with 1 Axes>"
      ]
     },
     "metadata": {},
     "output_type": "display_data"
    }
   ],
   "source": [
    "agents_loss = agents_loss.sort_values(by='discrimination_loss_weight')\n",
    "\n",
    "\n",
    "matplotlib.rcParams['font.family'] = 'sans-serif'\n",
    "matplotlib.rcParams['font.serif'] = 'Arial'\n",
    "matplotlib.rcParams.update({'font.size': 10, 'legend.handleheight':1, 'hatch.linewidth': 1.0,\n",
    "                           'lines.markersize':5, 'lines.linewidth':1})\n",
    "\n",
    "cm = 1/2.54\n",
    "fig, ax = plt.subplots(1, 1, figsize=(11.4*cm,7.04*cm), constrained_layout=True)\n",
    "\n",
    "h = agents_loss['abx_place']\n",
    "x = range(0,len(h))\n",
    "ax.bar(x=x, height=h)\n",
    "ax.set_xticks(x)\n",
    "ax.set_xticklabels(agents_loss['discrimination_loss_weight'].values)\n",
    "ax.set_ylabel(\"ABX place (%)\")\n",
    "ax.set_xlabel(\"$\\lambda$\")\n",
    "ax.set_ylim(50, 100)\n",
    "plt.savefig('/home/engaclew/agent/out/communicative_agent/ABX_place_discrimination_loss.png', dpi=300)"
   ]
  },
  {
   "cell_type": "code",
   "execution_count": 2,
   "id": "001882d0",
   "metadata": {},
   "outputs": [
    {
     "name": "stdout",
     "output_type": "stream",
     "text": [
      "{'pb2007': [['item_0432', 'item_0071', 'item_0318', 'item_0566', 'item_0256', 'item_0656', 'item_0517', 'item_0084', 'item_0033', 'item_0856', 'item_0362', 'item_0337', 'item_1025', 'item_0860', 'item_0221', 'item_0913', 'item_0430', 'item_0285', 'item_0876', 'item_0636', 'item_0523', 'item_0510', 'item_0138', 'item_1059', 'item_0689', 'item_0019', 'item_0403', 'item_0565', 'item_0588', 'item_0841', 'item_0278', 'item_0861', 'item_0269', 'item_0792', 'item_0713', 'item_1107', 'item_0168', 'item_0601', 'item_0570', 'item_0075', 'item_0742', 'item_0745', 'item_0032', 'item_0726', 'item_0134', 'item_1055', 'item_0988', 'item_0825', 'item_0296', 'item_0921', 'item_0894', 'item_0416', 'item_0053', 'item_0457', 'item_0413', 'item_0066', 'item_0100', 'item_0363', 'item_0156', 'item_0945', 'item_0764', 'item_0911', 'item_1084', 'item_0840', 'item_0130', 'item_0216', 'item_0252', 'item_0370', 'item_0586', 'item_0899', 'item_0888', 'item_1034', 'item_0264', 'item_0077', 'item_1050', 'item_0217', 'item_0693', 'item_0272', 'item_0495', 'item_0444', 'item_0676', 'item_0283', 'item_1106', 'item_0829', 'item_0417', 'item_0878', 'item_0909', 'item_0852', 'item_0460', 'item_0668', 'item_0926', 'item_1015', 'item_0506', 'item_0995', 'item_0356', 'item_0238', 'item_0448', 'item_0060', 'item_0424', 'item_0131', 'item_0453', 'item_0096', 'item_0207', 'item_0503', 'item_0255', 'item_0551', 'item_0571', 'item_1052', 'item_0932', 'item_0155', 'item_0317', 'item_0189', 'item_0254', 'item_0313', 'item_0267', 'item_0620', 'item_0763', 'item_0211', 'item_0550', 'item_0973', 'item_0354', 'item_0815', 'item_0539', 'item_0240', 'item_0594', 'item_0787', 'item_0257', 'item_0553', 'item_0848', 'item_0026', 'item_0466', 'item_0492', 'item_0326', 'item_0261', 'item_0562', 'item_0983', 'item_0617', 'item_0015', 'item_0806', 'item_1073', 'item_0414', 'item_0379', 'item_0608', 'item_0758', 'item_0771', 'item_0533', 'item_1068', 'item_0200', 'item_0724', 'item_0807', 'item_1014', 'item_0014', 'item_0962', 'item_0655', 'item_0502', 'item_0312', 'item_0731', 'item_0904', 'item_0638', 'item_0488', 'item_0886', 'item_0360', 'item_0748', 'item_0299', 'item_1082', 'item_0305', 'item_0975', 'item_0321', 'item_0151', 'item_0177', 'item_0996', 'item_1018', 'item_0542', 'item_1079', 'item_0515', 'item_0678', 'item_0664', 'item_0710', 'item_0998', 'item_1037', 'item_0831', 'item_0949', 'item_0716', 'item_0545', 'item_0061', 'item_0879', 'item_0447', 'item_0487', 'item_0165', 'item_0464', 'item_0094', 'item_0422', 'item_0699', 'item_0968', 'item_0634', 'item_0509', 'item_1045', 'item_1000', 'item_0980', 'item_0186', 'item_0143', 'item_0106', 'item_0303', 'item_0548', 'item_0108', 'item_0452', 'item_0455', 'item_0029', 'item_0297', 'item_0232', 'item_0328', 'item_0846', 'item_0218', 'item_0442', 'item_1006', 'item_0969', 'item_0965', 'item_0030', 'item_0786', 'item_0970', 'item_0163', 'item_0775', 'item_0657', 'item_0472', 'item_0931', 'item_0897', 'item_0247', 'item_0616', 'item_0728', 'item_0302', 'item_0212', 'item_0727', 'item_0568', 'item_0507', 'item_0074', 'item_0843', 'item_0811', 'item_0462', 'item_0779', 'item_0104', 'item_1017', 'item_0440', 'item_0537', 'item_0372', 'item_1091', 'item_0179', 'item_0686', 'item_0473', 'item_0884', 'item_0890', 'item_1088', 'item_0833', 'item_0643', 'item_0304', 'item_1003', 'item_0844', 'item_0055', 'item_0808', 'item_0826', 'item_0288', 'item_0994', 'item_0048', 'item_0320', 'item_0623', 'item_0865', 'item_0412', 'item_1023', 'item_1066', 'item_0641', 'item_0579', 'item_0419', 'item_0311', 'item_0956', 'item_0985', 'item_0441', 'item_0910', 'item_0637', 'item_0377', 'item_0180', 'item_0315', 'item_0927', 'item_0654', 'item_0794', 'item_0658', 'item_0711', 'item_0747', 'item_0289', 'item_0161', 'item_1100', 'item_0093', 'item_0454', 'item_0938', 'item_0158', 'item_0940', 'item_0494', 'item_0646', 'item_0999', 'item_0181', 'item_0648', 'item_0249', 'item_0347', 'item_0712', 'item_1098', 'item_0021', 'item_0683', 'item_0754', 'item_0903', 'item_0095', 'item_0065', 'item_0538', 'item_0628', 'item_0615', 'item_0274', 'item_0895', 'item_0152', 'item_0665', 'item_0298', 'item_0804', 'item_0059', 'item_1007', 'item_0984', 'item_1002', 'item_0587', 'item_0621', 'item_0088', 'item_0292', 'item_0251', 'item_0188', 'item_0449', 'item_0589', 'item_0195', 'item_0685', 'item_0017', 'item_0930', 'item_1102', 'item_0933', 'item_0139', 'item_0580', 'item_0051', 'item_0374', 'item_0258', 'item_0684', 'item_0785', 'item_0162', 'item_0275', 'item_0184', 'item_0308', 'item_0691', 'item_0901', 'item_0353', 'item_0521', 'item_0868', 'item_0229', 'item_0733', 'item_0425', 'item_0823', 'item_0406', 'item_0459', 'item_0368', 'item_0389', 'item_0948', 'item_0064', 'item_0596', 'item_0474', 'item_0149', 'item_0822', 'item_0870', 'item_0135', 'item_0584', 'item_0721', 'item_0140', 'item_0717', 'item_0213', 'item_0040', 'item_1010', 'item_0722', 'item_0381', 'item_1062', 'item_1083', 'item_0842', 'item_0576', 'item_0600', 'item_0286', 'item_0215', 'item_0835', 'item_0661', 'item_0146', 'item_1093', 'item_0871', 'item_0463', 'item_0892', 'item_0144', 'item_0123', 'item_0729', 'item_0228', 'item_0121', 'item_0799', 'item_0450', 'item_0336', 'item_0961', 'item_0405', 'item_0458', 'item_0355', 'item_0480', 'item_0918', 'item_0954', 'item_0701', 'item_0518', 'item_0734', 'item_1074', 'item_0282', 'item_0992', 'item_0776', 'item_0118', 'item_0325', 'item_1043', 'item_0659', 'item_0310', 'item_0273', 'item_0812', 'item_0469', 'item_0905', 'item_0788', 'item_0766', 'item_0959', 'item_0172', 'item_0882', 'item_0522', 'item_0816', 'item_0028', 'item_0402', 'item_0534', 'item_0279', 'item_0662', 'item_0415', 'item_0137', 'item_0660', 'item_0796', 'item_1056', 'item_0020', 'item_0805', 'item_0546', 'item_0345', 'item_0720', 'item_0183', 'item_0555', 'item_0773', 'item_0222', 'item_0978', 'item_0798', 'item_0630', 'item_0762', 'item_0270', 'item_0443', 'item_0977', 'item_0476', 'item_0916', 'item_0467', 'item_0301', 'item_0025', 'item_0730', 'item_1077', 'item_0912', 'item_0357', 'item_0166', 'item_0220', 'item_0054', 'item_0349', 'item_0898', 'item_0085', 'item_0783', 'item_0770', 'item_0952', 'item_1090', 'item_1042', 'item_0830', 'item_1061', 'item_0167', 'item_0170', 'item_0386', 'item_1086', 'item_0679', 'item_0622', 'item_0044', 'item_1065', 'item_0847', 'item_0109', 'item_1001', 'item_0418', 'item_0380', 'item_1049', 'item_0133', 'item_0169', 'item_0991', 'item_0782', 'item_0208', 'item_0854', 'item_0935', 'item_0378', 'item_0199', 'item_0549', 'item_0192', 'item_0210', 'item_0624', 'item_0176', 'item_0832', 'item_0504', 'item_0902', 'item_0732', 'item_0111', 'item_0531', 'item_0011', 'item_1060', 'item_1039', 'item_0917', 'item_0743', 'item_0223', 'item_0544', 'item_0577', 'item_0237', 'item_0287', 'item_1036', 'item_0086', 'item_0741', 'item_0527', 'item_0768', 'item_0858', 'item_0821', 'item_0955', 'item_0735', 'item_0793', 'item_1044', 'item_0018', 'item_0205', 'item_0866', 'item_0190', 'item_0820', 'item_0012', 'item_0639', 'item_0874', 'item_0323', 'item_0383', 'item_1085', 'item_0153', 'item_0382', 'item_0873', 'item_0081', 'item_0114', 'item_0575', 'item_0939', 'item_0714', 'item_0281', 'item_0367', 'item_0692', 'item_1026', 'item_0946', 'item_0330', 'item_0501', 'item_0385', 'item_0178', 'item_0838', 'item_0202', 'item_0614', 'item_0346', 'item_0227', 'item_0259', 'item_0124', 'item_0041', 'item_0696', 'item_0091', 'item_0604', 'item_0598', 'item_0475', 'item_0532', 'item_0791', 'item_0552', 'item_0407', 'item_0358', 'item_0129', 'item_0083', 'item_0883', 'item_0875', 'item_0365', 'item_0080', 'item_0558', 'item_0122', 'item_0316', 'item_0023', 'item_0891', 'item_0197', 'item_0125', 'item_0224', 'item_0248', 'item_0411', 'item_0987', 'item_0350', 'item_0465', 'item_0751', 'item_0652', 'item_1063', 'item_0857', 'item_0706', 'item_0206', 'item_0837', 'item_0324', 'item_0468', 'item_1028', 'item_0755', 'item_0039', 'item_0477', 'item_0327', 'item_0633', 'item_0391', 'item_0914', 'item_0445', 'item_0881', 'item_0738', 'item_0569', 'item_1024', 'item_0049', 'item_0244', 'item_0034', 'item_0187', 'item_0198', 'item_1030', 'item_0103', 'item_0451', 'item_0543', 'item_0906', 'item_0855', 'item_0869', 'item_0547', 'item_1108', 'item_0707', 'item_0761', 'item_0632', 'item_0036', 'item_0859', 'item_0352', 'item_0703', 'item_0677', 'item_0486', 'item_1035', 'item_0050', 'item_0705', 'item_0920', 'item_0092', 'item_0300', 'item_0864', 'item_0078', 'item_0581', 'item_0530', 'item_0520', 'item_0105', 'item_0718', 'item_0828', 'item_0887', 'item_0818', 'item_0280', 'item_0120', 'item_0645', 'item_0456', 'item_0500', 'item_1072', 'item_0226', 'item_0979', 'item_0068', 'item_1058', 'item_0872', 'item_0682', 'item_0671', 'item_0772', 'item_0132', 'item_0951', 'item_0056', 'item_0610', 'item_0234', 'item_0038', 'item_0388', 'item_0989', 'item_0483', 'item_0670', 'item_0982', 'item_0182', 'item_0778', 'item_1019', 'item_0963', 'item_1101', 'item_1011', 'item_0907', 'item_0573', 'item_0164', 'item_0966', 'item_0102', 'item_0556', 'item_0174', 'item_0974', 'item_0063', 'item_0877', 'item_0409', 'item_0035', 'item_0681', 'item_0590', 'item_0814', 'item_0404', 'item_0008', 'item_0072', 'item_0375', 'item_0613', 'item_0627'], ['item_0295', 'item_0191', 'item_0997', 'item_0076', 'item_0485', 'item_0740', 'item_0058', 'item_0529', 'item_0976', 'item_0322', 'item_0809', 'item_0062', 'item_0070', 'item_1054', 'item_0293', 'item_1005', 'item_0574', 'item_0069', 'item_0204', 'item_0115', 'item_0290', 'item_0344', 'item_0042', 'item_1038', 'item_0669', 'item_1087', 'item_0625', 'item_0489', 'item_0690', 'item_0635', 'item_1095', 'item_0941', 'item_0265', 'item_0369', 'item_0277', 'item_0185', 'item_0242', 'item_1051', 'item_0426', 'item_0680', 'item_0193', 'item_0022', 'item_0175', 'item_0268', 'item_0373', 'item_1004', 'item_1089', 'item_0561', 'item_0777', 'item_0511', 'item_0484', 'item_0960', 'item_0667', 'item_0750', 'item_0784', 'item_0047', 'item_0113', 'item_1027', 'item_0928', 'item_1097', 'item_0110', 'item_0708', 'item_0953', 'item_0746', 'item_0157', 'item_0408', 'item_0578', 'item_0824', 'item_0801', 'item_0672', 'item_0591', 'item_0698', 'item_0795', 'item_1067', 'item_1081', 'item_0098', 'item_0605', 'item_0800', 'item_1048', 'item_0687', 'item_1016', 'item_0525', 'item_0709', 'item_0923', 'item_0981', 'item_0739', 'item_0688', 'item_0541', 'item_0099', 'item_1092', 'item_1078', 'item_0715', 'item_0599', 'item_0173', 'item_0749', 'item_0126', 'item_0329', 'item_0563', 'item_0971', 'item_0700', 'item_0817', 'item_0478', 'item_0936', 'item_0649', 'item_0514', 'item_1012', 'item_0925', 'item_0827', 'item_0915', 'item_0057', 'item_0908', 'item_0498', 'item_0990', 'item_0493', 'item_0276', 'item_1105', 'item_0479', 'item_0813', 'item_0836', 'item_0572', 'item_0851', 'item_0219', 'item_1104', 'item_0148', 'item_0757', 'item_0253', 'item_1040', 'item_0554', 'item_0919', 'item_0958', 'item_0410', 'item_0760', 'item_0201', 'item_0376', 'item_0675', 'item_0420', 'item_0756', 'item_0231', 'item_0233', 'item_0343', 'item_0597', 'item_0723', 'item_0516', 'item_0482', 'item_1041', 'item_0629', 'item_0481', 'item_0850', 'item_0243', 'item_0964', 'item_0944', 'item_0885', 'item_0889', 'item_1033', 'item_0073', 'item_0631', 'item_1064', 'item_0849', 'item_0263', 'item_0159', 'item_0797', 'item_0101', 'item_0294', 'item_0319', 'item_0937', 'item_1099', 'item_0196', 'item_0079', 'item_0250', 'item_1057', 'item_0767', 'item_0209', 'item_0666', 'item_1008', 'item_0090', 'item_0972', 'item_0052'], ['item_0000', 'item_0001', 'item_0002', 'item_0003', 'item_0004', 'item_0005', 'item_0006', 'item_0007', 'item_0010', 'item_0331', 'item_0332', 'item_0333', 'item_0334', 'item_0335', 'item_0338', 'item_0339', 'item_0340', 'item_0341', 'item_0342', 'item_0392', 'item_0393', 'item_0394', 'item_0395', 'item_0396', 'item_0397', 'item_0398', 'item_0399', 'item_0400', 'item_0401', 'item_0427', 'item_0428', 'item_0429', 'item_0433', 'item_0434', 'item_0435', 'item_0436', 'item_0437', 'item_0438', 'item_0439', 'item_0560', 'item_0694', 'item_1094', 'item_0790', 'item_0309', 'item_0862', 'item_1029', 'item_0602', 'item_0431', 'item_0674', 'item_0147', 'item_0640', 'item_0016', 'item_0603', 'item_1022', 'item_0045', 'item_0725', 'item_0082', 'item_0535', 'item_0262', 'item_0957', 'item_0067', 'item_0364', 'item_0780', 'item_0314', 'item_0924', 'item_1020', 'item_0526', 'item_0171', 'item_0993', 'item_0266', 'item_0753', 'item_0752', 'item_1076', 'item_0361', 'item_1053', 'item_0695', 'item_0142', 'item_0929', 'item_0499', 'item_1075', 'item_0651', 'item_0194', 'item_0559', 'item_0043', 'item_0031', 'item_0943', 'item_0986', 'item_0644', 'item_0387', 'item_0853', 'item_0607', 'item_0291', 'item_0214', 'item_0384', 'item_1047', 'item_0950', 'item_0471', 'item_0653', 'item_0154', 'item_0390', 'item_0136', 'item_0673', 'item_0230', 'item_0013', 'item_0239', 'item_1096', 'item_0119', 'item_0765', 'item_0845', 'item_0967', 'item_0271', 'item_0609', 'item_0027', 'item_0307', 'item_0896', 'item_0505', 'item_0583', 'item_0470', 'item_0490', 'item_0834', 'item_0704', 'item_0592', 'item_0737', 'item_0593', 'item_1013', 'item_0540', 'item_0880', 'item_0235', 'item_0089', 'item_0145', 'item_0260', 'item_0595', 'item_0606', 'item_0900', 'item_0536', 'item_0744', 'item_0497', 'item_0107', 'item_0642', 'item_0246', 'item_1021', 'item_0112', 'item_0759', 'item_0351', 'item_0203', 'item_0128', 'item_0009', 'item_0097', 'item_0947', 'item_0366', 'item_0557', 'item_0819', 'item_0423', 'item_1069', 'item_0934', 'item_0117', 'item_0491', 'item_0160', 'item_0839', 'item_0524', 'item_0774', 'item_0116', 'item_0736', 'item_1080', 'item_0626', 'item_0371', 'item_0284', 'item_0769', 'item_0867', 'item_0127', 'item_0719', 'item_0582', 'item_1070', 'item_0619', 'item_1103', 'item_0348', 'item_1032', 'item_0564', 'item_0421', 'item_0508', 'item_0519', 'item_0789', 'item_1009', 'item_0650', 'item_0922', 'item_0046', 'item_0496', 'item_1046', 'item_0663', 'item_0150', 'item_0241', 'item_0697', 'item_0567', 'item_0702', 'item_0942', 'item_0803', 'item_0585', 'item_0647', 'item_0893', 'item_0612', 'item_0461', 'item_0446', 'item_0810', 'item_0225', 'item_1031', 'item_1071', 'item_0037', 'item_0359', 'item_0528', 'item_0618', 'item_0236', 'item_0245', 'item_0781', 'item_0024', 'item_0513', 'item_0306', 'item_0087', 'item_0802', 'item_0611', 'item_0141', 'item_0863', 'item_0512']]}\n"
     ]
    }
   ],
   "source": [
    "import random\n",
    "\n",
    "from lib.dataset_wrapper import Dataset\n",
    "\n",
    "TEST_ITEMS = {\n",
    "    \"pb2007\": [\n",
    "        \"item_0000\",\n",
    "        \"item_0001\",\n",
    "        \"item_0002\",\n",
    "        \"item_0003\",\n",
    "        \"item_0004\",\n",
    "        \"item_0005\",\n",
    "        \"item_0006\",\n",
    "        \"item_0007\",\n",
    "        \"item_0010\",\n",
    "        \"item_0331\",\n",
    "        \"item_0332\",\n",
    "        \"item_0333\",\n",
    "        \"item_0334\",\n",
    "        \"item_0335\",\n",
    "        \"item_0338\",\n",
    "        \"item_0339\",\n",
    "        \"item_0340\",\n",
    "        \"item_0341\",\n",
    "        \"item_0342\",\n",
    "        \"item_0392\",\n",
    "        \"item_0393\",\n",
    "        \"item_0394\",\n",
    "        \"item_0395\",\n",
    "        \"item_0396\",\n",
    "        \"item_0397\",\n",
    "        \"item_0398\",\n",
    "        \"item_0399\",\n",
    "        \"item_0400\",\n",
    "        \"item_0401\",\n",
    "        \"item_0427\",\n",
    "        \"item_0428\",\n",
    "        \"item_0429\",\n",
    "        \"item_0433\",\n",
    "        \"item_0434\",\n",
    "        \"item_0435\",\n",
    "        \"item_0436\",\n",
    "        \"item_0437\",\n",
    "        \"item_0438\",\n",
    "        \"item_0439\",\n",
    "    ]\n",
    "}\n",
    "SPLITS_SIZE = [64, 16, 20]\n",
    "\n",
    "datasplits = {}\n",
    "for dataset_name, test_items in TEST_ITEMS.items():\n",
    "    dataset = Dataset(dataset_name)\n",
    "    dataset_items = dataset.get_items_name(\"cepstrum\")\n",
    "    nb_items = len(dataset_items)\n",
    "    for test_item in test_items:\n",
    "        dataset_items.remove(test_item)\n",
    "    random.shuffle(dataset_items)\n",
    "\n",
    "    train_set_len = round(nb_items / 100 * SPLITS_SIZE[0])\n",
    "    validation_set_len = round(nb_items / 100 * SPLITS_SIZE[1])\n",
    "    train_set = dataset_items[:train_set_len]\n",
    "    dataset_items = dataset_items[train_set_len:]\n",
    "    validation_set = dataset_items[:validation_set_len]\n",
    "    dataset_items = dataset_items[validation_set_len:]\n",
    "    test_set = [*test_items, *dataset_items]\n",
    "    datasplits[dataset_name] = [train_set, validation_set, test_set]\n",
    "print(datasplits)\n",
    "# quantizer.datasplits = datasplits\n"
   ]
  }
 ],
 "metadata": {
  "kernelspec": {
   "display_name": "Python 3",
   "language": "python",
   "name": "python3"
  },
  "language_info": {
   "codemirror_mode": {
    "name": "ipython",
    "version": 3
   },
   "file_extension": ".py",
   "mimetype": "text/x-python",
   "name": "python",
   "nbconvert_exporter": "python",
   "pygments_lexer": "ipython3",
   "version": "3.7.12"
  }
 },
 "nbformat": 4,
 "nbformat_minor": 5
}
