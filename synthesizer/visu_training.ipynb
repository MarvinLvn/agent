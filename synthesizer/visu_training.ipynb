{
 "cells": [
  {
   "cell_type": "code",
   "execution_count": 2,
   "id": "40c96bcd-cb60-4953-a712-8459816a8371",
   "metadata": {},
   "outputs": [],
   "source": [
    "import sys\n",
    "sys.path.append(\"..\")\n",
    "\n",
    "from glob import glob\n",
    "import matplotlib.pyplot as plt\n",
    "import ipywidgets as ipw\n",
    "from IPython.display import Audio\n",
    "import numpy as np\n",
    "import pickle\n",
    "import yaml\n",
    "import pandas as pd\n",
    "\n",
    "from lib.notebooks import plot_groups_metrics\n",
    "from synthesizer import Synthesizer"
   ]
  },
  {
   "cell_type": "code",
   "execution_count": 3,
   "id": "3a11cf91-bd36-4b70-883f-9da1a9b889a5",
   "metadata": {},
   "outputs": [],
   "source": [
    "#synthesizers_path = glob(\"../out/synthesizer/*/\")\n",
    "#synthesizers_path.sort()\n",
    "synthesizers_path = ['../out/synthesizer/mel_synth']"
   ]
  },
  {
   "cell_type": "code",
   "execution_count": 4,
   "id": "b5e129f0-9df3-4c74-939e-7bcdaaea6414",
   "metadata": {},
   "outputs": [],
   "source": [
    "groups_metrics = {}\n",
    "synthesizers_loss = {\n",
    "    \"path\": [],\n",
    "    \"dataset\": [],\n",
    "    \"hidden_layers\": [],\n",
    "    \"dropout_p\": [],\n",
    "    \"learning_rate\": [],\n",
    "    \"final_loss\": [],\n",
    "}\n",
    "\n",
    "for synthesizer_path in synthesizers_path:\n",
    "    synthesizer = Synthesizer.reload(synthesizer_path, load_nn=False)\n",
    "    config = synthesizer.config\n",
    "    with open(\"%s/metrics.pickle\" % synthesizer_path, \"rb\") as f:\n",
    "        metrics = pickle.load(f)\n",
    "    final_loss = min(metrics[\"validation\"][\"total\"])\n",
    "    \n",
    "    synthesizers_loss[\"path\"].append(synthesizer_path[-5:])\n",
    "    synthesizers_loss[\"dataset\"].append(config['dataset']['name'])\n",
    "    synthesizers_loss[\"hidden_layers\"].append(f\"{len(config['model']['hidden_layers'])}x{config['model']['hidden_layers'][0]}\")\n",
    "    synthesizers_loss[\"dropout_p\"].append(config['model']['dropout_p'])\n",
    "    synthesizers_loss[\"learning_rate\"].append(config['training']['learning_rate'])\n",
    "    synthesizers_loss[\"final_loss\"].append(final_loss)\n",
    "    \n",
    "    group_name = \"\\n\".join((\n",
    "        f\"{config['dataset']['name']}\",\n",
    "        f\"hidden_layers={len(config['model']['hidden_layers'])}x{config['model']['hidden_layers'][0]}\",\n",
    "    ))\n",
    "    \n",
    "    if group_name not in groups_metrics:\n",
    "        groups_metrics[group_name] = {}\n",
    "    groups_metrics[group_name][synthesizer_path] = metrics\n",
    "\n",
    "synthesizers_loss = pd.DataFrame(synthesizers_loss)"
   ]
  },
  {
   "cell_type": "code",
   "execution_count": 7,
   "id": "e28298c1-93b2-4279-b93d-275bcfba089d",
   "metadata": {},
   "outputs": [
    {
     "data": {
      "text/html": [
       "<div>\n",
       "<style scoped>\n",
       "    .dataframe tbody tr th:only-of-type {\n",
       "        vertical-align: middle;\n",
       "    }\n",
       "\n",
       "    .dataframe tbody tr th {\n",
       "        vertical-align: top;\n",
       "    }\n",
       "\n",
       "    .dataframe thead th {\n",
       "        text-align: right;\n",
       "    }\n",
       "</style>\n",
       "<table border=\"1\" class=\"dataframe\">\n",
       "  <thead>\n",
       "    <tr style=\"text-align: right;\">\n",
       "      <th></th>\n",
       "      <th>path</th>\n",
       "      <th>dataset</th>\n",
       "      <th>hidden_layers</th>\n",
       "      <th>dropout_p</th>\n",
       "      <th>learning_rate</th>\n",
       "      <th>final_loss</th>\n",
       "    </tr>\n",
       "  </thead>\n",
       "  <tbody>\n",
       "    <tr>\n",
       "      <th>0</th>\n",
       "      <td>synth</td>\n",
       "      <td>pb2009</td>\n",
       "      <td>4x512</td>\n",
       "      <td>0.05</td>\n",
       "      <td>0.0005</td>\n",
       "      <td>0.432402</td>\n",
       "    </tr>\n",
       "  </tbody>\n",
       "</table>\n",
       "</div>"
      ],
      "text/plain": [
       "    path dataset hidden_layers  dropout_p  learning_rate  final_loss\n",
       "0  synth  pb2009         4x512       0.05         0.0005    0.432402"
      ]
     },
     "execution_count": 7,
     "metadata": {},
     "output_type": "execute_result"
    }
   ],
   "source": [
    "synthesizers_loss.sort_values(\"final_loss\").head(20)"
   ]
  },
  {
   "cell_type": "code",
   "execution_count": 6,
   "id": "530c2975-aeb1-4129-8ac8-af0abc7cdfb6",
   "metadata": {},
   "outputs": [
    {
     "data": {
      "application/vnd.jupyter.widget-view+json": {
       "model_id": "e9aad0b6ba194e88873246250f09a087",
       "version_major": 2,
       "version_minor": 0
      },
      "text/plain": [
       "interactive(children=(Dropdown(description='split_name', index=1, options=('train', 'validation'), value='vali…"
      ]
     },
     "metadata": {},
     "output_type": "display_data"
    }
   ],
   "source": [
    "metrics_name = [\n",
    "    \"total\",\n",
    "]\n",
    "\n",
    "def show_metrics(split_name=\"validation\"):\n",
    "    plot_groups_metrics(groups_metrics, metrics_name, split_name)\n",
    "display(ipw.interactive(show_metrics, split_name=[\"train\", \"validation\"]))"
   ]
  },
  {
   "cell_type": "code",
   "execution_count": null,
   "id": "446b316a-78a1-4269-bd99-1b03f24280d3",
   "metadata": {},
   "outputs": [],
   "source": []
  }
 ],
 "metadata": {
  "kernelspec": {
   "display_name": "Python 3",
   "language": "python",
   "name": "python3"
  },
  "language_info": {
   "codemirror_mode": {
    "name": "ipython",
    "version": 3
   },
   "file_extension": ".py",
   "mimetype": "text/x-python",
   "name": "python",
   "nbconvert_exporter": "python",
   "pygments_lexer": "ipython3",
   "version": "3.8.19"
  }
 },
 "nbformat": 4,
 "nbformat_minor": 5
}
