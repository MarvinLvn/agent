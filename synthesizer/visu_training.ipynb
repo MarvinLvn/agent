{
 "cells": [
  {
   "cell_type": "code",
   "execution_count": 1,
   "id": "40c96bcd-cb60-4953-a712-8459816a8371",
   "metadata": {},
   "outputs": [],
   "source": [
    "import sys\n",
    "sys.path.append(\"..\")\n",
    "\n",
    "from glob import glob\n",
    "import matplotlib.pyplot as plt\n",
    "import ipywidgets as ipw\n",
    "from IPython.display import Audio\n",
    "import numpy as np\n",
    "import pickle\n",
    "import yaml\n",
    "import pandas as pd\n",
    "\n",
    "from lib.notebooks import plot_groups_metrics\n",
    "from synthesizer import Synthesizer"
   ]
  },
  {
   "cell_type": "code",
   "execution_count": 11,
   "id": "3a11cf91-bd36-4b70-883f-9da1a9b889a5",
   "metadata": {},
   "outputs": [],
   "source": [
    "synthesizers_path = glob(\"../out/synthesizer/*/\")\n",
    "synthesizers_path.sort()"
   ]
  },
  {
   "cell_type": "code",
   "execution_count": null,
   "id": "b5e129f0-9df3-4c74-939e-7bcdaaea6414",
   "metadata": {},
   "outputs": [],
   "source": [
    "groups_metrics = {}\n",
    "synthesizers_loss = {\n",
    "    \"path\": [],\n",
    "    \"dataset\": [],\n",
    "    \"hidden_layers\": [],\n",
    "    \"dropout_p\": [],\n",
    "    \"learning_rate\": [],\n",
    "    \"final_loss\": [],\n",
    "}\n",
    "\n",
    "for synthesizer_path in synthesizers_path:\n",
    "    synthesizer = Synthesizer.reload(synthesizer_path, load_nn=False)\n",
    "    config = synthesizer.config\n",
    "    with open(\"%s/metrics.pickle\" % synthesizer_path, \"rb\") as f:\n",
    "        metrics = pickle.load(f)\n",
    "    final_loss = min(metrics[\"validation\"][\"total\"])\n",
    "    \n",
    "    synthesizers_loss[\"path\"].append(synthesizer_path[-5:])\n",
    "    synthesizers_loss[\"dataset\"].append(config['dataset']['name'])\n",
    "    synthesizers_loss[\"hidden_layers\"].append(f\"{len(config['model']['hidden_layers'])}x{config['model']['hidden_layers'][0]}\")\n",
    "    synthesizers_loss[\"dropout_p\"].append(config['model']['dropout_p'])\n",
    "    synthesizers_loss[\"learning_rate\"].append(config['training']['learning_rate'])\n",
    "    synthesizers_loss[\"final_loss\"].append(final_loss)\n",
    "    \n",
    "    group_name = \"\\n\".join((\n",
    "        f\"{config['dataset']['name']}\",\n",
    "        f\"hidden_layers={len(config['model']['hidden_layers'])}x{config['model']['hidden_layers'][0]}\",\n",
    "    ))\n",
    "    \n",
    "    if group_name not in groups_metrics:\n",
    "        groups_metrics[group_name] = {}\n",
    "    groups_metrics[group_name][synthesizer_path] = metrics\n",
    "\n",
    "synthesizers_loss = pd.DataFrame(synthesizers_loss)"
   ]
  },
  {
   "cell_type": "code",
   "execution_count": null,
   "id": "e28298c1-93b2-4279-b93d-275bcfba089d",
   "metadata": {},
   "outputs": [],
   "source": [
    "synthesizers_loss.sort_values(\"final_loss\").head(20)"
   ]
  },
  {
   "cell_type": "code",
   "execution_count": 7,
   "id": "530c2975-aeb1-4129-8ac8-af0abc7cdfb6",
   "metadata": {},
   "outputs": [
    {
     "data": {
      "application/vnd.jupyter.widget-view+json": {
       "model_id": "439e905d3ee3461a935af716292bf15c",
       "version_major": 2,
       "version_minor": 0
      },
      "text/plain": [
       "interactive(children=(Dropdown(description='split_name', index=1, options=('train', 'validation'), value='vali…"
      ]
     },
     "metadata": {},
     "output_type": "display_data"
    }
   ],
   "source": [
    "metrics_name = [\n",
    "    \"total\",\n",
    "]\n",
    "\n",
    "def show_metrics(split_name=\"validation\"):\n",
    "    plot_groups_metrics(groups_metrics, metrics_name, split_name)\n",
    "display(ipw.interactive(show_metrics, split_name=[\"train\", \"validation\"]))"
   ]
  },
  {
   "cell_type": "code",
   "execution_count": null,
   "id": "446b316a-78a1-4269-bd99-1b03f24280d3",
   "metadata": {},
   "outputs": [],
   "source": []
  }
 ],
 "metadata": {
  "kernelspec": {
   "display_name": "Python 3",
   "language": "python",
   "name": "python3"
  },
  "language_info": {
   "codemirror_mode": {
    "name": "ipython",
    "version": 3
   },
   "file_extension": ".py",
   "mimetype": "text/x-python",
   "name": "python",
   "nbconvert_exporter": "python",
   "pygments_lexer": "ipython3",
   "version": "3.7.5"
  }
 },
 "nbformat": 4,
 "nbformat_minor": 5
}
